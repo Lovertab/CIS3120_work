{
  "nbformat": 4,
  "nbformat_minor": 0,
  "metadata": {
    "celltoolbar": "Slideshow",
    "kernelspec": {
      "display_name": "Python 3",
      "language": "python",
      "name": "python3"
    },
    "language_info": {
      "codemirror_mode": {
        "name": "ipython",
        "version": 3
      },
      "file_extension": ".py",
      "mimetype": "text/x-python",
      "name": "python",
      "nbconvert_exporter": "python",
      "pygments_lexer": "ipython3",
      "version": "3.6.4rc1"
    },
    "colab": {
      "name": "Lecture 8.ipynb",
      "provenance": []
    }
  },
  "cells": [
    {
      "cell_type": "markdown",
      "metadata": {
        "id": "K43gUeKQHdQk"
      },
      "source": [
        "\n",
        "## Dictionaries"
      ]
    },
    {
      "cell_type": "markdown",
      "metadata": {
        "id": "Rc7DdMOhHdQl"
      },
      "source": [
        "# Dictionaries\n",
        "\n",
        "Dictionary in Python is an unordered collection of data values, used to store data values like a map, which unlike other Data Types that hold only single value as an element, Dictionary holds key:value pair."
      ]
    },
    {
      "cell_type": "markdown",
      "metadata": {
        "id": "7QcyvRAtHdQm"
      },
      "source": [
        "## Create and print a dictionary:"
      ]
    },
    {
      "cell_type": "code",
      "metadata": {
        "id": "ghhIganFHdQn",
        "outputId": "f29ed99a-9a7a-4170-b1f6-5437cec1a879",
        "colab": {
          "base_uri": "https://localhost:8080/"
        }
      },
      "source": [
        "# example 1\n",
        "\n",
        "records = {\n",
        "  \"brand\": \"Ford\",\n",
        "  \"model\": \"Mustang\",\n",
        "  \"year\": 1964\n",
        "}\n",
        "print(records) #Here records is a dictionary"
      ],
      "execution_count": 1,
      "outputs": [
        {
          "output_type": "stream",
          "name": "stdout",
          "text": [
            "{'brand': 'Ford', 'model': 'Mustang', 'year': 1964}\n"
          ]
        }
      ]
    },
    {
      "cell_type": "code",
      "metadata": {
        "id": "PnkDmcfDHdQs",
        "colab": {
          "base_uri": "https://localhost:8080/"
        },
        "outputId": "e8daafd4-bd02-48f0-96d3-c94478127c31"
      },
      "source": [
        "#Example 2\n",
        "d={} #Here d is an empty dictionary\n",
        "d[1]='one'\n",
        "d[2]='two'\n",
        "d['number']=3\n",
        "d[6.2]=6\n",
        "print(d)\n",
        "\n",
        "\n",
        "\n",
        "\n"
      ],
      "execution_count": 2,
      "outputs": [
        {
          "output_type": "stream",
          "name": "stdout",
          "text": [
            "{1: 'one', 2: 'two', 'number': 3, 6.2: 6}\n"
          ]
        }
      ]
    },
    {
      "cell_type": "markdown",
      "metadata": {
        "id": "mIkPeXTsHdQv"
      },
      "source": [
        "## Accessing Items\n",
        "\n",
        "You can access the items of a dictionary by referring to its key name, inside square brackets:"
      ]
    },
    {
      "cell_type": "code",
      "metadata": {
        "id": "bhOw3yUDHdQw",
        "outputId": "ad17a2d3-7a91-4841-ce06-edddcb92f17f",
        "colab": {
          "base_uri": "https://localhost:8080/"
        }
      },
      "source": [
        "#Get the value of the \"model\" key:\n",
        "records = {\n",
        "  \"brand\": \"Ford\",\n",
        "  \"model\": \"Mustang\",\n",
        "  \"year\": 1964\n",
        "}\n",
        "\n",
        "x = records[\"model\"]\n",
        "print (x)\n"
      ],
      "execution_count": 3,
      "outputs": [
        {
          "output_type": "stream",
          "name": "stdout",
          "text": [
            "Mustang\n"
          ]
        }
      ]
    },
    {
      "cell_type": "markdown",
      "metadata": {
        "id": "Xy2eF_s1HdQz"
      },
      "source": [
        "### There is also a method called get() that will give you the same result:"
      ]
    },
    {
      "cell_type": "code",
      "metadata": {
        "id": "RqC2kH_-HdQ0",
        "outputId": "3e486606-5340-42fd-f15d-12c9f04ffac9",
        "colab": {
          "base_uri": "https://localhost:8080/"
        }
      },
      "source": [
        "#Get the value of the \"model\" key:\n",
        "records = {\n",
        "  \"brand\": \"Ford\",\n",
        "  \"model\": \"Mustang\",\n",
        "  \"year\": 1964\n",
        "}\n",
        "\n",
        "x = records.get(\"model\")\n",
        "print(x)"
      ],
      "execution_count": 4,
      "outputs": [
        {
          "output_type": "stream",
          "name": "stdout",
          "text": [
            "Mustang\n"
          ]
        }
      ]
    },
    {
      "cell_type": "markdown",
      "metadata": {
        "id": "Zgy0s16rHdQ3"
      },
      "source": [
        "# Change Values\n",
        "You can change the value of a specific item by referring to its key name:"
      ]
    },
    {
      "cell_type": "code",
      "metadata": {
        "id": "Nkp3eXh_HdQ3",
        "outputId": "755bc2ed-c772-43c7-ef02-dd2b9e9c7a27",
        "colab": {
          "base_uri": "https://localhost:8080/"
        }
      },
      "source": [
        "#Change the \"year\" to 2018:\n",
        "records = {\n",
        "  \"brand\": \"Ford\",\n",
        "  \"model\": \"Mustang\",\n",
        "  \"year\": 1964\n",
        "}\n",
        "records[\"year\"] = 2018\n",
        "print(records)"
      ],
      "execution_count": 5,
      "outputs": [
        {
          "output_type": "stream",
          "name": "stdout",
          "text": [
            "{'brand': 'Ford', 'model': 'Mustang', 'year': 2018}\n"
          ]
        }
      ]
    },
    {
      "cell_type": "code",
      "metadata": {
        "id": "Gjc8CNNqHdQ6",
        "colab": {
          "base_uri": "https://localhost:8080/"
        },
        "outputId": "50934995-21a5-4f5b-865d-ad40d0eae7ba"
      },
      "source": [
        "#Old values can get overwritten \n",
        "d[2]='five'\n",
        "\n",
        "d"
      ],
      "execution_count": 6,
      "outputs": [
        {
          "output_type": "execute_result",
          "data": {
            "text/plain": [
              "{1: 'one', 2: 'five', 6.2: 6, 'number': 3}"
            ]
          },
          "metadata": {},
          "execution_count": 6
        }
      ]
    },
    {
      "cell_type": "markdown",
      "metadata": {
        "id": "6smD1ApYHdQ9"
      },
      "source": [
        "- <span style=\"color:red\"> **keys** </span> is a method in dictionary which returns keys\n",
        "- <span style=\"color:red\"> **values** </span> is a method in dictionary which returns values\n",
        "- <span style=\"color:red\"> **items** </span> is a method in dictionary which returns a list of tuples where each tuple is a key-value pair"
      ]
    },
    {
      "cell_type": "code",
      "metadata": {
        "id": "SSiGy5_8HdQ9",
        "colab": {
          "base_uri": "https://localhost:8080/"
        },
        "outputId": "9ba02d1c-6b90-45a7-a3e6-4fc443d34731"
      },
      "source": [
        "d={1:'one', 2:'two', 3:'three'}\n",
        "d1=d.keys()\n",
        "print(d1)   #prints the keys as a list\n",
        "\n",
        "d2=d.values()\n",
        "print(d2)   #prints the values as a list\n",
        "\n",
        "d3=d.items()\n",
        "print(d3)   #prints the list of tuples\n",
        "\n"
      ],
      "execution_count": 7,
      "outputs": [
        {
          "output_type": "stream",
          "name": "stdout",
          "text": [
            "dict_keys([1, 2, 3])\n",
            "dict_values(['one', 'two', 'three'])\n",
            "dict_items([(1, 'one'), (2, 'two'), (3, 'three')])\n"
          ]
        }
      ]
    },
    {
      "cell_type": "markdown",
      "metadata": {
        "id": "QbAYBSNiHdRA"
      },
      "source": [
        "## Loop Through a Dictionary\n",
        "### You can loop through a dictionary by using a for loop.\n",
        "\n",
        "### When looping through a dictionary, the return value are the keys of the dictionary, but there are methods to return the values as well."
      ]
    },
    {
      "cell_type": "code",
      "metadata": {
        "id": "cl8AuQ48HdRA",
        "outputId": "ba88707d-8ac0-49ad-99b9-ed2e0d23e01d",
        "colab": {
          "base_uri": "https://localhost:8080/"
        }
      },
      "source": [
        "#Print all key names in the dictionary, one by one:\n",
        "records = {\n",
        "  \"brand\": \"Ford\",\n",
        "  \"model\": \"Mustang\",\n",
        "  \"year\": 1964\n",
        "}\n",
        "for x in records:\n",
        "    print(x)"
      ],
      "execution_count": 8,
      "outputs": [
        {
          "output_type": "stream",
          "name": "stdout",
          "text": [
            "brand\n",
            "model\n",
            "year\n"
          ]
        }
      ]
    },
    {
      "cell_type": "code",
      "metadata": {
        "id": "E4cT5dqlHdRE",
        "outputId": "87a8996f-759c-4a0e-d2aa-3d676744aabd",
        "colab": {
          "base_uri": "https://localhost:8080/"
        }
      },
      "source": [
        "#Print all values in the dictionary, one by one:\n",
        "records = {\n",
        "  \"brand\": \"Ford\",\n",
        "  \"model\": \"Mustang\",\n",
        "  \"year\": 1964\n",
        "}\n",
        "for x in records:\n",
        "    print(records[x])"
      ],
      "execution_count": 9,
      "outputs": [
        {
          "output_type": "stream",
          "name": "stdout",
          "text": [
            "Ford\n",
            "Mustang\n",
            "1964\n"
          ]
        }
      ]
    },
    {
      "cell_type": "code",
      "metadata": {
        "id": "2oqyDkULHdRH",
        "outputId": "3ab6208f-3121-465a-b3be-6d0c1f0cbfc9",
        "colab": {
          "base_uri": "https://localhost:8080/"
        }
      },
      "source": [
        "#You can also use the values() function to return values of a dictionary:\n",
        "records = {\n",
        "  \"brand\": \"Ford\",\n",
        "  \"model\": \"Mustang\",\n",
        "  \"year\": 1964\n",
        "}\n",
        "for x in records.values():\n",
        "    print(x)\n"
      ],
      "execution_count": 10,
      "outputs": [
        {
          "output_type": "stream",
          "name": "stdout",
          "text": [
            "Ford\n",
            "Mustang\n",
            "1964\n"
          ]
        }
      ]
    },
    {
      "cell_type": "code",
      "metadata": {
        "id": "JM8HwR1RHdRJ",
        "outputId": "7d85490b-dc32-4092-d0fa-de938cde1faa",
        "colab": {
          "base_uri": "https://localhost:8080/"
        }
      },
      "source": [
        "#Loop through both keys and values, by using the items() function:\n",
        "records = {\n",
        "  \"brand\": \"Ford\",\n",
        "  \"model\": \"Mustang\",\n",
        "  \"year\": 1964\n",
        "}\n",
        "for x, y in records.items():\n",
        "    print(x, y)\n"
      ],
      "execution_count": 11,
      "outputs": [
        {
          "output_type": "stream",
          "name": "stdout",
          "text": [
            "brand Ford\n",
            "model Mustang\n",
            "year 1964\n"
          ]
        }
      ]
    },
    {
      "cell_type": "markdown",
      "metadata": {
        "id": "dnJ9kxoOHdRL"
      },
      "source": [
        "## Check if Key Exists\n",
        "### To determine if a specified key is present in a dictionary use the <span style=\"color:red\"> **in** </span>  keyword:"
      ]
    },
    {
      "cell_type": "code",
      "metadata": {
        "id": "x-PM8ZbNHdRL",
        "outputId": "8eeead70-b704-411b-f4f6-849e856b37bd",
        "colab": {
          "base_uri": "https://localhost:8080/"
        }
      },
      "source": [
        "#Check if \"model\" is present in the dictionary:\n",
        "\n",
        "records = {\n",
        "  \"brand\": \"Ford\",\n",
        "  \"model\": \"Mustang\",\n",
        "  \"year\": 1964\n",
        "}\n",
        "if \"model\" in records:\n",
        "    print(\"Yes, 'model' is one of the keys in the records dictionary\")\n"
      ],
      "execution_count": 12,
      "outputs": [
        {
          "output_type": "stream",
          "name": "stdout",
          "text": [
            "Yes, 'model' is one of the keys in the records dictionary\n"
          ]
        }
      ]
    },
    {
      "cell_type": "markdown",
      "metadata": {
        "id": "D3ksYv4eHdRO"
      },
      "source": [
        "## Dictionary Length\n",
        "### To determine how many items (key-value pairs) a dictionary has, use the len() method."
      ]
    },
    {
      "cell_type": "code",
      "metadata": {
        "id": "-J4WaQ6wHdRO",
        "outputId": "9264d80c-5aa6-4db0-9fe3-01124b599af0",
        "colab": {
          "base_uri": "https://localhost:8080/"
        }
      },
      "source": [
        "records = {\n",
        "  \"brand\": \"Ford\",\n",
        "  \"model\": \"Mustang\",\n",
        "  \"year\": 1964\n",
        "}\n",
        "\n",
        "print(len(records))"
      ],
      "execution_count": 13,
      "outputs": [
        {
          "output_type": "stream",
          "name": "stdout",
          "text": [
            "3\n"
          ]
        }
      ]
    },
    {
      "cell_type": "markdown",
      "metadata": {
        "id": "sfhd4-uoHdRQ"
      },
      "source": [
        "## Adding Items\n",
        "### Adding an item to the dictionary is done by using a new index key and assigning a value to it:"
      ]
    },
    {
      "cell_type": "code",
      "metadata": {
        "id": "qXQYO1wvHdRR",
        "outputId": "675cccdf-2e0b-4ec1-b472-2d43237f1ead",
        "colab": {
          "base_uri": "https://localhost:8080/"
        }
      },
      "source": [
        "records = {\n",
        "  \"brand\": \"Ford\",\n",
        "  \"model\": \"Mustang\",\n",
        "  \"year\": 1964\n",
        "}\n",
        "records[\"color\"] = \"red\"\n",
        "print(records)"
      ],
      "execution_count": 14,
      "outputs": [
        {
          "output_type": "stream",
          "name": "stdout",
          "text": [
            "{'brand': 'Ford', 'model': 'Mustang', 'year': 1964, 'color': 'red'}\n"
          ]
        }
      ]
    },
    {
      "cell_type": "markdown",
      "metadata": {
        "id": "Gq93SAB3HdRU"
      },
      "source": [
        "## Removing Items\n",
        "### There are several methods to remove items from a dictionary:\n",
        "      -pop()\n",
        "      -popitem()\n",
        "      -del\n",
        "      -clear()"
      ]
    },
    {
      "cell_type": "code",
      "metadata": {
        "id": "PpNkeHxAHdRU",
        "colab": {
          "base_uri": "https://localhost:8080/"
        },
        "outputId": "d4655884-8775-4f77-d474-f5ea7914fc55"
      },
      "source": [
        "#The pop() method removes the item with the specified key name:\n",
        "records = {\n",
        "  \"brand\": \"Ford\",\n",
        "  \"model\": \"Mustang\",\n",
        "  \"year\": 1964\n",
        "}\n",
        "records.pop(\"model\")\n",
        "print(records)"
      ],
      "execution_count": 15,
      "outputs": [
        {
          "output_type": "stream",
          "name": "stdout",
          "text": [
            "{'brand': 'Ford', 'year': 1964}\n"
          ]
        }
      ]
    },
    {
      "cell_type": "code",
      "metadata": {
        "id": "Qb2gM5_iHdRX",
        "outputId": "678aaebe-7cdb-4aae-f17b-a687f0223a03",
        "colab": {
          "base_uri": "https://localhost:8080/"
        }
      },
      "source": [
        "#The popitem() method removes the last inserted item (in versions before 3.7, a random item is removed instead):\n",
        "records = {\n",
        "  \"brand\": \"Ford\",\n",
        "  \"model\": \"Mustang\",\n",
        "  \"year\": 1964\n",
        "}\n",
        "records.popitem()\n",
        "print(records)"
      ],
      "execution_count": 16,
      "outputs": [
        {
          "output_type": "stream",
          "name": "stdout",
          "text": [
            "{'brand': 'Ford', 'model': 'Mustang'}\n"
          ]
        }
      ]
    },
    {
      "cell_type": "code",
      "metadata": {
        "id": "2J5qF1ijHdRZ",
        "outputId": "313efd48-3967-49d5-9344-225da5fdc202",
        "colab": {
          "base_uri": "https://localhost:8080/"
        }
      },
      "source": [
        "#The del keyword removes the item with the specified key name:\n",
        "#The del keyword can also delete the dictionary completely!!!\n",
        "records = {\n",
        "  \"brand\": \"Ford\",\n",
        "  \"model\": \"Mustang\",\n",
        "  \"year\": 1964\n",
        "}\n",
        "del records[\"model\"]\n",
        "print(records)"
      ],
      "execution_count": 17,
      "outputs": [
        {
          "output_type": "stream",
          "name": "stdout",
          "text": [
            "{'brand': 'Ford', 'year': 1964}\n"
          ]
        }
      ]
    },
    {
      "cell_type": "code",
      "metadata": {
        "id": "HQHtFH9XHdRc",
        "outputId": "1eed38bb-0e09-47cf-8444-3c2821f36b39",
        "colab": {
          "base_uri": "https://localhost:8080/"
        }
      },
      "source": [
        "#The clear() keyword empties the dictionary:\n",
        "records = {\n",
        "  \"brand\": \"Ford\",\n",
        "  \"model\": \"Mustang\",\n",
        "  \"year\": 1964\n",
        "}\n",
        "records.clear()\n",
        "print(records)"
      ],
      "execution_count": 18,
      "outputs": [
        {
          "output_type": "stream",
          "name": "stdout",
          "text": [
            "{}\n"
          ]
        }
      ]
    },
    {
      "cell_type": "markdown",
      "metadata": {
        "id": "cZQ5BDC2HdRe"
      },
      "source": [
        "## Copy a Dictionary\n",
        "### You cannot copy a dictionary simply by typing dict2 = dict1, because: dict2 will only be a reference to dict1, and changes made in dict1 will automatically also be made in dict2.\n",
        "\n",
        "### There are ways to make a copy, one way is to use the built-in Dictionary method copy()."
      ]
    },
    {
      "cell_type": "code",
      "metadata": {
        "id": "ubX_fCCNHdRe",
        "outputId": "7124c5a9-b4cb-456c-da1b-0bb14a9991fc",
        "colab": {
          "base_uri": "https://localhost:8080/"
        }
      },
      "source": [
        "#Make a copy of a dictionary with the copy() method:\n",
        "\n",
        "records = {\n",
        "  \"brand\": \"Ford\",\n",
        "  \"model\": \"Mustang\",\n",
        "  \"year\": 1964\n",
        "}\n",
        "mydict = records.copy()\n",
        "print(mydict)"
      ],
      "execution_count": 19,
      "outputs": [
        {
          "output_type": "stream",
          "name": "stdout",
          "text": [
            "{'brand': 'Ford', 'model': 'Mustang', 'year': 1964}\n"
          ]
        }
      ]
    },
    {
      "cell_type": "code",
      "metadata": {
        "id": "nLVbRwO0HdRj",
        "outputId": "0b8c2cce-fa77-46dd-e2cc-7d52c4d9ba4b",
        "colab": {
          "base_uri": "https://localhost:8080/"
        }
      },
      "source": [
        "#Make a copy of a dictionary with the dict() method:\n",
        "\n",
        "records = {\n",
        "  \"brand\": \"Ford\",\n",
        "  \"model\": \"Mustang\",\n",
        "  \"year\": 1964\n",
        "}\n",
        "mydict = dict(records)\n",
        "print(mydict)"
      ],
      "execution_count": 20,
      "outputs": [
        {
          "output_type": "stream",
          "name": "stdout",
          "text": [
            "{'brand': 'Ford', 'model': 'Mustang', 'year': 1964}\n"
          ]
        }
      ]
    },
    {
      "cell_type": "markdown",
      "metadata": {
        "id": "761kzlFjHdRn"
      },
      "source": [
        "## Python Dictionary update() Method"
      ]
    },
    {
      "cell_type": "code",
      "metadata": {
        "id": "z26Y0bGlHdRn",
        "outputId": "0939195f-d574-449d-e4ff-d001bc6d2eed",
        "colab": {
          "base_uri": "https://localhost:8080/"
        }
      },
      "source": [
        "#Insert an item to the dictionary:\n",
        "\n",
        "car = {\n",
        "  \"brand\": \"Ford\",\n",
        "  \"model\": \"Mustang\",\n",
        "  \"year\": 1964\n",
        "}\n",
        "\n",
        "car.update({\"color\": \"White\"})\n",
        "\n",
        "\n",
        "print(car)"
      ],
      "execution_count": 21,
      "outputs": [
        {
          "output_type": "stream",
          "name": "stdout",
          "text": [
            "{'brand': 'Ford', 'model': 'Mustang', 'year': 1964, 'color': 'White'}\n"
          ]
        }
      ]
    },
    {
      "cell_type": "markdown",
      "metadata": {
        "id": "aRVvE0sCHdRq"
      },
      "source": [
        "# Work on it Now\n",
        "\n",
        "  1. Build a dictionary with keys as the months of the year and values as the number of days in the month (in a non-leap year). Then list all the months that have 31 days.\n",
        "\n",
        "  2.  Write a Python script to concatenate following dictionaries to create a new one. Go to the editor\n",
        "\n",
        "          Sample Dictionary :\n",
        "          dic1={1:10, 2:20}\n",
        "          dic2={3:30, 4:40}\n",
        "          dic3={5:50,6:60}\n",
        "          Expected Result : {1: 10, 2: 20, 3: 30, 4: 40, 5: 50, 6: 60}\n",
        "    \n",
        "  3.  Write a Python script to check if a given key already exists in a dictionary\n",
        " \n",
        "        Sample Dictionary :d = {1: 10, 2: 20, 3: 30, 4: 40, 5: 50, 6: 60}, check for key 5,9\n",
        "     \n",
        "  4.  Write a Python script to generate and print a dictionary that contains a number (between 1 and n) in the form (x: x*x). Go to the editor\n",
        " \n",
        "        Sample Dictionary ( n = 5) :\n",
        "        Expected Output : {1: 1, 2: 4, 3: 9, 4: 16, 5: 25}\n",
        "    \n",
        "  5.  Write a Python program to sum all the items in a dictionary.\n",
        "    \n",
        "        Sample Dictionary: {'data1':100,'data2':-54,'data3':247}\n",
        "        output: 293"
      ]
    },
    {
      "cell_type": "code",
      "metadata": {
        "id": "9uv827-EHdRr"
      },
      "source": [
        "#1.Write your code here\n"
      ],
      "execution_count": 22,
      "outputs": []
    },
    {
      "cell_type": "code",
      "metadata": {
        "id": "iHmbvwniHdRu"
      },
      "source": [
        "#2. Write your code here\n",
        "\n"
      ],
      "execution_count": 23,
      "outputs": []
    },
    {
      "cell_type": "code",
      "metadata": {
        "id": "KAe6z0snHdRw"
      },
      "source": [
        "#3.Write your code here\n",
        "\n"
      ],
      "execution_count": 24,
      "outputs": []
    },
    {
      "cell_type": "code",
      "metadata": {
        "id": "24N997nVHdR0"
      },
      "source": [
        "#4.Write your code here\n",
        "\n",
        "\n",
        "    "
      ],
      "execution_count": 25,
      "outputs": []
    },
    {
      "cell_type": "code",
      "metadata": {
        "id": "gIfJhGRIHdR2"
      },
      "source": [
        "#5.Write your code here\n",
        "\n",
        "\n",
        "    "
      ],
      "execution_count": 26,
      "outputs": []
    },
    {
      "cell_type": "code",
      "metadata": {
        "id": "8oBW3cGSHdR4"
      },
      "source": [
        ""
      ],
      "execution_count": 26,
      "outputs": []
    }
  ]
}