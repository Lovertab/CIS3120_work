{
  "nbformat": 4,
  "nbformat_minor": 0,
  "metadata": {
    "celltoolbar": "Slideshow",
    "kernelspec": {
      "name": "python3",
      "display_name": "Python 3",
      "language": "python"
    },
    "language_info": {
      "mimetype": "text/x-python",
      "nbconvert_exporter": "python",
      "name": "python",
      "pygments_lexer": "ipython3",
      "version": "3.5.4",
      "file_extension": ".py",
      "codemirror_mode": {
        "version": 3,
        "name": "ipython"
      }
    },
    "colab": {
      "name": "Lecture10.ipynb",
      "provenance": []
    }
  },
  "cells": [
    {
      "cell_type": "markdown",
      "metadata": {
        "id": "XWMq3jJ-Rd4z"
      },
      "source": [
        "\n",
        "# Tuple "
      ]
    },
    {
      "cell_type": "markdown",
      "metadata": {
        "id": "qYOYoGELRd41"
      },
      "source": [
        "# Tuples\n",
        "A tuple is an immutable sequence of Python objects. Tuples are sequences, just like lists. The differences between tuples and lists are, the tuples cannot be changed unlike lists and tuples use parentheses, whereas lists use square brackets. Creating a tuple is as simple as putting different comma-separated values.\n"
      ]
    },
    {
      "cell_type": "markdown",
      "metadata": {
        "id": "CgGa9p-URd42"
      },
      "source": [
        "### Create a Tuple"
      ]
    },
    {
      "cell_type": "code",
      "metadata": {
        "trusted": true,
        "id": "t8Vtdtf2Rd43",
        "outputId": "0bd9b6ba-b95a-497d-84e8-b3c826d4978d"
      },
      "source": [
        "thistuple = (\"apple\", \"banana\", \"cherry\")\n",
        "print(thistuple)"
      ],
      "execution_count": null,
      "outputs": [
        {
          "output_type": "stream",
          "text": [
            "('apple', 'banana', 'cherry')\n"
          ],
          "name": "stdout"
        }
      ]
    },
    {
      "cell_type": "markdown",
      "metadata": {
        "id": "AO19XH7lRd4_"
      },
      "source": [
        "## Access Tuple Items\n",
        "### You can access tuple items by referring to the index number, inside square brackets; Like list, tuple indexes also starts from 0."
      ]
    },
    {
      "cell_type": "code",
      "metadata": {
        "trusted": true,
        "id": "VANWkpQ-Rd5A",
        "outputId": "1a474714-42a1-475e-ed75-24c1d9950fd2"
      },
      "source": [
        "#Print the second item of a tuple\n",
        "thistuple = (\"apple\", \"banana\", \"cherry\")\n",
        "print(thistuple[1])"
      ],
      "execution_count": null,
      "outputs": [
        {
          "output_type": "stream",
          "text": [
            "banana\n"
          ],
          "name": "stdout"
        }
      ]
    },
    {
      "cell_type": "markdown",
      "metadata": {
        "id": "nvvNVXJ5Rd5F"
      },
      "source": [
        "## Range of Indexes\n",
        "### You can specify a range of indexes by specifying where to start and where to end the range.\n",
        "\n",
        "### When specifying a range, the return value will be a new tuple with the specified items."
      ]
    },
    {
      "cell_type": "code",
      "metadata": {
        "trusted": true,
        "id": "CZM9wlPiRd5G",
        "outputId": "1c81fd84-8983-4a89-ca37-5a3c7886bcff"
      },
      "source": [
        "thistuple = (\"apple\", \"banana\", \"cherry\", \"orange\", \"kiwi\", \"melon\", \"mango\")\n",
        "print(thistuple[2:5]) # Here index 5 is not included, hence \"melon\" does not show up in the resulting tuple"
      ],
      "execution_count": null,
      "outputs": [
        {
          "output_type": "stream",
          "text": [
            "('cherry', 'orange', 'kiwi')\n"
          ],
          "name": "stdout"
        }
      ]
    },
    {
      "cell_type": "markdown",
      "metadata": {
        "id": "tVpdQMvNRd5I"
      },
      "source": [
        "## Negative Indexing\n",
        "### Negative indexing means beginning from the end, -1 refers to the last item, -2 refers to the second last item etc."
      ]
    },
    {
      "cell_type": "code",
      "metadata": {
        "trusted": true,
        "id": "DkT_HZ5ERd5J",
        "outputId": "5875a150-ae6c-41b3-fb50-c7089e6a6550"
      },
      "source": [
        "#Negative indexing\n",
        "\n",
        "thistuple = (\"apple\", \"banana\", \"cherry\")\n",
        "print(thistuple[-1]) #Print the last item of the tuple"
      ],
      "execution_count": null,
      "outputs": [
        {
          "output_type": "stream",
          "text": [
            "cherry\n"
          ],
          "name": "stdout"
        }
      ]
    },
    {
      "cell_type": "markdown",
      "metadata": {
        "id": "170YDpC7Rd5L"
      },
      "source": [
        "### Range of Negative Indexes\n",
        "#### Specify negative indexes if you want to start the search from the end of the tuple:"
      ]
    },
    {
      "cell_type": "code",
      "metadata": {
        "trusted": true,
        "id": "qKbGCi_cRd5M",
        "outputId": "d889352e-00ba-4590-87a2-f1d3d88fab63"
      },
      "source": [
        "#Range of negative indexing\n",
        "\n",
        "thistuple = (\"apple\", \"banana\", \"cherry\", \"orange\", \"kiwi\", \"melon\", \"mango\")\n",
        "print(thistuple[-4:-1]) #This example returns the items from index -4 (included) to index -1 (excluded)"
      ],
      "execution_count": null,
      "outputs": [
        {
          "output_type": "stream",
          "text": [
            "('orange', 'kiwi', 'melon')\n"
          ],
          "name": "stdout"
        }
      ]
    },
    {
      "cell_type": "markdown",
      "metadata": {
        "id": "uYFO7ukbRd5Q"
      },
      "source": [
        "## Change Tuple Values\n",
        "### Once a tuple is created, you cannot change its values. Tuples are unchangeable, or immutable as it also is called.\n",
        "\n",
        "### But there is a workaround. You can convert the tuple into a list, change the list, and convert the list back into a tuple."
      ]
    },
    {
      "cell_type": "code",
      "metadata": {
        "trusted": true,
        "id": "3pacy4guRd5R",
        "outputId": "7cee4c82-48f4-4a5d-efbb-941f191fae77"
      },
      "source": [
        "#Convert the tuple into a list to be able to change it:\n",
        "x = (\"apple\", \"banana\", \"cherry\")\n",
        "y = list(x)\n",
        "y[1] = \"kiwi\"\n",
        "x = tuple(y)\n",
        "\n",
        "print(x)"
      ],
      "execution_count": null,
      "outputs": [
        {
          "output_type": "stream",
          "text": [
            "('apple', 'kiwi', 'cherry')\n"
          ],
          "name": "stdout"
        }
      ]
    },
    {
      "cell_type": "markdown",
      "metadata": {
        "id": "cPsqa875Rd5V"
      },
      "source": [
        "### Loop Through a Tuple\n",
        "#### You can loop through the tuple items by using a <span style=\"color:red\"> **for** </span> loop."
      ]
    },
    {
      "cell_type": "code",
      "metadata": {
        "trusted": true,
        "id": "M3BTOcNiRd5W",
        "outputId": "70369fc3-ecb5-4214-aa4b-ed1029675c5d"
      },
      "source": [
        "#Iterate through the items and print the values:\n",
        "thistuple = (\"apple\", \"banana\", \"cherry\")\n",
        "for x in thistuple:\n",
        "    print(x)"
      ],
      "execution_count": null,
      "outputs": [
        {
          "output_type": "stream",
          "text": [
            "apple\n",
            "banana\n",
            "cherry\n"
          ],
          "name": "stdout"
        }
      ]
    },
    {
      "cell_type": "markdown",
      "metadata": {
        "id": "1YtqRO5MRd5a"
      },
      "source": [
        "### Check if Item Exists\n",
        "#### To determine if a specified item is present in a tuple use the <span style=\"color:red\"> **in** </span> keyword:"
      ]
    },
    {
      "cell_type": "code",
      "metadata": {
        "trusted": true,
        "id": "kh9C4DIARd5b",
        "outputId": "966d2e93-7ea9-40cd-9f9b-7736b0800717"
      },
      "source": [
        "\n",
        "#Check if \"apple\" is present in the tuple:\n",
        "thistuple = (\"apple\", \"banana\", \"cherry\")\n",
        "if \"mango\" in thistuple:\n",
        "      print(\"Yes, mango\")\n",
        "else:\n",
        "    print(\"No 'mango'\")"
      ],
      "execution_count": null,
      "outputs": [
        {
          "output_type": "stream",
          "text": [
            "No 'mango'\n"
          ],
          "name": "stdout"
        }
      ]
    },
    {
      "cell_type": "markdown",
      "metadata": {
        "id": "Ph45E_ktRd5g"
      },
      "source": [
        "## Tuple Length\n",
        "### To determine how many items a tuple has, use the len() method:"
      ]
    },
    {
      "cell_type": "code",
      "metadata": {
        "trusted": true,
        "id": "XWyDlkLPRd5h",
        "outputId": "4bb945d3-8744-4aae-ff8d-78981dec8282"
      },
      "source": [
        "thistuple = (\"apple\", \"banana\", \"cherry\")\n",
        "print(len(thistuple)) #count the number of elements in the tuple"
      ],
      "execution_count": null,
      "outputs": [
        {
          "output_type": "stream",
          "text": [
            "3\n"
          ],
          "name": "stdout"
        }
      ]
    },
    {
      "cell_type": "markdown",
      "metadata": {
        "id": "tbTfWhxiRd5k"
      },
      "source": [
        "## Add Items\n",
        "### Once a tuple is created, you cannot add items to it. Tuples are unchangeable."
      ]
    },
    {
      "cell_type": "code",
      "metadata": {
        "trusted": true,
        "id": "i0hSb-QkRd5l",
        "outputId": "ea819442-db67-40bf-dc78-30650d6f1d5f"
      },
      "source": [
        "thistuple = (\"apple\", \"banana\", \"cherry\")\n",
        "thistuple[3] = \"orange\" # This will raise an error\n",
        "print(thistuple)"
      ],
      "execution_count": null,
      "outputs": [
        {
          "output_type": "error",
          "ename": "TypeError",
          "evalue": "'tuple' object does not support item assignment",
          "traceback": [
            "\u001b[0;31m---------------------------------------------------------------------------\u001b[0m",
            "\u001b[0;31mTypeError\u001b[0m                                 Traceback (most recent call last)",
            "\u001b[0;32m<ipython-input-18-fe88f2910dbf>\u001b[0m in \u001b[0;36m<module>\u001b[0;34m()\u001b[0m\n\u001b[1;32m      1\u001b[0m \u001b[0mthistuple\u001b[0m \u001b[0;34m=\u001b[0m \u001b[0;34m(\u001b[0m\u001b[0;34m\"apple\"\u001b[0m\u001b[0;34m,\u001b[0m \u001b[0;34m\"banana\"\u001b[0m\u001b[0;34m,\u001b[0m \u001b[0;34m\"cherry\"\u001b[0m\u001b[0;34m)\u001b[0m\u001b[0;34m\u001b[0m\u001b[0m\n\u001b[0;32m----> 2\u001b[0;31m \u001b[0mthistuple\u001b[0m\u001b[0;34m[\u001b[0m\u001b[0;36m3\u001b[0m\u001b[0;34m]\u001b[0m \u001b[0;34m=\u001b[0m \u001b[0;34m\"orange\"\u001b[0m \u001b[0;31m# This will raise an error\u001b[0m\u001b[0;34m\u001b[0m\u001b[0m\n\u001b[0m\u001b[1;32m      3\u001b[0m \u001b[0mprint\u001b[0m\u001b[0;34m(\u001b[0m\u001b[0mthistuple\u001b[0m\u001b[0;34m)\u001b[0m\u001b[0;34m\u001b[0m\u001b[0m\n",
            "\u001b[0;31mTypeError\u001b[0m: 'tuple' object does not support item assignment"
          ]
        }
      ]
    },
    {
      "cell_type": "markdown",
      "metadata": {
        "id": "R_KCTpFqRd5n"
      },
      "source": [
        "## Create Tuple With One Item\n",
        "### To create a tuple with only one item, you have add a comma after the item, unless Python will not recognize the variable as a tuple."
      ]
    },
    {
      "cell_type": "code",
      "metadata": {
        "trusted": true,
        "id": "w5n4t4yWRd5o",
        "outputId": "b50a3dea-920c-4dd2-97ed-8cabd0d5c923"
      },
      "source": [
        "thistuple = (\"apple\",) # correct syntax to define a tuple with a single element. Do not forget to put that extra comma at the end\n",
        "print(type(thistuple)) # data type will be tuple\n",
        "\n",
        "#NOT a tuple\n",
        "thistuple = (\"apple\") # Python will think you have assigned a string variable and mistakenly added pair of extra brackets\n",
        "print(type(thistuple)) # data type will be a string"
      ],
      "execution_count": null,
      "outputs": [
        {
          "output_type": "stream",
          "text": [
            "<class 'tuple'>\n",
            "<class 'str'>\n"
          ],
          "name": "stdout"
        }
      ]
    },
    {
      "cell_type": "markdown",
      "metadata": {
        "id": "kJoeETayRd5t"
      },
      "source": [
        "### Note:\n",
        "Notice the , in the declaration of the tuple a above. If you do not specify a comma when initializing a single item in a tuple, Python assumes that you mistakenly added an extra pair of bracket (which is harmless) but then the data type is not a tuple. So remember to add a comma when declaring a single item in a tuple."
      ]
    },
    {
      "cell_type": "markdown",
      "metadata": {
        "id": "jjlE7p9DRd5u"
      },
      "source": [
        "## Remove Items\n",
        "### Note: You cannot remove items in a tuple.\n",
        "###  Tuples are unchangeable, so you cannot remove items from it, but you can delete the tuple completely:"
      ]
    },
    {
      "cell_type": "code",
      "metadata": {
        "trusted": true,
        "id": "gNKL-2_gRd5v",
        "outputId": "c6642bd2-38cd-402f-c654-ccbb1433a893"
      },
      "source": [
        "#The \"del\" keyword can delete the tuple completely:\n",
        "thistuple = (\"apple\", \"banana\", \"cherry\")\n",
        "del thistuple\n",
        "print(thistuple) #this will raise an error because the tuple no longer exists"
      ],
      "execution_count": null,
      "outputs": [
        {
          "output_type": "error",
          "ename": "NameError",
          "evalue": "name 'thistuple' is not defined",
          "traceback": [
            "\u001b[0;31m---------------------------------------------------------------------------\u001b[0m",
            "\u001b[0;31mNameError\u001b[0m                                 Traceback (most recent call last)",
            "\u001b[0;32m<ipython-input-29-af8f66d5a857>\u001b[0m in \u001b[0;36m<module>\u001b[0;34m()\u001b[0m\n\u001b[1;32m      2\u001b[0m \u001b[0mthistuple\u001b[0m \u001b[0;34m=\u001b[0m \u001b[0;34m(\u001b[0m\u001b[0;34m\"apple\"\u001b[0m\u001b[0;34m,\u001b[0m \u001b[0;34m\"banana\"\u001b[0m\u001b[0;34m,\u001b[0m \u001b[0;34m\"cherry\"\u001b[0m\u001b[0;34m)\u001b[0m\u001b[0;34m\u001b[0m\u001b[0m\n\u001b[1;32m      3\u001b[0m \u001b[0;32mdel\u001b[0m \u001b[0mthistuple\u001b[0m\u001b[0;34m\u001b[0m\u001b[0m\n\u001b[0;32m----> 4\u001b[0;31m \u001b[0mprint\u001b[0m\u001b[0;34m(\u001b[0m\u001b[0mthistuple\u001b[0m\u001b[0;34m)\u001b[0m \u001b[0;31m#this will raise an error because the tuple no longer exists\u001b[0m\u001b[0;34m\u001b[0m\u001b[0m\n\u001b[0m",
            "\u001b[0;31mNameError\u001b[0m: name 'thistuple' is not defined"
          ]
        }
      ]
    },
    {
      "cell_type": "markdown",
      "metadata": {
        "id": "dCIs2VTyRd5z"
      },
      "source": [
        "## To sum up:\n",
        "- You can't add elements to a tuple because of their immutable property. There's no append() or extend() method for tuples,\n",
        "- You can't remove elements from a tuple, also because of their immutability. Tuples have no remove() or pop() method,\n",
        "- You can find elements in a tuple since this doesn't change the tuple.\n",
        "- You can also use the \"in\" operator to check if an element exists in the tuple.\n",
        "\n",
        "So, if you're defining a constant set of values and all you're going to do with it is iterate through it, use a tuple instead of a list. It will be faster than working with lists and also safer, as the tuples contain \"write-protect\" data."
      ]
    },
    {
      "cell_type": "markdown",
      "metadata": {
        "id": "R172SdFNRd5z"
      },
      "source": [
        "## Join Two Tuples\n",
        "### To join two or more tuples you can use the + operator:"
      ]
    },
    {
      "cell_type": "code",
      "metadata": {
        "trusted": true,
        "id": "j7Y1PXKgRd50",
        "outputId": "cbe74628-fe75-4f0f-9bf4-3e7cf97813e4"
      },
      "source": [
        "tuple1 = (\"a\", \"b\" , \"c\")\n",
        "tuple2 = (1, 2, 3)\n",
        "\n",
        "tuple3 = tuple1 + tuple2\n",
        "print(tuple3)"
      ],
      "execution_count": null,
      "outputs": [
        {
          "output_type": "stream",
          "text": [
            "('a', 'b', 'c', 1, 2, 3)\n"
          ],
          "name": "stdout"
        }
      ]
    },
    {
      "cell_type": "markdown",
      "metadata": {
        "id": "E5z6XQ_qRd52"
      },
      "source": [
        "## The tuple() Constructor\n",
        "### It is also possible to use the tuple() constructor to make a tuple."
      ]
    },
    {
      "cell_type": "code",
      "metadata": {
        "trusted": true,
        "id": "XZpEkldBRd53",
        "outputId": "e5c54877-492b-41d9-ac34-8866562e8f81"
      },
      "source": [
        "thistuple = tuple((\"apple\", \"banana\", \"cherry\")) # note the double round-brackets\n",
        "print(thistuple)"
      ],
      "execution_count": null,
      "outputs": [
        {
          "output_type": "stream",
          "text": [
            "('apple', 'banana', 'cherry')\n"
          ],
          "name": "stdout"
        }
      ]
    },
    {
      "cell_type": "markdown",
      "metadata": {
        "id": "vOvlvydQRd58"
      },
      "source": [
        "## Tuple Methods\n",
        "\n",
        "\n",
        "\n"
      ]
    },
    {
      "cell_type": "markdown",
      "metadata": {
        "id": "9JwrxSCjRd5-"
      },
      "source": [
        "### count()\t: Returns the number of times a specified value occurs in a tuple"
      ]
    },
    {
      "cell_type": "code",
      "metadata": {
        "trusted": true,
        "id": "xVd0PejqRd5-",
        "outputId": "4e0459ee-b92e-44c5-c802-bb2b082d9340"
      },
      "source": [
        "#Return the number of times the value 5 appears in the tuple:\n",
        "\n",
        "thistuple = (1, 3, 7, 8, 7, 5, 4, 6, 8, 5, 5)\n",
        "\n",
        "x = thistuple.count(5)\n",
        "\n",
        "print(x)"
      ],
      "execution_count": null,
      "outputs": [
        {
          "output_type": "stream",
          "text": [
            "3\n"
          ],
          "name": "stdout"
        }
      ]
    },
    {
      "cell_type": "markdown",
      "metadata": {
        "id": "CXpQc1llRd6C"
      },
      "source": [
        "### index() : Searches the tuple for a specified value and returns the position of where it was found"
      ]
    },
    {
      "cell_type": "code",
      "metadata": {
        "trusted": true,
        "id": "EULjg5GIRd6C",
        "outputId": "a5044076-825a-4415-adfd-2174c056393c"
      },
      "source": [
        "#Search for the first occurrence of the value 8, and return its position:\n",
        "\n",
        "thistuple = (1, 3, 7, 8, 7, 5, 4, 6, 8, 5)\n",
        "\n",
        "x = thistuple.index(8) #return index of the first occurance of the element\n",
        "\n",
        "print(x)"
      ],
      "execution_count": null,
      "outputs": [
        {
          "output_type": "stream",
          "text": [
            "3\n"
          ],
          "name": "stdout"
        }
      ]
    },
    {
      "cell_type": "markdown",
      "metadata": {
        "id": "5aA-8szhRd6E"
      },
      "source": [
        "## Loop through tuple"
      ]
    },
    {
      "cell_type": "code",
      "metadata": {
        "trusted": true,
        "id": "w6gUPBZARd6E",
        "outputId": "7d4bc552-0a8f-405c-dc15-215a0609941a"
      },
      "source": [
        "#Example 1: Iterate through the items and print the values\n",
        "thistuple = (\"apple\", \"banana\", \"cherry\")\n",
        "for x in thistuple:\n",
        "    print(x)"
      ],
      "execution_count": null,
      "outputs": [
        {
          "output_type": "stream",
          "text": [
            "apple\n",
            "banana\n",
            "cherry\n"
          ],
          "name": "stdout"
        }
      ]
    },
    {
      "cell_type": "code",
      "metadata": {
        "trusted": true,
        "id": "TjYKRgQsRd6G",
        "outputId": "9739056f-9b25-4cdb-ea1a-c65349d2d6f1"
      },
      "source": [
        "#Example 2: You can create tuple of list elements and iterate through it\n",
        "tuplex=([1,2,3],[10,11,14],[6,76,11],[9,23,0]) #Here each list is an element in the tuple, so there is 4 elements in this tuple and each element is a list\n",
        "for element in tuplex:\n",
        "    print(element)"
      ],
      "execution_count": null,
      "outputs": [
        {
          "output_type": "stream",
          "text": [
            "[1, 2, 3]\n",
            "[10, 11, 14]\n",
            "[6, 76, 11]\n",
            "[9, 23, 0]\n"
          ],
          "name": "stdout"
        }
      ]
    },
    {
      "cell_type": "code",
      "metadata": {
        "trusted": true,
        "id": "nVH7t-DjRd6I",
        "outputId": "62032879-fd68-4ba7-a4e3-0d0b2735356e"
      },
      "source": [
        "# Now you can iterate through the lists in it \n",
        "tuplex=([1,2,3],[10,11,14],[6,76,11],[9,23,0]) #Here each list is an element in the tuple, so there is 4 elements in this tuple and each element is a list\n",
        "for element in tuplex: # iterate through the tuple\n",
        "    for n in element:  # iterate through the lists\n",
        "        print(n)"
      ],
      "execution_count": null,
      "outputs": [
        {
          "output_type": "stream",
          "text": [
            "1\n",
            "2\n",
            "3\n",
            "10\n",
            "11\n",
            "14\n",
            "6\n",
            "76\n",
            "11\n",
            "9\n",
            "23\n",
            "0\n"
          ],
          "name": "stdout"
        }
      ]
    },
    {
      "cell_type": "code",
      "metadata": {
        "trusted": true,
        "id": "aT-NVct3Rd6M",
        "outputId": "92346e1b-324f-4261-8b9c-3d475d38060c"
      },
      "source": [
        "# Now if you want to display only the second items from the list elements \n",
        "tuplex=([1,2,3],[10,11,14],[6,76,11],[9,23,0]) #Here each list is an element in the tuple, so there is 4 elements in this tuple and each element is a list\n",
        "for element in tuplex: # iterate through the tuple\n",
        "    print(element[1])"
      ],
      "execution_count": null,
      "outputs": [
        {
          "output_type": "stream",
          "text": [
            "2\n",
            "11\n",
            "76\n",
            "23\n"
          ],
          "name": "stdout"
        }
      ]
    },
    {
      "cell_type": "markdown",
      "metadata": {
        "id": "rCofbKOzRd6Q"
      },
      "source": [
        "### Similarly you can create a list of tuple elements"
      ]
    },
    {
      "cell_type": "code",
      "metadata": {
        "trusted": true,
        "id": "cNRba9IaRd6Q",
        "outputId": "1d064e32-e096-4c62-d76d-38720a7cedad"
      },
      "source": [
        "list1=[(1,2,3),(10,11,14),(6,76,11),(9,23,0)] #this is list which contains 4 tuples in it\n",
        "for element in list1: # iterate through the list\n",
        "    print(element[1]) # display the 2nd element from each tuple"
      ],
      "execution_count": null,
      "outputs": [
        {
          "output_type": "stream",
          "text": [
            "2\n",
            "11\n",
            "76\n",
            "23\n"
          ],
          "name": "stdout"
        }
      ]
    },
    {
      "cell_type": "markdown",
      "metadata": {
        "id": "ZEgFKoMDRd6U"
      },
      "source": [
        "# Tuple exercises\n",
        " - (1) tuplex = (4, 6, 2, 8, 3, 1) \n",
        "       a) Add 9 to tuplex (hint: create a tuple with a single element 9 in it and then concatenate with tuplex)\n",
        "       b) Add (15, 20, 25) to tuplex at index 5, 6, 7 (Hint: convert the tuple into a list, then insert items at specific position and then convert it back to tuple OR you can take advantage of tuple slicing operation and concatenation operation to insert these items at specific position. In the later approach, you need to treat (15, 20, 25) as a tuple)\n",
        " \n",
        " \n",
        "-  (2) Remove tuple elements from the tuple if the element is greater than n\n",
        "                \n",
        "                Example:tuplex = (2, 4, 5, 6, 2, 3, 4, 4, 7 ), here n=5\n",
        "                output:(2, 4, 5, 2, 3, 4, 4)\n",
        "                (Hint: You need to iterate through the tuple using a \"for\" loop and then use the \"if\" to validate the condition   )\n",
        " \n",
        "- (3) Find the tuples containing the given element from a list of tuples \n",
        "                \n",
        "                Example: Input: n = 11, list = [(11, 22), (33, 55), (55, 77), (11, 44)]\n",
        "                Output: [(11, 22), (11, 44)]\n",
        "                \n",
        "                Input: n = 3, list = [(14, 3),(23, 41),(33, 62),(1, 3),(3, 3)]\n",
        "                Output: [(14, 3), (1, 3), (3, 3)]\n",
        "                \n",
        "                (Hint: Iterate through the list and using \"in\" keyword check the availability of the specific element )"
      ]
    },
    {
      "cell_type": "code",
      "metadata": {
        "trusted": true,
        "id": "2dk_FomeRd6V"
      },
      "source": [
        ""
      ],
      "execution_count": null,
      "outputs": []
    },
    {
      "cell_type": "code",
      "metadata": {
        "trusted": true,
        "id": "Ed2NQ1zgRd6X"
      },
      "source": [
        ""
      ],
      "execution_count": null,
      "outputs": []
    },
    {
      "cell_type": "code",
      "metadata": {
        "trusted": true,
        "id": "dlaHk6njRd6Z"
      },
      "source": [
        ""
      ],
      "execution_count": null,
      "outputs": []
    }
  ]
}