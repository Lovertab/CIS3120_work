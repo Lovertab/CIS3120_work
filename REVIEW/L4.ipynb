{
  "nbformat": 4,
  "nbformat_minor": 0,
  "metadata": {
    "celltoolbar": "Slideshow",
    "kernelspec": {
      "display_name": "Python 3",
      "language": "python",
      "name": "python3"
    },
    "language_info": {
      "codemirror_mode": {
        "name": "ipython",
        "version": 3
      },
      "file_extension": ".py",
      "mimetype": "text/x-python",
      "name": "python",
      "nbconvert_exporter": "python",
      "pygments_lexer": "ipython3",
      "version": "3.6.4rc1"
    },
    "colab": {
      "name": "L4.ipynb",
      "provenance": [],
      "collapsed_sections": []
    }
  },
  "cells": [
    {
      "cell_type": "markdown",
      "metadata": {
        "id": "HeBRoeAKnKEW"
      },
      "source": [
        "## Repetition Structures \n",
        "## while and for Loop\n"
      ]
    },
    {
      "cell_type": "markdown",
      "metadata": {
        "id": "AmEx90VBnKEZ"
      },
      "source": [
        "# Iteration\n",
        "Computers are often used to automate repetitive tasks. Repeating identical or similar tasks without making errors is something that computers do well and people do poorly.\n",
        "\n",
        "Repeated execution of a set of statements is called iteration. Python has two statements for iteration – the for statement, and the while statement.\n"
      ]
    },
    {
      "cell_type": "markdown",
      "metadata": {
        "id": "n38-xtaXnKEb"
      },
      "source": [
        "# Using the range function with the for Loop\n",
        "\n",
        "Lets' say I want to print my name 5 times, then I need to write 5 print statement as below:"
      ]
    },
    {
      "cell_type": "code",
      "metadata": {
        "colab": {
          "base_uri": "https://localhost:8080/"
        },
        "id": "Zt-qRJPSnKEb",
        "outputId": "5cf8aa6a-ce29-4ae5-f704-350cf0ecf753"
      },
      "source": [
        "print(\"Mike\")\n",
        "print(\"Mike\")\n",
        "print(\"Mike\")\n",
        "print(\"Mike\")\n",
        "print(\"Mike\")\n"
      ],
      "execution_count": 1,
      "outputs": [
        {
          "output_type": "stream",
          "name": "stdout",
          "text": [
            "Mike\n",
            "Mike\n",
            "Mike\n",
            "Mike\n",
            "Mike\n"
          ]
        }
      ]
    },
    {
      "cell_type": "markdown",
      "metadata": {
        "id": "fQI2nb73nKEc"
      },
      "source": [
        "Python provides a built in function named range that simplifies the proccess of writing count-controlled loops"
      ]
    },
    {
      "cell_type": "code",
      "metadata": {
        "colab": {
          "base_uri": "https://localhost:8080/"
        },
        "id": "3OqpLYVCnKEc",
        "outputId": "49126569-0282-4b08-ffb7-22c2911d9c14"
      },
      "source": [
        "# using for loop we can do the same task in 2 lines\n",
        "for x in range(5): #for loops run upto n-1, here n is 5, \n",
        "                    #so it will print my name 5 times \n",
        "                    #(the loop will run from 0 to 4 (inclusive))\n",
        "    print(\"Mike\") \n",
        "    \n",
        "    \n"
      ],
      "execution_count": 2,
      "outputs": [
        {
          "output_type": "stream",
          "name": "stdout",
          "text": [
            "Mike\n",
            "Mike\n",
            "Mike\n",
            "Mike\n",
            "Mike\n"
          ]
        }
      ]
    },
    {
      "cell_type": "markdown",
      "metadata": {
        "id": "N2y8bXZPnKEd"
      },
      "source": [
        "- Using for loops you can repeat some actions\n",
        "\n",
        "- range(n) is the list of integers 0,1,2,3,...,n-1  "
      ]
    },
    {
      "cell_type": "code",
      "metadata": {
        "colab": {
          "base_uri": "https://localhost:8080/"
        },
        "id": "l9iKu5YKnKEe",
        "outputId": "ec350559-53bd-4861-9fbd-a4714d94bfd4"
      },
      "source": [
        "\n",
        "for x in range(4): #for loops run upto n-1, here n is 4, so it prints 0,1,2,3\n",
        "    print(x)\n",
        "\n"
      ],
      "execution_count": null,
      "outputs": [
        {
          "output_type": "stream",
          "text": [
            "0\n",
            "1\n",
            "2\n",
            "3\n"
          ],
          "name": "stdout"
        }
      ]
    },
    {
      "cell_type": "code",
      "metadata": {
        "colab": {
          "base_uri": "https://localhost:8080/"
        },
        "id": "N7Xu98FgnKEe",
        "outputId": "b81fc4cd-cb6a-4dce-9c72-135969e74c8f"
      },
      "source": [
        "#print me odd numbers between 0 and 10 using for loop\n",
        "\n",
        "for x in range(10): #0,1,2,3,4,5,6,7,8,9\n",
        "    if x%2!=0: #% symbol is remainder symbol and != is not equal symbol\n",
        "        print(x)\n",
        "\n",
        "\n"
      ],
      "execution_count": null,
      "outputs": [
        {
          "output_type": "stream",
          "text": [
            "1\n",
            "3\n",
            "5\n",
            "7\n",
            "9\n"
          ],
          "name": "stdout"
        }
      ]
    },
    {
      "cell_type": "markdown",
      "metadata": {
        "collapsed": true,
        "id": "sawDHUprnKEe"
      },
      "source": [
        "\n",
        "- If you pass two arguments to the range function, the first argument is used as the starting value of the sequence, and the second argument is used as the ending limit\n",
        "\n",
        "- By default, the range function produces a sequence of numbers that increase by 1 for each successive number in the list\n",
        "\n",
        "  "
      ]
    },
    {
      "cell_type": "code",
      "metadata": {
        "colab": {
          "base_uri": "https://localhost:8080/"
        },
        "id": "8O4_7KSXnKEf",
        "outputId": "9e516624-3659-412e-c2bf-e8313acce69d"
      },
      "source": [
        "# for num in range (5):\n",
        "#     print(num)\n",
        "\n",
        "for num in range (2,5):\n",
        "    print(num)"
      ],
      "execution_count": null,
      "outputs": [
        {
          "output_type": "stream",
          "text": [
            "2\n",
            "3\n",
            "4\n"
          ],
          "name": "stdout"
        }
      ]
    },
    {
      "cell_type": "markdown",
      "metadata": {
        "collapsed": true,
        "id": "d0ycfr7DnKEf"
      },
      "source": [
        "\n",
        "\n",
        "- If you pass three argument to the range function, that argument is used as step value. Instead of increasing by 1, each successive number in the sequence will increase by the step value\n",
        "\n",
        "  "
      ]
    },
    {
      "cell_type": "code",
      "metadata": {
        "colab": {
          "base_uri": "https://localhost:8080/"
        },
        "id": "2dtUxNU4nKEf",
        "outputId": "d4b732fe-ba1c-4ef7-bb45-01bafb930a96"
      },
      "source": [
        "\n",
        "\n",
        "for num in range (1,10,3): \n",
        "    print(num)"
      ],
      "execution_count": null,
      "outputs": [
        {
          "output_type": "stream",
          "text": [
            "1\n",
            "4\n",
            "7\n"
          ],
          "name": "stdout"
        }
      ]
    },
    {
      "cell_type": "code",
      "metadata": {
        "colab": {
          "base_uri": "https://localhost:8080/"
        },
        "id": "EBQQ22denKEg",
        "outputId": "eaf56a2f-fa5f-4e7c-a602-1f387ed02602"
      },
      "source": [
        "# Write the odd numbers between 0 to 10\n",
        "\n",
        "for num in range (1,10,2):\n",
        "    print(num)"
      ],
      "execution_count": null,
      "outputs": [
        {
          "output_type": "stream",
          "text": [
            "1\n",
            "3\n",
            "5\n",
            "7\n",
            "9\n"
          ],
          "name": "stdout"
        }
      ]
    },
    {
      "cell_type": "markdown",
      "metadata": {
        "id": "75DNH9ZnnKEg"
      },
      "source": [
        "# Work on it \n",
        "\n",
        "- Print the numbers 0 to 20\n",
        "- Print the even numbers between 0 through 20\n",
        "\n"
      ]
    },
    {
      "cell_type": "code",
      "metadata": {
        "id": "z_AZ8-MLnKEg"
      },
      "source": [
        "# Prints out the numbers 0 to 20\n"
      ],
      "execution_count": null,
      "outputs": []
    },
    {
      "cell_type": "code",
      "metadata": {
        "id": "KGenfu1SSFQB"
      },
      "source": [
        "#Print the even numbers between 0 through 20\n",
        "\n"
      ],
      "execution_count": null,
      "outputs": []
    },
    {
      "cell_type": "markdown",
      "metadata": {
        "id": "L-ObFU-EhMtL"
      },
      "source": [
        "## For loop for a sequence"
      ]
    },
    {
      "cell_type": "code",
      "metadata": {
        "colab": {
          "base_uri": "https://localhost:8080/"
        },
        "id": "6Hvs1JrThKzL",
        "outputId": "37b7277c-58ac-450e-ba10-1e8f371ef078"
      },
      "source": [
        "for i in [10,20,34,50,55]:\n",
        "  print(i)"
      ],
      "execution_count": null,
      "outputs": [
        {
          "output_type": "stream",
          "text": [
            "10\n",
            "20\n",
            "34\n",
            "50\n",
            "55\n"
          ],
          "name": "stdout"
        }
      ]
    },
    {
      "cell_type": "code",
      "metadata": {
        "colab": {
          "base_uri": "https://localhost:8080/"
        },
        "id": "sm0-J02Rhjpw",
        "outputId": "8670dc08-5231-4035-ecbb-c3b5087c60d9"
      },
      "source": [
        "for name in['Alice', 'Jen', 'Mark']:\n",
        "    print(name)"
      ],
      "execution_count": null,
      "outputs": [
        {
          "output_type": "stream",
          "text": [
            "Alice\n",
            "Jen\n",
            "Mark\n"
          ],
          "name": "stdout"
        }
      ]
    },
    {
      "cell_type": "markdown",
      "metadata": {
        "id": "qARievIrnKEh"
      },
      "source": [
        "# Table\n",
        "Using the tab character ('\\t') makes the output align nicely.\n"
      ]
    },
    {
      "cell_type": "code",
      "metadata": {
        "colab": {
          "base_uri": "https://localhost:8080/"
        },
        "id": "o-uRuecXnKEh",
        "outputId": "46cfb994-62b9-430c-efbb-7fac741f5898"
      },
      "source": [
        "print('Number \\t Square')\n",
        "print('------------------')\n",
        "\n",
        "for number in range(1,10): #number= 1,2,3,4,...9\n",
        "    square= number**2 #square = 1^2\n",
        "    print(f'{number}\\t{square}')\n",
        "    #print(number,'\\t',square)"
      ],
      "execution_count": null,
      "outputs": [
        {
          "output_type": "stream",
          "text": [
            "Number \t Square\n",
            "------------------\n",
            "1\t1\n",
            "2\t4\n",
            "3\t9\n",
            "4\t16\n",
            "5\t25\n",
            "6\t36\n",
            "7\t49\n",
            "8\t64\n",
            "9\t81\n"
          ],
          "name": "stdout"
        }
      ]
    },
    {
      "cell_type": "markdown",
      "metadata": {
        "id": "pdKjKZR2nKEh"
      },
      "source": [
        "# Work on it Together\n",
        "\n",
        "- You can convert Fahrenhiet to Celcius using the formula below\n",
        "\n",
        "C=(F-32)*1.8\n",
        "\n",
        "- Write a program with for loop which considers the Fahrenheit temperatures which are multiple of 5 between 50 and 100 and convert them into Celcius degree and print the Fahrenheit and Celcius degrees together with their headings"
      ]
    },
    {
      "cell_type": "code",
      "metadata": {
        "id": "pJLpTMwKnKEh"
      },
      "source": [
        "# Work here\n",
        "\n"
      ],
      "execution_count": null,
      "outputs": []
    },
    {
      "cell_type": "markdown",
      "metadata": {
        "id": "4Dao0p01nKEi"
      },
      "source": [
        "# Letting the User Control the Loop Iterations\n",
        "\n",
        "- Sometimes the programmer needs to let the user control the number of times loop iterates"
      ]
    },
    {
      "cell_type": "code",
      "metadata": {
        "colab": {
          "base_uri": "https://localhost:8080/"
        },
        "id": "0jNfzv5LnKEi",
        "outputId": "1e158a35-29f6-47a7-8088-fdd84003c49c"
      },
      "source": [
        "#Get the ending limit\n",
        "\n",
        "print('This program displays a list of numbers')\n",
        "\n",
        "print ('(starting at 1) and their squares.')\n",
        "\n",
        "end=int(input('How high should I go?'))\n",
        "\n",
        "\n",
        "\n",
        "print('Number \\t Square')\n",
        "print('------------------')\n",
        "\n",
        "for number in range(1,end+1):\n",
        "    square= number**2\n",
        "    print(f'{number}\\t{square}')"
      ],
      "execution_count": null,
      "outputs": [
        {
          "output_type": "stream",
          "text": [
            "This program displays a list of numbers\n",
            "(starting at 1) and their squares.\n",
            "How high should I go?25\n",
            "Number \t Square\n",
            "------------------\n",
            "1\t1\n",
            "2\t4\n",
            "3\t9\n",
            "4\t16\n",
            "5\t25\n",
            "6\t36\n",
            "7\t49\n",
            "8\t64\n",
            "9\t81\n",
            "10\t100\n",
            "11\t121\n",
            "12\t144\n",
            "13\t169\n",
            "14\t196\n",
            "15\t225\n",
            "16\t256\n",
            "17\t289\n",
            "18\t324\n",
            "19\t361\n",
            "20\t400\n",
            "21\t441\n",
            "22\t484\n",
            "23\t529\n",
            "24\t576\n",
            "25\t625\n"
          ],
          "name": "stdout"
        }
      ]
    },
    {
      "cell_type": "markdown",
      "metadata": {
        "id": "CbzzsXNInKEi"
      },
      "source": [
        "# Work on it \n",
        "\n",
        "- Write a program which asks the user for the price per GB for internet usage and using the price calculate the price for GB 1 through 10 using for loop and make a table to show price per each GB used"
      ]
    },
    {
      "cell_type": "code",
      "metadata": {
        "id": "3B9enMWbnKEi"
      },
      "source": [
        "# Work here\n",
        "\n",
        "\n",
        "\n"
      ],
      "execution_count": null,
      "outputs": []
    },
    {
      "cell_type": "markdown",
      "metadata": {
        "id": "fJQ5L7QfnKEj"
      },
      "source": [
        "# Generating an Iterable Sequence that Ranges from Highest to Lowest\n",
        "\n",
        "- You can generate sequences of numbers that go from highest to lowest\n"
      ]
    },
    {
      "cell_type": "code",
      "metadata": {
        "colab": {
          "base_uri": "https://localhost:8080/"
        },
        "id": "Hy8H5fDgnKEj",
        "outputId": "3c1099d6-c94f-4fd7-f682-f1c7e7442895"
      },
      "source": [
        "for num in range (10,0,-1):\n",
        "    print(num)\n",
        "    \n",
        "    "
      ],
      "execution_count": null,
      "outputs": [
        {
          "output_type": "stream",
          "text": [
            "10\n",
            "9\n",
            "8\n",
            "7\n",
            "6\n",
            "5\n",
            "4\n",
            "3\n",
            "2\n",
            "1\n"
          ],
          "name": "stdout"
        }
      ]
    },
    {
      "cell_type": "markdown",
      "metadata": {
        "id": "-Kx2P4zHnKEj"
      },
      "source": [
        "# While Loops\n",
        "\n",
        "- If we don't know how many iterations needed we can use while loop.\n",
        "\n",
        "- While loops repeat as long as the given statement is TRUE.\n",
        "\n",
        "     while condition :\n",
        "\n",
        "      statement \n",
        "      statement\n",
        "      etc\n",
        "    \n",
        "    \n",
        "- First line reffered as $\\it{while}$ clause. The while clause start with the word while, followed by a Boolean condition that will be evaluated as either true or false\n",
        "\n",
        "- If the condition is true, the statements that appear in the block following the while clause are executed, and the loop starts over\n",
        "- If the condition is false, the program exits the loop"
      ]
    },
    {
      "cell_type": "code",
      "metadata": {
        "id": "IqZEssPrnKEl",
        "outputId": "ebcc26e0-a7f6-447e-a1cf-d37195a7c16d"
      },
      "source": [
        "# Prints out 0,1,2,3,4,5\n",
        "\n",
        "count = 0 #initialization\n",
        "while count <=5:\n",
        "    print(count)\n",
        "    count = count+1 #update #count+=1\n",
        "#print(\"We are done\")"
      ],
      "execution_count": null,
      "outputs": [
        {
          "output_type": "stream",
          "text": [
            "0\n",
            "1\n",
            "2\n",
            "3\n",
            "4\n",
            "5\n"
          ],
          "name": "stdout"
        }
      ]
    },
    {
      "cell_type": "markdown",
      "metadata": {
        "id": "2EptOXoNnKEq"
      },
      "source": [
        "# Work on it \n",
        "\n",
        "Using while loop  find the numbers between 0 and 20 which are divisible by 3.\n",
        "\n",
        "Hint: for divisible by 3 part, you need to see if the remainder is 0. You can write \n",
        "\n",
        "    if x%3==0:  #here x is the variable in range 0 to 20\n",
        "        print(x)"
      ]
    },
    {
      "cell_type": "code",
      "metadata": {
        "id": "tPiGDuDvnKEr"
      },
      "source": [
        "# Write your code here\n",
        "\n",
        "    "
      ],
      "execution_count": null,
      "outputs": []
    },
    {
      "cell_type": "markdown",
      "metadata": {
        "id": "eg8s1PtJnKEr"
      },
      "source": [
        "# Continue Statement \n",
        "\n",
        "- This is a control flow statement that causes the program to immediately skip the processing of the rest of the body of the loop, for the current iteration. But the loop still carries on running for its remaining iterations:"
      ]
    },
    {
      "cell_type": "code",
      "metadata": {
        "id": "JzmBymTynKEr",
        "outputId": "0952a882-dcd5-444b-d74e-1462c5b3c551"
      },
      "source": [
        "for i in [12, 16, 17, 19, 24, 29, 30]:\n",
        "    if i % 2 == 1:      # if the number is odd\n",
        "        continue        # don't process it\n",
        "    print(i)\n",
        "print(\"done\")"
      ],
      "execution_count": null,
      "outputs": [
        {
          "output_type": "stream",
          "text": [
            "12\n",
            "16\n",
            "24\n",
            "30\n",
            "done\n"
          ],
          "name": "stdout"
        }
      ]
    },
    {
      "cell_type": "markdown",
      "metadata": {
        "id": "heHiqsp9nKEr"
      },
      "source": [
        "# Work on it \n",
        "\n",
        "Using continue statement print out only even numbers which are divisible by 2  and between 0 and 20"
      ]
    },
    {
      "cell_type": "code",
      "metadata": {
        "id": "zIJ0mT8EnKEs",
        "outputId": "b7064fda-76f4-4841-ae8f-eab5b52f1699"
      },
      "source": [
        "#Write your own code here\n",
        "\n",
        "        \n",
        "    "
      ],
      "execution_count": null,
      "outputs": [
        {
          "output_type": "stream",
          "text": [
            "0\n",
            "2\n",
            "4\n",
            "6\n",
            "8\n",
            "10\n",
            "12\n",
            "14\n",
            "16\n",
            "18\n",
            "20\n"
          ],
          "name": "stdout"
        }
      ]
    },
    {
      "cell_type": "markdown",
      "metadata": {
        "id": "GNHT99QrnKEs"
      },
      "source": [
        "# Work on it together\n",
        "\n",
        "Using continue statement print out only odd numbers which are not divisible by 2  and between 0 and 20"
      ]
    },
    {
      "cell_type": "code",
      "metadata": {
        "id": "YBu_hvHunKEs"
      },
      "source": [
        "#Write your own code here\n",
        " \n"
      ],
      "execution_count": null,
      "outputs": []
    },
    {
      "cell_type": "markdown",
      "metadata": {
        "id": "QTWEebWEnKEs"
      },
      "source": [
        "# Break Statement\n",
        "\n",
        "- The break statement is used to immediately leave the body of its loop. The next statement to be executed is the first one after the body:\n",
        "\n"
      ]
    },
    {
      "cell_type": "code",
      "metadata": {
        "id": "u17Rc-HGnKEt",
        "outputId": "51834b5e-1ee3-4bcc-fa61-50d500f98900"
      },
      "source": [
        "for i in [12, 16, 17, 24, 29,30]:\n",
        "    if i % 2 == 1:  # if the number is odd\n",
        "        break        # immediately exit the loop\n",
        "    print(i)\n",
        "print(\"done\")"
      ],
      "execution_count": null,
      "outputs": [
        {
          "output_type": "stream",
          "text": [
            "12\n",
            "16\n",
            "done\n"
          ],
          "name": "stdout"
        }
      ]
    },
    {
      "cell_type": "markdown",
      "metadata": {
        "id": "7dx2bGL9nKEt"
      },
      "source": [
        "# Work on it \n",
        "\n",
        "Using break statement print out only even numbers which are less than 5."
      ]
    },
    {
      "cell_type": "code",
      "metadata": {
        "id": "MrBXI0oGnKEt",
        "outputId": "288c43b9-aee3-4ede-9860-e18ff285025f"
      },
      "source": [
        ""
      ],
      "execution_count": null,
      "outputs": [
        {
          "output_type": "stream",
          "text": [
            "0\n",
            "2\n",
            "4\n",
            "done\n"
          ],
          "name": "stdout"
        }
      ]
    }
  ]
}