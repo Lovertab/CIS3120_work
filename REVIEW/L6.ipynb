{
  "nbformat": 4,
  "nbformat_minor": 0,
  "metadata": {
    "celltoolbar": "Slideshow",
    "kernelspec": {
      "display_name": "Python 3",
      "language": "python",
      "name": "python3"
    },
    "language_info": {
      "codemirror_mode": {
        "name": "ipython",
        "version": 3
      },
      "file_extension": ".py",
      "mimetype": "text/x-python",
      "name": "python",
      "nbconvert_exporter": "python",
      "pygments_lexer": "ipython3",
      "version": "3.6.4rc1"
    },
    "colab": {
      "name": "L6.ipynb",
      "provenance": []
    }
  },
  "cells": [
    {
      "cell_type": "markdown",
      "metadata": {
        "id": "n1mJC-yI5dV0"
      },
      "source": [
        "\n",
        "## List "
      ]
    },
    {
      "cell_type": "markdown",
      "metadata": {
        "id": "3kaarL0r5dV2"
      },
      "source": [
        "\n",
        "# Lists\n",
        "\n",
        "A list is a collection which is ordered and changeable. In Python lists are written with square brackets.\n"
      ]
    },
    {
      "cell_type": "code",
      "metadata": {
        "id": "raStOCpo5dV4",
        "outputId": "f3c154a4-840d-472f-9541-2f25b33b195b"
      },
      "source": [
        "#Create a list\n",
        "thislist = [\"apple\", \"banana\", \"cherry\"]\n",
        "print(thislist)"
      ],
      "execution_count": null,
      "outputs": [
        {
          "output_type": "stream",
          "text": [
            "['apple', 'banana', 'cherry']\n"
          ],
          "name": "stdout"
        }
      ]
    },
    {
      "cell_type": "markdown",
      "metadata": {
        "id": "dwzkgQzx5dWB"
      },
      "source": [
        "# Accessing Elements, positive indexing, negative indexing\n",
        "\n",
        "- First item: [0]    (Note: List first index starts from 0 in python, this is called positive indexing)\n",
        "\n",
        "- Last item: [-1]    (Note: List index from last starts from -1 in python, this is called negative indexing)"
      ]
    },
    {
      "cell_type": "code",
      "metadata": {
        "id": "tNmKCH9H5dWD",
        "outputId": "1a41adaf-b94a-4101-9ed5-355c75c66e90"
      },
      "source": [
        "myList = [4, 21.2, 'hi'] #List can hold different datatypes like int, float, string together\n",
        "\n",
        "print(myList)\n",
        "print(myList[0]) # Accessing First item in myList\n",
        "print(myList[1]) # Accessing Second item in myList\n",
        "print(myList[2]) # Accessing Third item in myList\n",
        "print(myList[-1]) # Accessing Last item in myList\n",
        "print(myList[-2]) # Accessing Second Last item in myList\n",
        "print(myList[-3]) # Accessing Third Last item in myList"
      ],
      "execution_count": null,
      "outputs": [
        {
          "output_type": "stream",
          "text": [
            "[4, 21.2, 'hi']\n",
            "4\n",
            "21.2\n",
            "hi\n",
            "hi\n",
            "21.2\n",
            "4\n"
          ],
          "name": "stdout"
        }
      ]
    },
    {
      "cell_type": "markdown",
      "metadata": {
        "id": "atmZWIQ25dWM"
      },
      "source": [
        "# Range of Indexes\n",
        "\n",
        "You can specify a range of indexes by specifying where to start and where to end the range.\n",
        "\n",
        "When specifying a range, the return value will be a new list with the specified items."
      ]
    },
    {
      "cell_type": "code",
      "metadata": {
        "id": "zfov69VQ5dWN",
        "outputId": "a7581747-64a5-4dc7-b289-325fdbf04689"
      },
      "source": [
        "# Return the third, fourth, and fifth item:\n",
        "thislist = [\"apple\", \"banana\", \"cherry\", \"orange\", \"kiwi\", \"melon\", \"mango\"]\n",
        "print(thislist[2:5]) #Remember that the first item has index 0.\n",
        "#The search will start at index 2 (included) and end at index 5 (not included)."
      ],
      "execution_count": null,
      "outputs": [
        {
          "output_type": "stream",
          "text": [
            "['cherry', 'orange', 'kiwi']\n"
          ],
          "name": "stdout"
        }
      ]
    },
    {
      "cell_type": "code",
      "metadata": {
        "id": "drW7uQu65dWW",
        "outputId": "9db7601a-7545-4e47-9871-8b96fb41993d"
      },
      "source": [
        "#This example returns the items from the beginning to \"orange\":\n",
        "\n",
        "thislist = [\"apple\", \"banana\", \"cherry\", \"orange\", \"kiwi\", \"melon\", \"mango\"]\n",
        "print(thislist[:4]) #The search will start at index 0 (included) and end at index 4 (not included)."
      ],
      "execution_count": null,
      "outputs": [
        {
          "output_type": "stream",
          "text": [
            "['apple', 'banana', 'cherry', 'orange']\n"
          ],
          "name": "stdout"
        }
      ]
    },
    {
      "cell_type": "code",
      "metadata": {
        "id": "YD4gdk9_5dWf",
        "outputId": "4af69df1-e5fc-4f3e-ea24-b573affa47f8"
      },
      "source": [
        "#This example returns the items from \"cherry\" and to the end:\n",
        "\n",
        "thislist = [\"apple\", \"banana\", \"cherry\", \"orange\", \"kiwi\", \"melon\", \"mango\"]\n",
        "print(thislist[2:]) #The search will start at index 2 (included) till the end (included).\n"
      ],
      "execution_count": null,
      "outputs": [
        {
          "output_type": "stream",
          "text": [
            "['cherry', 'orange', 'kiwi', 'melon', 'mango']\n"
          ],
          "name": "stdout"
        }
      ]
    },
    {
      "cell_type": "markdown",
      "metadata": {
        "id": "innWUD5S5dWn"
      },
      "source": [
        "# Range of Negative Indexes\n",
        "\n",
        "Specify negative indexes if you want to start the search from the end of the list:"
      ]
    },
    {
      "cell_type": "code",
      "metadata": {
        "id": "kHCz8ub-5dWp",
        "outputId": "edf9313b-c9a0-4e1f-b31c-1503710f30e4"
      },
      "source": [
        "thislist = [\"apple\", \"banana\", \"cherry\", \"orange\", \"kiwi\", \"melon\", \"mango\"]\n",
        "print(thislist[-4:-1]) #This example returns the items from index -4 (included) to index -1 (excluded)"
      ],
      "execution_count": null,
      "outputs": [
        {
          "output_type": "stream",
          "text": [
            "['orange', 'kiwi', 'melon']\n"
          ],
          "name": "stdout"
        }
      ]
    },
    {
      "cell_type": "markdown",
      "metadata": {
        "id": "2dTUA4Yv5dWy"
      },
      "source": [
        "# Change Item Value\n",
        "To change the value of a specific item, refer to the index number:"
      ]
    },
    {
      "cell_type": "code",
      "metadata": {
        "id": "FPqjgxRK5dWz",
        "outputId": "8c422a4b-4a8f-42cf-f141-c09c7c80b0ef"
      },
      "source": [
        "thislist = [\"apple\", \"banana\", \"cherry\"]\n",
        "thislist[1] = \"blackcurrant\" #Change the second item:\n",
        "print(thislist)"
      ],
      "execution_count": null,
      "outputs": [
        {
          "output_type": "stream",
          "text": [
            "['apple', 'blackcurrant', 'cherry']\n"
          ],
          "name": "stdout"
        }
      ]
    },
    {
      "cell_type": "markdown",
      "metadata": {
        "id": "YbWWD-5z5dW8"
      },
      "source": [
        "# List Length\n",
        "To determine how many items a list has, use the len() function:"
      ]
    },
    {
      "cell_type": "code",
      "metadata": {
        "id": "lLULfFkF5dW-",
        "outputId": "e3843711-b889-4964-af79-900fd8c8e59c"
      },
      "source": [
        "thislist = [\"apple\", \"banana\", \"cherry\"]\n",
        "print(len(thislist)) #Print the number of items in the list:"
      ],
      "execution_count": null,
      "outputs": [
        {
          "output_type": "stream",
          "text": [
            "3\n"
          ],
          "name": "stdout"
        }
      ]
    },
    {
      "cell_type": "markdown",
      "metadata": {
        "id": "XD7xF_CU5dXG"
      },
      "source": [
        "# Add Items\n",
        "To add an item to the end of the list, use the append() method:"
      ]
    },
    {
      "cell_type": "code",
      "metadata": {
        "id": "LufDg9rv5dXH",
        "colab": {
          "base_uri": "https://localhost:8080/"
        },
        "outputId": "199047c0-cb7c-4f70-de0e-2453d81c53d0"
      },
      "source": [
        "#Using the append() method to append an item:\n",
        "\n",
        "thislist = [\"apple\", \"banana\", \"cherry\"]\n",
        "thislist.append(\"orange\")\n",
        "thislist.append(10)\n",
        "print(thislist)"
      ],
      "execution_count": null,
      "outputs": [
        {
          "output_type": "stream",
          "text": [
            "['apple', 'banana', 'cherry', 'orange', 10]\n"
          ],
          "name": "stdout"
        }
      ]
    },
    {
      "cell_type": "markdown",
      "metadata": {
        "id": "0QIVhRw15dXO"
      },
      "source": [
        "## To add an item at the specified index, use the insert() method:"
      ]
    },
    {
      "cell_type": "code",
      "metadata": {
        "id": "ZoxVtgur5dXP",
        "outputId": "c054ae24-b09d-4fc4-b307-a5857a1855c2"
      },
      "source": [
        "#Insert an item as the second position:\n",
        "\n",
        "thislist = [\"apple\", \"banana\", \"cherry\"]\n",
        "thislist.insert(1, \"orange\")\n",
        "print(thislist)"
      ],
      "execution_count": null,
      "outputs": [
        {
          "output_type": "stream",
          "text": [
            "['apple', 'orange', 'banana', 'cherry']\n"
          ],
          "name": "stdout"
        }
      ]
    },
    {
      "cell_type": "markdown",
      "metadata": {
        "id": "1n0mhSGp5dXa"
      },
      "source": [
        "# Remove Item\n",
        "There are several methods to remove items from a list:"
      ]
    },
    {
      "cell_type": "code",
      "metadata": {
        "id": "W7eXlVMi5dXb",
        "outputId": "3368292d-c7c0-4020-ac03-8981e9692a58"
      },
      "source": [
        "#The remove() method removes the specified item:\n",
        "\n",
        "thislist = [\"apple\", \"banana\", \"cherry\"]\n",
        "thislist.remove(\"banana\")\n",
        "print(thislist)"
      ],
      "execution_count": null,
      "outputs": [
        {
          "output_type": "stream",
          "text": [
            "['apple', 'cherry']\n"
          ],
          "name": "stdout"
        }
      ]
    },
    {
      "cell_type": "code",
      "metadata": {
        "id": "KWwEiab45dXi",
        "outputId": "1aaa6916-5491-4271-9415-dc9875ea5b12"
      },
      "source": [
        "#The pop() method removes the specified index, (or the last item if index is not specified):\n",
        "\n",
        "thislist = [\"apple\", \"banana\", \"cherry\"]\n",
        "thislist.pop()\n",
        "print(thislist)"
      ],
      "execution_count": null,
      "outputs": [
        {
          "output_type": "stream",
          "text": [
            "['apple', 'banana']\n"
          ],
          "name": "stdout"
        }
      ]
    },
    {
      "cell_type": "code",
      "metadata": {
        "id": "bXWkajEa5dXt",
        "outputId": "7d78ffd2-8f4e-4911-d2f5-b602845df88c"
      },
      "source": [
        "#The del keyword removes the specified index:\n",
        "\n",
        "thislist = [\"apple\", \"banana\", \"cherry\"]\n",
        "del thislist[0]\n",
        "print(thislist)"
      ],
      "execution_count": null,
      "outputs": [
        {
          "output_type": "stream",
          "text": [
            "['banana', 'cherry']\n"
          ],
          "name": "stdout"
        }
      ]
    },
    {
      "cell_type": "code",
      "metadata": {
        "id": "MvNR1Sis5dX0"
      },
      "source": [
        "#The del keyword can also delete the list completely:\n",
        "\n",
        "thislist = [\"apple\", \"banana\", \"cherry\"]\n",
        "del thislist"
      ],
      "execution_count": null,
      "outputs": []
    },
    {
      "cell_type": "code",
      "metadata": {
        "id": "ACkMYVsR5dX7",
        "outputId": "95682cf7-e05d-45c7-e2f9-6845b4cbd2ea"
      },
      "source": [
        "#The clear() method empties the list:\n",
        "\n",
        "thislist = [\"apple\", \"banana\", \"cherry\"]\n",
        "thislist.clear()\n",
        "print(thislist)"
      ],
      "execution_count": null,
      "outputs": [
        {
          "output_type": "stream",
          "text": [
            "[]\n"
          ],
          "name": "stdout"
        }
      ]
    },
    {
      "cell_type": "markdown",
      "metadata": {
        "id": "WDRgMnj75dYB"
      },
      "source": [
        "# Copy a List\n",
        "You cannot copy a list simply by typing list2 = list1, because: list2 will only be a reference to list1, and changes made in list1 will automatically also be made in list2.\n",
        "\n",
        "There are ways to make a copy, one way is to use the built-in List method copy()."
      ]
    },
    {
      "cell_type": "code",
      "metadata": {
        "id": "0pXP7YnY5dYC",
        "outputId": "305b57e7-d09e-4d63-efdb-c72061ee043d"
      },
      "source": [
        "#Make a copy of a list with the copy() method:\n",
        "\n",
        "thislist = [\"apple\", \"banana\", \"cherry\"]\n",
        "mylist = thislist.copy()\n",
        "print(mylist)"
      ],
      "execution_count": null,
      "outputs": [
        {
          "output_type": "stream",
          "text": [
            "['apple', 'banana', 'cherry']\n"
          ],
          "name": "stdout"
        }
      ]
    },
    {
      "cell_type": "markdown",
      "metadata": {
        "id": "q9UdDbUr5dYK"
      },
      "source": [
        "## Another way to make a copy is to use the built-in method list()."
      ]
    },
    {
      "cell_type": "code",
      "metadata": {
        "id": "k8EbrnqR5dYL",
        "outputId": "68a461f9-b207-420f-9f6c-4759845d156b"
      },
      "source": [
        "#Make a copy of a list with the list() method:\n",
        "\n",
        "thislist = [\"apple\", \"banana\", \"cherry\"]\n",
        "mylist = list(thislist)\n",
        "print(mylist)"
      ],
      "execution_count": null,
      "outputs": [
        {
          "output_type": "stream",
          "text": [
            "['apple', 'banana', 'cherry']\n"
          ],
          "name": "stdout"
        }
      ]
    },
    {
      "cell_type": "markdown",
      "metadata": {
        "id": "3ETf1Dsr5dYS"
      },
      "source": [
        "# Join Two Lists\n",
        "There are several ways to join, or concatenate, two or more lists in Python.\n",
        "\n",
        "One of the easiest ways are by using the + operator."
      ]
    },
    {
      "cell_type": "code",
      "metadata": {
        "id": "YGHtrPTR5dYU",
        "outputId": "9fa86bfa-b877-487f-9824-fab8118e5f0a"
      },
      "source": [
        "list1=[1,2,3]\n",
        "list2=[4,5,6]\n",
        "list3=list1+list2 # This will concatenate two lists into one, but will not add the lists element by element!\n",
        "print(list3) "
      ],
      "execution_count": null,
      "outputs": [
        {
          "output_type": "stream",
          "text": [
            "[1, 2, 3, 4, 5, 6]\n"
          ],
          "name": "stdout"
        }
      ]
    },
    {
      "cell_type": "markdown",
      "metadata": {
        "id": "rA3s7GCf5dYa"
      },
      "source": [
        "## Use the extend() method to add list2 at the end of list1:"
      ]
    },
    {
      "cell_type": "code",
      "metadata": {
        "id": "S1fwDgZC5dYb",
        "outputId": "cb7af3f5-809e-4439-a2e5-7c71b4470d4e"
      },
      "source": [
        "\n",
        "list1 = [\"a\", \"b\" , \"c\"]\n",
        "list2 = [1, 2, 3]\n",
        "\n",
        "list1.extend(list2)\n",
        "print(list1)"
      ],
      "execution_count": null,
      "outputs": [
        {
          "output_type": "stream",
          "text": [
            "['a', 'b', 'c', 1, 2, 3]\n"
          ],
          "name": "stdout"
        }
      ]
    },
    {
      "cell_type": "markdown",
      "metadata": {
        "id": "W6uRXw_i5dYh"
      },
      "source": [
        "## Sort"
      ]
    },
    {
      "cell_type": "code",
      "metadata": {
        "id": "bLoOnUX95dYi",
        "outputId": "ba463a8b-6e84-46fb-dedd-bb19037c69b6"
      },
      "source": [
        "#sort arranges the elemets of the list from low to high\n",
        "\n",
        "x=['e', 'a', 'c', 'b', 'd']\n",
        "x.sort()\n",
        "print(x)"
      ],
      "execution_count": null,
      "outputs": [
        {
          "output_type": "stream",
          "text": [
            "['a', 'b', 'c', 'd', 'e']\n"
          ],
          "name": "stdout"
        }
      ]
    },
    {
      "cell_type": "markdown",
      "metadata": {
        "id": "VKtdQ_ID5dYo"
      },
      "source": [
        "## The list() Constructor\n",
        "It is also possible to use the list() constructor to make a new list."
      ]
    },
    {
      "cell_type": "code",
      "metadata": {
        "id": "GuNEMrl45dYp",
        "outputId": "e2cb2852-1129-4559-e258-95c456b61bbe"
      },
      "source": [
        "#Using the list() constructor to make a List:\n",
        "\n",
        "thislist = list((\"apple\", \"banana\", \"cherry\")) # note the double round-brackets\n",
        "print(thislist)"
      ],
      "execution_count": null,
      "outputs": [
        {
          "output_type": "stream",
          "text": [
            "['apple', 'banana', 'cherry']\n"
          ],
          "name": "stdout"
        }
      ]
    },
    {
      "cell_type": "markdown",
      "metadata": {
        "id": "xlXr-ucG5dYw"
      },
      "source": [
        "## Element by element operation"
      ]
    },
    {
      "cell_type": "code",
      "metadata": {
        "id": "FWaIB9Iz5dYx",
        "outputId": "47d78766-aa04-4ea8-88c8-87dc6505cbb9"
      },
      "source": [
        "a=[1,2,3]\n",
        "b=[4,5,6]\n",
        "c0=a[0]+b[0] #Add first elements from list a and list b\n",
        "c1=a[1]+b[1] #Add second elements from list a and list b\n",
        "c2=a[2]+b[2] #Add third elements from list a and list b\n",
        "print([c0,c1,c2])\n"
      ],
      "execution_count": null,
      "outputs": [
        {
          "output_type": "stream",
          "text": [
            "[5, 7, 9]\n"
          ],
          "name": "stdout"
        }
      ]
    },
    {
      "cell_type": "markdown",
      "metadata": {
        "id": "m7bDtM6K5dY5"
      },
      "source": [
        "# Work on it now (In the box below)\n",
        "\n",
        "x=[1,2,3] y=[4,5] z=[4,2,3,1]\n",
        "\n",
        "-  Using append add 4 to list x\n",
        "-  Using extend append list y to list x\n",
        "-  Using sort arrange the elements of list z\n",
        "\n",
        "Can we do the above operations if the list had mixed data types? Try it!"
      ]
    },
    {
      "cell_type": "code",
      "metadata": {
        "id": "0cjgL61y5dY6"
      },
      "source": [
        "#Write your code here\n",
        "\n",
        "\n"
      ],
      "execution_count": null,
      "outputs": []
    },
    {
      "cell_type": "markdown",
      "metadata": {
        "id": "ArtsySuv5dY_"
      },
      "source": [
        "# Work on it now (in the box below)\n",
        "If the list animal = ['cat', 'dog', 'bird', 'tiger', 'squirrel']\n",
        "\n",
        "-  Remove the second element on the list\n",
        "-  Remove 'tiger' from the list\n",
        "-  Remove the elements 'cat', 'dog','bird' at once"
      ]
    },
    {
      "cell_type": "code",
      "metadata": {
        "id": "mV3vOmXJ5dZA"
      },
      "source": [
        "#Write your code here\n",
        "\n"
      ],
      "execution_count": null,
      "outputs": []
    },
    {
      "cell_type": "markdown",
      "metadata": {
        "id": "HwK7Q_YE5dZG"
      },
      "source": [
        "## Let's say we have the following table\n",
        "![picture](https://drive.google.com/uc?id=1B4QHGrkMbXgXFu6EYUA9l8CpwUpMgFOH)\n",
        "\n",
        "\n",
        "Each value in the table is a data point. A collection of data points make up a data set. For instance, the first row has five data points:\n",
        "\n",
        "-  Facebook\n",
        "-  0.0\n",
        "-  USD\n",
        "-  2974676\n",
        "-  3.5\n"
      ]
    },
    {
      "cell_type": "markdown",
      "metadata": {
        "id": "MMEUz55f5dZH"
      },
      "source": [
        "# Find the average rating using positive indexing\n",
        "\n",
        "In the next cell, you can see the lists for the first three rows.\n",
        "\n",
        "The fourth element in each list describes the number of ratings an app has received. We need to retrieve the fourth element from each list, and then find the average value of the retrieved numbers.\n",
        "\n",
        "-  Assigning the fourth element from the list row_1 to a variable named ratings_1. (Don't forget that the indexing starts at 0).\n",
        "-  Assigning the fourth element from the list row_2 to a variable named ratings_2.\n",
        "-  Assigning the fourth element from the list row_3 to a variable named ratings_3.\n",
        "-  Then Add the three numbers retrieved together and save the sum to a variable named total.\n",
        "-  Dividing the sum (now saved in the variable total) by 3 to get the average number of ratings for the first three rows. Assign the result to a variable named average.\n",
        "\n"
      ]
    },
    {
      "cell_type": "code",
      "metadata": {
        "id": "SmZ5yc0z5dZI",
        "outputId": "ccb222d1-f6d6-4029-e770-21f8c30ffe29"
      },
      "source": [
        "row_1 = ['Facebook', 0.0, 'USD', 2974676, 3.5]\n",
        "row_2 = ['Instagram', 0.0, 'USD', 2161558, 4.5]\n",
        "row_3 = ['Clash of Clans', 0.0, 'USD', 2130805, 4.5]\n",
        "\n",
        "# Write your code here and execute it\n",
        "ratings_1=row_1[4]\n",
        "ratings_2=row_2[4]\n",
        "ratings_3=row_3[4]\n",
        "total=ratings_1+ratings_2+ratings_3\n",
        "average=total/3.0\n",
        "print(average)\n",
        "\n",
        "\n"
      ],
      "execution_count": null,
      "outputs": [
        {
          "output_type": "stream",
          "text": [
            "4.166666666666667\n"
          ],
          "name": "stdout"
        }
      ]
    },
    {
      "cell_type": "markdown",
      "metadata": {
        "id": "J2HZWOpi5dZO"
      },
      "source": [
        "# Work on it now using negative indexing\n",
        "\n",
        "The last element in each list shows the average rating of each application.\n",
        "\n",
        "Retrieve the ratings for the first three rows, and then find the average value of all the ratings retrieved.\n",
        "\n",
        "-  Assign the last element from the list row_1 to a variable named rating_1. Try to take advantage of negative indexing.\n",
        "-  Assign the last element from the list row_2 to a variable named rating_2.\n",
        "-  Assign the last element from the list row_3 to a variable named rating_3.\n",
        "-  Add the three ratings together and save the sum to a variable named total_rating.\n",
        "-  Divide the total by 3 to get the average rating. Assign the result to a variable named average_rating."
      ]
    },
    {
      "cell_type": "code",
      "metadata": {
        "id": "GlB-7XBF5dZP"
      },
      "source": [
        "row_1 = ['Facebook', 0.0, 'USD', 2974676, 3.5]\n",
        "row_2 = ['Instagram', 0.0, 'USD', 2161558, 4.5]\n",
        "row_3 = ['Clash of Clans', 0.0, 'USD', 2130805, 4.5]\n",
        "\n",
        "# Write your code here and execute it\n",
        "\n",
        "\n",
        "\n",
        "\n"
      ],
      "execution_count": null,
      "outputs": []
    },
    {
      "cell_type": "markdown",
      "metadata": {
        "id": "FMk9juF25dZY"
      },
      "source": [
        "Oftentimes, we need to retrieve more than one element from a list. \n",
        "Let's say we have the list ['Facebook', 0.0, 'USD', 2974676, 3.5], and \n",
        "we're interested in isolating only the name of the app and the data about ratings (the number of ratings and the rating). \n",
        "\n",
        "This is how we can do that:"
      ]
    },
    {
      "cell_type": "code",
      "metadata": {
        "id": "d86gqIAj5dZa",
        "outputId": "5e6ca4b8-e49b-4010-f925-c2805df4b86a"
      },
      "source": [
        "row_1 = ['Facebook', 0.0, 'USD', 2974676, 3.5]\n",
        "Fb_rating_data=[row_1[0],row_1[-2],row_1[-1]]\n",
        "Fb_rating_data"
      ],
      "execution_count": null,
      "outputs": [
        {
          "output_type": "execute_result",
          "data": {
            "text/plain": [
              "['Facebook', 2974676, 3.5]"
            ]
          },
          "metadata": {
            "tags": []
          },
          "execution_count": 24
        }
      ]
    },
    {
      "cell_type": "markdown",
      "metadata": {
        "id": "JW7eWlLS5dZg"
      },
      "source": [
        "- List can be sliced\n",
        "\n",
        "- List can be multiplied\n",
        "\n",
        "- List can be added"
      ]
    },
    {
      "cell_type": "code",
      "metadata": {
        "id": "RzmhE27z5dZh",
        "outputId": "ed464d23-42e7-49d6-85de-f3fb29645d2e"
      },
      "source": [
        "myList = [4, 21.2, 'hello']\n",
        "\n",
        "myList[0:2] # this will print the content of the list from 0 to n-1, here n=2(note the last one does not print!)\n",
        "#Change the above line so that the last one also prints"
      ],
      "execution_count": null,
      "outputs": [
        {
          "output_type": "execute_result",
          "data": {
            "text/plain": [
              "[4, 21.2]"
            ]
          },
          "metadata": {
            "tags": []
          },
          "execution_count": 16
        }
      ]
    },
    {
      "cell_type": "markdown",
      "metadata": {
        "id": "JywEtqH25dZm"
      },
      "source": [
        "![picture](https://drive.google.com/uc?id=1ztMAU8rBhrzwws_mgdxZFIzs7kLFw5vF)"
      ]
    },
    {
      "cell_type": "code",
      "metadata": {
        "id": "S81QR9XA5dZn",
        "outputId": "684a9b27-ab71-4531-dc5c-c0f8bbc1c6ea"
      },
      "source": [
        "row_3 = ['Clash of Clans', 0.0, 'USD', 2130805, 4.5]\n",
        "print(row_3[0:3]) #Slice1\n",
        "print(row_3[3:5]) #Slice2 (from the forward side) \n",
        "print(row_3[-2:]) #Slice2 (from the reverse side) \n",
        "print(row_3[1:4]) #Slice3\n",
        "\n",
        "#Note:\n",
        "#a_list[:x] when we want to select the first x elements.\n",
        "#a_list[-x:] when we want to select the last x elements.\n"
      ],
      "execution_count": null,
      "outputs": [
        {
          "output_type": "stream",
          "text": [
            "['Clash of Clans', 0.0, 'USD']\n",
            "[2130805, 4.5]\n",
            "[2130805, 4.5]\n",
            "[0.0, 'USD', 2130805]\n"
          ],
          "name": "stdout"
        }
      ]
    },
    {
      "cell_type": "markdown",
      "metadata": {
        "id": "aXHtPYpc5dZs"
      },
      "source": [
        "# Work on it now\n",
        "\n",
        "In the next cell, you can already see the lists for the 5 rows.\n",
        "\n",
        "-  Select the first four elements from row_1 using a list slicing syntax shortcut. Assign the output to a variable named first_4_fb.\n",
        "-  Select the last three elements from row_1 using a list slicing syntax shortcut. Assign the output to a variable named last_3_fb.\n",
        "-  From row_5, select the list slice ['USD', 1126879] using a list slicing syntax shortcut. Assign the output to a variable named pandora_3_4."
      ]
    },
    {
      "cell_type": "code",
      "metadata": {
        "id": "8zvnX5tr5dZt"
      },
      "source": [
        "row_1 = ['Facebook', 0.0, 'USD', 2974676, 3.5]\n",
        "row_2 = ['Instagram', 0.0, 'USD', 2161558, 4.5]\n",
        "row_3 = ['Clash of Clans', 0.0, 'USD', 2130805, 4.5]\n",
        "row_4 = ['Temple Run', 0.0, 'USD', 1724546, 4.5]\n",
        "row_5 = ['Pandora - Music & Radio', 0.0, 'USD', 1126879, 4.0]\n",
        "\n",
        "# Write your code here and execute it\n"
      ],
      "execution_count": null,
      "outputs": []
    },
    {
      "cell_type": "markdown",
      "metadata": {
        "id": "v4064BFC5dZz"
      },
      "source": [
        "# List of list\n",
        "\n",
        "From the mobile app store dataset, instead of having a separate variable for each of the five data points 'Facebook', 0.0, 'USD', 2974676, 3.5, we can bundle the data points together into a list, and then store the list in a single variable. That is called list of list.\n",
        "\n",
        "![picture](https://drive.google.com/uc?id=1-xYPpgviMjWx8rPz5g_j-ruT7B8ZoNEM)"
      ]
    },
    {
      "cell_type": "markdown",
      "metadata": {
        "id": "HC9WuDH15dZ0"
      },
      "source": [
        "-  Retrieve the first list element (row_1) using data_set[0].\n",
        "-  Retrieve the last list element (row_5) using data_set[-1].\n",
        "-  Retrieve the first two list elements (row_1 and row_2) by performing list slicing using data_set[:2].\n",
        "\n",
        "\n",
        "![picture](https://drive.google.com/uc?id=1BBtBPTvPROiKpwYnzOc53cyWDvFtmBoH)"
      ]
    },
    {
      "cell_type": "markdown",
      "metadata": {
        "id": "eGzyclg35dZ1"
      },
      "source": [
        "# Accessing list inside list element in one step\n",
        "\n",
        "![picture](https://drive.google.com/uc?id=1Q5MgU3T6FVzDgHU0B_ksqOoJmCF2nMT0)"
      ]
    },
    {
      "cell_type": "markdown",
      "metadata": {
        "id": "yCykAj8y5dZ2"
      },
      "source": [
        "# Work on it now\n",
        "\n",
        "In the next cell we've already stored the five rows as lists in separate variables. \n",
        "\n",
        "-  Group together the five lists in a list of lists. \n",
        "-  Assign the resulting list of lists to a variable named app_data_set.\n",
        "-  Compute the average rating of the apps by retrieving the right data points from the app_data_set list of lists.\n",
        "-  The rating is the last element of each row. You'll need to sum up the ratings and then divide by the number of ratings.\n",
        "-  Assign the result to a variable named avg_rating."
      ]
    },
    {
      "cell_type": "code",
      "metadata": {
        "id": "xWZ_R0JQ5dZ3"
      },
      "source": [
        "row_1 = ['Facebook', 0.0, 'USD', 2974676, 3.5]\n",
        "row_2 = ['Instagram', 0.0, 'USD', 2161558, 4.5]\n",
        "row_3 = ['Clash of Clans', 0.0, 'USD', 2130805, 4.5]\n",
        "row_4 = ['Temple Run', 0.0, 'USD', 1724546, 4.5]\n",
        "row_5 = ['Pandora - Music & Radio', 0.0, 'USD', 1126879, 4.0]\n",
        "\n",
        "#Write your codde here\n",
        "\n"
      ],
      "execution_count": null,
      "outputs": []
    },
    {
      "cell_type": "code",
      "metadata": {
        "id": "2uPlbw2O5dZ8"
      },
      "source": [
        ""
      ],
      "execution_count": null,
      "outputs": []
    },
    {
      "cell_type": "code",
      "metadata": {
        "id": "od0LaQ0cAS7j"
      },
      "source": [
        ""
      ],
      "execution_count": null,
      "outputs": []
    }
  ]
}