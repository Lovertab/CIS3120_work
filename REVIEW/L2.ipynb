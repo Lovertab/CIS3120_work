{
  "nbformat": 4,
  "nbformat_minor": 0,
  "metadata": {
    "celltoolbar": "Slideshow",
    "kernelspec": {
      "display_name": "Python 3",
      "language": "python",
      "name": "python3"
    },
    "language_info": {
      "codemirror_mode": {
        "name": "ipython",
        "version": 3
      },
      "file_extension": ".py",
      "mimetype": "text/x-python",
      "name": "python",
      "nbconvert_exporter": "python",
      "pygments_lexer": "ipython3",
      "version": "3.6.4rc1"
    },
    "colab": {
      "name": "L3.ipynb",
      "provenance": []
    }
  },
  "cells": [
    {
      "cell_type": "markdown",
      "metadata": {
        "id": "0xG_S_JHv4mF"
      },
      "source": [
        "\n",
        "\n",
        "## String Concatenation and F-string"
      ]
    },
    {
      "cell_type": "markdown",
      "metadata": {
        "id": "suar6J7Sv4mI"
      },
      "source": [
        "# String Literals\n",
        "\n",
        "String literals in python are surrounded by either single quotation marks, or double quotation marks.\n",
        "\n",
        "'hello' is the same as \"hello\".\n",
        "\n",
        "You can display a string literal with the print() function:"
      ]
    },
    {
      "cell_type": "code",
      "metadata": {
        "colab": {
          "base_uri": "https://localhost:8080/"
        },
        "id": "kY1BnwS1v4mL",
        "outputId": "1ca80ec9-b50c-416b-e5f6-9002b61a8bab"
      },
      "source": [
        "print(\"Hello\")\n",
        "print('Hello World')"
      ],
      "execution_count": null,
      "outputs": [
        {
          "output_type": "stream",
          "text": [
            "Hello\n",
            "Hello World\n"
          ],
          "name": "stdout"
        }
      ]
    },
    {
      "cell_type": "markdown",
      "metadata": {
        "id": "DUEOgQh1v4mM"
      },
      "source": [
        "# Assign String to a Variable\n",
        "\n",
        "Assigning a string to a variable is done with the variable name followed by an equal sign and the string:"
      ]
    },
    {
      "cell_type": "code",
      "metadata": {
        "colab": {
          "base_uri": "https://localhost:8080/"
        },
        "id": "v6IS1UcFv4mM",
        "outputId": "55a6c11f-42cf-4120-b843-a40e40f205ad"
      },
      "source": [
        "a = \"Hello\"\n",
        "print(a)"
      ],
      "execution_count": null,
      "outputs": [
        {
          "output_type": "stream",
          "text": [
            "Hello\n"
          ],
          "name": "stdout"
        }
      ]
    },
    {
      "cell_type": "markdown",
      "metadata": {
        "id": "ubshlBInv4mN"
      },
      "source": [
        "# Multiline Strings\n",
        "You can assign a multiline string to a variable by using three quotes:"
      ]
    },
    {
      "cell_type": "code",
      "metadata": {
        "id": "VXQDuToLv4mN",
        "outputId": "84a56d25-6b40-4880-aee5-fd6328404fc2"
      },
      "source": [
        "a = \"\"\"Lorem ipsum dolor sit amet,\n",
        "consectetur adipiscing elit,\n",
        "sed do eiusmod tempor incididun\n",
        "tut labore et dolore magna aliqua.\"\"\"\n",
        "print(a)"
      ],
      "execution_count": null,
      "outputs": [
        {
          "output_type": "stream",
          "text": [
            "Lorem ipsum dolor sit amet,\n",
            "consectetur adipiscing elit,\n",
            "sed do eiusmod tempor incididun\n",
            "tut labore et dolore magna aliqua.\n"
          ],
          "name": "stdout"
        }
      ]
    },
    {
      "cell_type": "code",
      "metadata": {
        "id": "qdJAzD64v4mN",
        "outputId": "a46c855f-240c-414b-cf12-d076904ee83f"
      },
      "source": [
        "sentence='''I like yogurt,\n",
        "pasta,rice,\n",
        "watermellon'''\n",
        "print(sentence)"
      ],
      "execution_count": null,
      "outputs": [
        {
          "output_type": "stream",
          "text": [
            "I like yogurt,\n",
            "pasta,rice,\n",
            "watermellon\n"
          ],
          "name": "stdout"
        }
      ]
    },
    {
      "cell_type": "markdown",
      "metadata": {
        "id": "0oBcFc_pv4mO"
      },
      "source": [
        "Or three single quotes:"
      ]
    },
    {
      "cell_type": "code",
      "metadata": {
        "id": "llHCx3iLv4mO"
      },
      "source": [
        "a = '''Lorem ipsum dolor sit amet,\n",
        "consectetur adipiscing elit,\n",
        "sed do eiusmod tempor incididunt\n",
        "ut labore et dolore magna aliqua.'''\n",
        "print(a)"
      ],
      "execution_count": null,
      "outputs": []
    },
    {
      "cell_type": "markdown",
      "metadata": {
        "id": "8TFeaAJzv4mO"
      },
      "source": [
        "# More about strings\n",
        "When we have two or more distinct strings, it's possible to link them together using the + operator.The process of linking\n",
        "two or more strings together is called concatenation. "
      ]
    },
    {
      "cell_type": "code",
      "metadata": {
        "id": "qoldpKgKv4mP",
        "outputId": "79f58bdf-8aa3-4011-89b7-948bffdedae3"
      },
      "source": [
        "print('a'+'b') # you can use '' and \"\" interchangeably to represent string, sometimes it depends on the situation\n",
        "print('a'+' '+'b') #introduce a blank space\n",
        "print('This'+'is'+'a'+'sentence.') #With no space in between\n",
        "print('This'+' '+'is'+' '+'a'+' '+'sentence.')\n",
        "print('This '+'is '+'a '+'sentence.')\n",
        "\n",
        "\n",
        "\n",
        "\n"
      ],
      "execution_count": null,
      "outputs": [
        {
          "output_type": "stream",
          "text": [
            "ab\n",
            "a b\n",
            "Thisisasentence.\n",
            "This is a sentence.\n",
            "This is a sentence.\n",
            "This is a number\n"
          ],
          "name": "stdout"
        }
      ]
    },
    {
      "cell_type": "markdown",
      "metadata": {
        "id": "rfdeA0wkv4mP"
      },
      "source": [
        "# Work on it now\n",
        "\n",
        "Write a script where you will assign a string \"Welcome,\" into a variable named A and your name into a variable named B. Then, assuming for now user's name is John Mayer, have the script output using string assignment, concatenation and print operation: \n",
        "\n",
        "Welcome, John Mayer!\n",
        "\n"
      ]
    },
    {
      "cell_type": "code",
      "metadata": {
        "id": "YmwoBHmmv4mP"
      },
      "source": [
        "# Write your code here\n",
        "\n",
        "A=\n",
        "B=\n",
        "print(+)\n"
      ],
      "execution_count": null,
      "outputs": []
    },
    {
      "cell_type": "code",
      "metadata": {
        "id": "cjQLnX73v4mQ"
      },
      "source": [
        "#We can't perform arithmetical operations between strings and integers, or strings and floats (decimal numbers).\n",
        "print('4'+1) #Trying to add string 4 with integer 1. This is not allowed. Here surrounding 4 with quotation, changed its data type from int to float"
      ],
      "execution_count": null,
      "outputs": []
    },
    {
      "cell_type": "markdown",
      "metadata": {
        "id": "RK3Iudlrv4mQ"
      },
      "source": [
        "# Escape character in string"
      ]
    },
    {
      "cell_type": "code",
      "metadata": {
        "id": "qaFquBM1v4mQ",
        "outputId": "be2317a5-8af6-4b59-90e0-e89c5628c2ed"
      },
      "source": [
        "\n",
        "x=\"pandora's box\" # Here we have enclosed the string with double quote to display apostrophe(') as a single code\n",
        "print(x)\n",
        "\n",
        "#But if you want to enclose the string with single quote, and want to display apostrophe(') as a special charater, do the following:\n",
        "x1='pandora\\'s box' #Here \\ is an escape character to make python understand to escape apostrophe(') as a special character and the string does not end there\n",
        "print(x1)\n",
        "x3=\"pandora\\'s box\"\n",
        "print(x3)"
      ],
      "execution_count": null,
      "outputs": [
        {
          "output_type": "stream",
          "text": [
            "pandora's box\n",
            "pandora's box\n",
            "pandora's box\n"
          ],
          "name": "stdout"
        }
      ]
    },
    {
      "cell_type": "code",
      "metadata": {
        "id": "2weLqydpv4mR",
        "outputId": "8b0cfee3-c2db-494a-df71-008a589e0642"
      },
      "source": [
        "# New line escape character\n",
        "\n",
        "print('One\\nTwo\\nThree') # New line escape character\n"
      ],
      "execution_count": null,
      "outputs": [
        {
          "output_type": "stream",
          "text": [
            "One\n",
            "Two\n",
            "Three\n"
          ],
          "name": "stdout"
        }
      ]
    },
    {
      "cell_type": "code",
      "metadata": {
        "id": "ZI0EZJ2yv4mR",
        "outputId": "fada599e-35e7-484d-8bd9-483aecc8946b"
      },
      "source": [
        "#The \\t escape character advances the output to the next horizontal tab position\n",
        "print('Mon\\tTues\\tWed')"
      ],
      "execution_count": null,
      "outputs": [
        {
          "output_type": "stream",
          "text": [
            "Mon\tTues\tWed\n"
          ],
          "name": "stdout"
        }
      ]
    },
    {
      "cell_type": "markdown",
      "metadata": {
        "id": "nR__RmdTv4mR"
      },
      "source": [
        "# Work on it now\n",
        "-  Assign the string $\\textbf{Facebook's rating is}$ to a variable named $\\textbf{facebook}$\n",
        "-  Assign the $\\textbf{float 3.5}$ to a variable named $\\textbf{fb_rating}$\n",
        "-  Convert fb_rating from a float to a string using the $\\textbf{str()}$ command, and assign the converted value to a new variable named  $\\textbf{fb_rating_str}$\n",
        "-  Concatenate the strings stored in $\\textbf{facebook}$ and $\\textbf{fb_rating_str}$ to form the string $\\textbf{Facebook's rating is 3.5}$\n",
        "-  Assign the concatenated string to a variable named $\\textbf{fb}$\n",
        "-  You'll need to add a space character between Facebook's rating is and 3.5 to avoid ending up with the string Facebook's rating is 3.5.\n",
        "-  Display the fb variable using $\\textbf{print()}$"
      ]
    },
    {
      "cell_type": "code",
      "metadata": {
        "id": "OUo3vcAvv4mS"
      },
      "source": [
        "# Write your code here\n",
        "\n",
        " \n"
      ],
      "execution_count": null,
      "outputs": []
    },
    {
      "cell_type": "markdown",
      "metadata": {
        "id": "S_7YpZBov4mS"
      },
      "source": [
        "# Specifying an Item Seperator\n",
        "-  When multiple arguments passed to the $\\textbf{print}$ function, they are automatically seperated by a space when they are displayed on the screen\n",
        "\n",
        "-  If you don't want a space printed between the items you can pass the argument $\\textbf{sep=}$\n",
        "\n",
        "-  You can also use special argument to specify a character other than the space to seperate multiple items.\n"
      ]
    },
    {
      "cell_type": "code",
      "metadata": {
        "id": "RbP4RDttv4mT",
        "outputId": "395cd0cb-cef1-43a8-b9c4-4322b5323c09"
      },
      "source": [
        "print('One','Two','Three')\n",
        "print('One','Two','Three', sep=\"\")\n",
        "print('One','Two','Three', sep='*')\n",
        "print('One','Two','Three', sep=',')\n",
        "print('One','Two','Three', sep='@')\n",
        "print('one','two',sep='+')\n",
        "print(\"one \"+\"two\")\n",
        "print(\"one@\"+\"two\")\n",
        "\n"
      ],
      "execution_count": null,
      "outputs": [
        {
          "output_type": "stream",
          "text": [
            "One Two Three\n",
            "OneTwoThree\n",
            "One*Two*Three\n",
            "One,Two,Three\n",
            "One@Two@Three\n",
            "one+two\n",
            "one two\n",
            "one@two\n"
          ],
          "name": "stdout"
        }
      ]
    },
    {
      "cell_type": "markdown",
      "metadata": {
        "id": "H6NduAbov4mT"
      },
      "source": [
        "# Reading Input From the Keyboard\n",
        "-  Most of the programs that you will write will need to read input and then perform an operation on that input\n",
        "-  When a program reads data from the keyboard\n",
        "-  Usually it stores that data in a variable so it can be used later by the program\n"
      ]
    },
    {
      "cell_type": "code",
      "metadata": {
        "colab": {
          "base_uri": "https://localhost:8080/"
        },
        "id": "2qxpwiUrv4mU",
        "outputId": "5867074c-c7a3-45a3-b54b-33fb6ff1dfdb"
      },
      "source": [
        "# Get the user's first name\n",
        "first_name= input('Enter your first name:')\n",
        "\n",
        "# Get the user's last name\n",
        "last_name = input ('Enter your last name:')\n",
        "\n",
        "#Print a greeting to the user\n",
        "print('Hello', first_name, last_name)"
      ],
      "execution_count": null,
      "outputs": [
        {
          "output_type": "stream",
          "text": [
            "Enter your first name:Priyanka\n",
            "Enter your last name:Samanta\n",
            "Hello Priyanka Samanta\n"
          ],
          "name": "stdout"
        }
      ]
    },
    {
      "cell_type": "markdown",
      "metadata": {
        "id": "c3N8NEU9v4mU"
      },
      "source": [
        "# Reading Number with the input Function\n",
        "-  The input function always returns the user's input as a string, even if the user enters numeric data\n",
        "-  For example, suppose you call the input function and enter the number 5, and press ENTER key. The value returned from the input is '5'\n",
        "-  This can be problem if you want to use the value for mathematical operation\n",
        "-  Python has built-in functions that you can use to convert a string to a numeric type"
      ]
    },
    {
      "cell_type": "code",
      "metadata": {
        "colab": {
          "base_uri": "https://localhost:8080/"
        },
        "id": "0S3K0Mtvv4mV",
        "outputId": "b4997646-150c-481c-80e9-b30162ff1c5f"
      },
      "source": [
        "number= input(\"What is the number?\")\n",
        "print(type(number))\n"
      ],
      "execution_count": null,
      "outputs": [
        {
          "output_type": "stream",
          "text": [
            "What is the number?10\n",
            "<class 'str'>\n"
          ],
          "name": "stdout"
        }
      ]
    },
    {
      "cell_type": "code",
      "metadata": {
        "id": "5ATDPAFBv4mV"
      },
      "source": [
        "\n",
        "int(item)  # Pass an argument to the int() function and it return the argument's value converted to an int\n",
        "float(item) # Pass an argument to the float() function and it return the argument's value converted to a float"
      ],
      "execution_count": null,
      "outputs": []
    },
    {
      "cell_type": "code",
      "metadata": {
        "colab": {
          "base_uri": "https://localhost:8080/"
        },
        "id": "UyldLvlLv4mW",
        "outputId": "9bcbad22-eeb6-4e8b-f695-763d53a40988"
      },
      "source": [
        "#First statement gets the number of hours and assign to a value as a string\n",
        "#Second statement calls the int()function, passing string_value as an argument\n",
        "#This is inefficient because it creates two varaiables\n",
        "\n",
        "string_value= input('How many hours did you work?')\n",
        "\n",
        "hours=int(string_value)\n",
        "print(type(hours))"
      ],
      "execution_count": null,
      "outputs": [
        {
          "output_type": "stream",
          "text": [
            "How many hours did you work?20\n",
            "<class 'int'>\n"
          ],
          "name": "stdout"
        }
      ]
    },
    {
      "cell_type": "code",
      "metadata": {
        "id": "JwDce42Av4mW",
        "outputId": "63c6a2f0-07b5-484a-f135-5937493abceb"
      },
      "source": [
        "#Better approach: nested function\n",
        "hours= int(input('How many hours did you work?'))\n",
        "print(type(hours))"
      ],
      "execution_count": null,
      "outputs": [
        {
          "output_type": "stream",
          "text": [
            "How many hours did you work?4\n",
            "<class 'int'>\n"
          ],
          "name": "stdout"
        }
      ]
    },
    {
      "cell_type": "markdown",
      "metadata": {
        "id": "qgcsIWGIv4mY"
      },
      "source": [
        "# Work on it now\n",
        "-  Write a script which uses the input function to read a string, an int, and a float, as input from keyboard prompts the user to enter his/her name as string, his/her age as integer value, and his/her income as a decimal.\n",
        "\n",
        "- For example your output will display as\n",
        "\n",
        "Emma is 30 years old and her income is 2000000"
      ]
    },
    {
      "cell_type": "code",
      "metadata": {
        "id": "1BLJwLGqv4mY"
      },
      "source": [
        "# Write your code here\n",
        "\n",
        "name=input(\"Your name\")\n",
        "age=input(\"\")\n",
        "\n",
        "print(name,'is')"
      ],
      "execution_count": null,
      "outputs": []
    },
    {
      "cell_type": "markdown",
      "metadata": {
        "id": "FqMjGUBVv4mY"
      },
      "source": [
        "# Displaying Formatted Output with F-strings\n",
        "-  F-strings are special type of string literal that allow you to format a variety of ways\n",
        "-  With an f-string, you can create messages that contain the contents of variables, and you can format numbers in a variety of ways\n",
        "-  An f-string is a string literal that is enclosed in quotation marks and prefixed with the letter f"
      ]
    },
    {
      "cell_type": "code",
      "metadata": {
        "id": "FIgzlkznv4mY",
        "outputId": "0fd7c4be-8c3b-4f3e-8cd5-cf48394e081f"
      },
      "source": [
        "#f'Hello world'\n",
        "print(f'Hello world')"
      ],
      "execution_count": null,
      "outputs": [
        {
          "output_type": "stream",
          "text": [
            "Hello world\n"
          ],
          "name": "stdout"
        }
      ]
    },
    {
      "cell_type": "code",
      "metadata": {
        "id": "eBPvRh9Pv4mZ",
        "outputId": "52d26908-207d-4c82-940e-264becc62a34"
      },
      "source": [
        "name='Johny'\n",
        "last_name= 'Dean'\n",
        "print(f'Hello {name}') #{name} is a placeholder inside f-string\n",
        "print(f\"Hello {last_name}\")\n",
        "\n"
      ],
      "execution_count": null,
      "outputs": [
        {
          "output_type": "stream",
          "text": [
            "Hello Johny\n",
            "Hello Dean\n"
          ],
          "name": "stdout"
        }
      ]
    },
    {
      "cell_type": "code",
      "metadata": {
        "id": "zPpykLhnv4mZ",
        "outputId": "ee1cf373-a99d-4910-f461-1460f377a11d"
      },
      "source": [
        "temperature = 45\n",
        "print(f'It is currently {temperature} degrees.')"
      ],
      "execution_count": null,
      "outputs": [
        {
          "output_type": "stream",
          "text": [
            "It is currently 45 degrees.\n"
          ],
          "name": "stdout"
        }
      ]
    },
    {
      "cell_type": "code",
      "metadata": {
        "id": "7HnMItKQv4ma",
        "outputId": "687723dd-62c2-4126-a91d-1ebe01d3ff2f"
      },
      "source": [
        "temperature= 45\n",
        "print(\"It is currently \", temperature, \"degrees\")\n",
        "\n"
      ],
      "execution_count": null,
      "outputs": [
        {
          "output_type": "stream",
          "text": [
            "It is currently  45 degrees\n"
          ],
          "name": "stdout"
        }
      ]
    },
    {
      "cell_type": "code",
      "metadata": {
        "id": "_5EbugCkv4ma",
        "outputId": "9d2cf809-430f-4f87-e59b-a201b7c7ffdb"
      },
      "source": [
        "# Placeholders can contain any valid expression\n",
        "print(f'The value is {10+2}.')\n",
        "\n",
        "print(f'The value is 10+2.')\n",
        "\n",
        "val=10\n",
        "print(f'The value is {val+2}.')"
      ],
      "execution_count": null,
      "outputs": [
        {
          "output_type": "stream",
          "text": [
            "The value is 12.\n",
            "The value is 10+2.\n",
            "The value is 12.\n"
          ],
          "name": "stdout"
        }
      ]
    },
    {
      "cell_type": "markdown",
      "metadata": {
        "id": "KXE9eKjBv4mb"
      },
      "source": [
        "# Formatting Values\n",
        "## Rounding Floating-Point Numbers\n",
        "-  You might not always be happy with the way that floating-point numbers are displayed on the screen\n",
        "-  When floating number is displayed by the print function it can appear with up to 17 significant digits"
      ]
    },
    {
      "cell_type": "code",
      "metadata": {
        "id": "Y4o8ZEfkv4mb",
        "outputId": "55cdd084-4f20-451e-a66a-32d8294761ec"
      },
      "source": [
        "#This program demonstrates how a floating-point number is displayed with no formatting\n",
        "\n",
        "amount_due= 5000.0\n",
        "monthly_payment = amount_due/12.0\n",
        "print(monthly_payment)\n",
        "print(f'The monthly payment is {monthly_payment}')"
      ],
      "execution_count": null,
      "outputs": [
        {
          "output_type": "stream",
          "text": [
            "416.6666666666667\n",
            "The monthly payment is 416.6666666666667\n"
          ],
          "name": "stdout"
        }
      ]
    },
    {
      "cell_type": "markdown",
      "metadata": {
        "id": "cGW2Fg7yv4mc"
      },
      "source": [
        "-  Because this program displays a dollar amount, it would be nice to see that amount rounded by two decimal places\n",
        "- We can do it using .2f"
      ]
    },
    {
      "cell_type": "code",
      "metadata": {
        "id": "QWtvwyDNv4mc",
        "outputId": "a65c1866-9922-4924-b73b-f3547b31c115"
      },
      "source": [
        "#This program demonstrates how a floating-point number can be rounded\n",
        "\n",
        "amount_due= 5000.0\n",
        "monthly_payment = amount_due/12.0\n",
        "print(f'The monthly payment is {monthly_payment:.2f}')"
      ],
      "execution_count": null,
      "outputs": [
        {
          "output_type": "stream",
          "text": [
            "The monthly payment is 416.67\n"
          ],
          "name": "stdout"
        }
      ]
    },
    {
      "cell_type": "code",
      "metadata": {
        "id": "_suynHQ0v4mc",
        "outputId": "5c328857-e960-4a9c-b369-83f89e1f0e06"
      },
      "source": [
        "number=123123.456789\n",
        "print(f'Here is my number {number:.2f}')\n",
        "print(f'Here is my number {number}')\n"
      ],
      "execution_count": null,
      "outputs": [
        {
          "output_type": "stream",
          "text": [
            "Here is my number 123123.46\n",
            "Here is my number 123123.456789\n"
          ],
          "name": "stdout"
        }
      ]
    },
    {
      "cell_type": "markdown",
      "metadata": {
        "id": "GNlWN7pkv4mc"
      },
      "source": [
        "-  It is easier for the human eye to read large numbers if they are displayed with comma seperators\n",
        "-  You can use a format specifier to insert comma seperators into a number"
      ]
    },
    {
      "cell_type": "code",
      "metadata": {
        "id": "6AH6dDguv4md",
        "outputId": "081e49dc-992c-463c-a9f9-def5088108b1"
      },
      "source": [
        "number =123456789.1234 #123,456,789.1234 \n",
        "print(f'{number:,}')"
      ],
      "execution_count": null,
      "outputs": [
        {
          "output_type": "stream",
          "text": [
            "123,456,789.1234\n"
          ],
          "name": "stdout"
        }
      ]
    },
    {
      "cell_type": "code",
      "metadata": {
        "id": "nTvINKVOv4md",
        "outputId": "9f38eea0-48b8-4554-a279-0a370d0b5e78"
      },
      "source": [
        "# You can even combine comma seperators and rounding the number\n",
        "\n",
        "number = 123456789.1234\n",
        "print(f'{number:,.2f}')"
      ],
      "execution_count": null,
      "outputs": [
        {
          "output_type": "stream",
          "text": [
            "123,456,789.12\n"
          ],
          "name": "stdout"
        }
      ]
    },
    {
      "cell_type": "markdown",
      "metadata": {
        "id": "46EGEVgjv4md"
      },
      "source": [
        "## Formatting a Floating-Point Number as a Percentage\n",
        "\n",
        "-  You can also use % symbol to format a floating point number as apercentage\n",
        "-  The symbol % causes the number to be multiplied by 100"
      ]
    },
    {
      "cell_type": "code",
      "metadata": {
        "id": "52-USa6Gv4me",
        "outputId": "5e66ed33-6fe8-450c-dfe5-de524299752e"
      },
      "source": [
        "discount= 0.5\n",
        "\n",
        "print(f'{discount:%}')\n"
      ],
      "execution_count": null,
      "outputs": [
        {
          "output_type": "stream",
          "text": [
            "50.000000%\n"
          ],
          "name": "stdout"
        }
      ]
    },
    {
      "cell_type": "code",
      "metadata": {
        "id": "SIuud_auv4me",
        "outputId": "934f7693-733b-48dd-a3d0-1ba7871f9196"
      },
      "source": [
        "# Example of rounding output value to 0 decimal places\n",
        "discount= 0.5\n",
        "print(f'{discount:.0%}')"
      ],
      "execution_count": null,
      "outputs": [
        {
          "output_type": "stream",
          "text": [
            "50%\n"
          ],
          "name": "stdout"
        }
      ]
    },
    {
      "cell_type": "markdown",
      "metadata": {
        "id": "oqkakz7Pv4mf"
      },
      "source": [
        "# Work on it Now \n",
        "\n",
        "- Assign 971825.12334 to a variable called value_1 and using the print function and f-string display your output as rounded to 3 decimal places\n",
        "\n",
        "- Assign 6734911444 to a variable called value_2 and using the print function and appropriate f-string display your output with comma.\n"
      ]
    },
    {
      "cell_type": "code",
      "metadata": {
        "id": "hvi-OQdsv4mg"
      },
      "source": [
        "# Work here\n",
        "\n"
      ],
      "execution_count": null,
      "outputs": []
    },
    {
      "cell_type": "markdown",
      "metadata": {
        "id": "-asbK6Vav4mg"
      },
      "source": [
        "# Work on it Now \n",
        "\n",
        "- Take an number as an input (say the number )\n",
        "- Multiply the number with 10\n",
        "- Print the result using f-string as\n",
        "The final result is "
      ]
    },
    {
      "cell_type": "code",
      "metadata": {
        "id": "zPZZkyuev9IQ"
      },
      "source": [
        ""
      ],
      "execution_count": null,
      "outputs": []
    }
  ]
}