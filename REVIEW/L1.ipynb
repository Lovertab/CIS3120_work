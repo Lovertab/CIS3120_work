{
  "nbformat": 4,
  "nbformat_minor": 0,
  "metadata": {
    "celltoolbar": "Slideshow",
    "kernelspec": {
      "display_name": "Python 3",
      "language": "python",
      "name": "python3"
    },
    "language_info": {
      "codemirror_mode": {
        "name": "ipython",
        "version": 3
      },
      "file_extension": ".py",
      "mimetype": "text/x-python",
      "name": "python",
      "nbconvert_exporter": "python",
      "pygments_lexer": "ipython3",
      "version": "3.6.4rc1"
    },
    "colab": {
      "name": "L2.ipynb",
      "provenance": []
    }
  },
  "cells": [
    {
      "cell_type": "markdown",
      "metadata": {
        "id": "T27Q2SEBwq08"
      },
      "source": [
        "\n",
        "\n",
        "## Input, Processing and Output"
      ]
    },
    {
      "cell_type": "markdown",
      "metadata": {
        "id": "rlKNCmCswq0_"
      },
      "source": [
        "# Why Python?\n",
        "\n",
        "- Relatively easy to learn,simple programming syntax\n",
        "\n",
        "- Fast to write a code,code readability and English-like commands\n",
        "\n",
        "- Intuitive\n",
        "\n",
        "- It is one of the most popular languages used in data science, machine learning and AI systems and various modern technologies\n",
        "\n",
        "- Python Has Amazing Libraries from NumPy and SciPy for scientific computing to Django for web development, scikit-learn for machine learning applications and nltk for natural language processing\n",
        "\n"
      ]
    },
    {
      "cell_type": "markdown",
      "metadata": {
        "id": "0qnYSF1Fwq1B"
      },
      "source": [
        "# $\\textbf{print}$ Function\n",
        "\n",
        "- Python has numerous built-in functions that perform various operations\n",
        "\n",
        "- Perhaps the most fundemental built-in function is the print function\n",
        "\n",
        "- $\\textbf{print}$ displays output on the screen\n"
      ]
    },
    {
      "cell_type": "code",
      "metadata": {
        "colab": {
          "base_uri": "https://localhost:8080/"
        },
        "id": "ZUORBjXOwq1C",
        "outputId": "7526e04c-2fbe-424f-c1dc-c1ed9ab628aa"
      },
      "source": [
        "print(\"Hello world\")\n",
        "print(4)\n",
        "print('Avinash')"
      ],
      "execution_count": 1,
      "outputs": [
        {
          "output_type": "stream",
          "name": "stdout",
          "text": [
            "Hello world\n",
            "4\n",
            "Avinash\n"
          ]
        }
      ]
    },
    {
      "cell_type": "markdown",
      "metadata": {
        "id": "fmCWL9-Owq1D"
      },
      "source": [
        "# Variables\n",
        "\n",
        "- A Python variable is a reserved memory location to store values.\n",
        "- In other words, a variable in a python program gives data to the computer for processing. \n",
        "- Every value in Python has a datatype. \n",
        "- Different data types in Python are Numbers, List, Tuple, Strings, Dictionary, etc.\n",
        "- We will learn all the data tyypes in this course. \n",
        "\n",
        "## Variable Names\n",
        "A variable can have a short name (like x and y) or a more descriptive name (age, carname, total_volume). Rules for Python variables:\n",
        "- A variable name must start with a letter or the underscore character\n",
        "- A variable name cannot start with a number\n",
        "- A variable name can only contain alpha-numeric characters and underscores (A-z, 0-9, and _ )\n",
        "- Variable names are case-sensitive (age, Age and AGE are three different variables)\n",
        "\n",
        "\n",
        "\n"
      ]
    },
    {
      "cell_type": "code",
      "metadata": {
        "colab": {
          "base_uri": "https://localhost:8080/"
        },
        "id": "k6IYU0l-wq1F",
        "outputId": "57f77f45-cba5-43a0-9d57-94c9f7539a1a"
      },
      "source": [
        "greeting = \"Hello, World!\" #Here greeting is a variable name which stores a string or text \"Hello, World!\"\n",
        "\n",
        "x_1 = 23 #Here x is a variable name which stores an integer value 23\n",
        "\n",
        "pi = 3.14 #Here pi is a variable name which stores a float value 3.14\n",
        "\n",
        "#We can print the value of the variables using print command\n",
        "print(x_1)\n",
        "print(greeting)\n",
        "print(pi)"
      ],
      "execution_count": null,
      "outputs": [
        {
          "output_type": "stream",
          "text": [
            "23\n",
            "Hello, World!\n",
            "3.14\n"
          ],
          "name": "stdout"
        }
      ]
    },
    {
      "cell_type": "markdown",
      "metadata": {
        "id": "8vioWVGZwq1G"
      },
      "source": [
        "## Assign Value to Multiple Variables\n",
        "Python allows you to assign values to multiple variables in one line:"
      ]
    },
    {
      "cell_type": "code",
      "metadata": {
        "id": "H6GNAkDawq1H",
        "outputId": "ec55b806-20fe-4801-9a55-04ab7d243c05"
      },
      "source": [
        "x, y, z = \"Orange\", \"Yellow\", \"Green\"\n",
        "print(x)\n",
        "print(y)\n",
        "print(z)"
      ],
      "execution_count": null,
      "outputs": [
        {
          "output_type": "stream",
          "text": [
            "Orange\n",
            "Yellow\n",
            "Green\n"
          ],
          "name": "stdout"
        }
      ]
    },
    {
      "cell_type": "code",
      "metadata": {
        "id": "XbbZOLCvwq1H",
        "outputId": "939c9776-4aaf-4a1d-beba-189d345b7935"
      },
      "source": [
        "x= \"Orange\"\n",
        "y=\"Yellow\"\n",
        "z=\"Green\"\n",
        "\n",
        "print(x)\n",
        "print(y)\n",
        "print(z)"
      ],
      "execution_count": null,
      "outputs": [
        {
          "output_type": "stream",
          "text": [
            "Orange\n",
            "Yellow\n",
            "Green\n"
          ],
          "name": "stdout"
        }
      ]
    },
    {
      "cell_type": "markdown",
      "metadata": {
        "id": "Io0RKQLywq1I"
      },
      "source": [
        "### And you can assign the same value to multiple variables in one line:"
      ]
    },
    {
      "cell_type": "code",
      "metadata": {
        "id": "qhqrs0Anwq1I",
        "outputId": "07e6d1bf-90b8-4978-cc07-2d19fe830376"
      },
      "source": [
        "x = y = z = \"Orange\"\n",
        "print(x)\n",
        "print(y)\n",
        "print(z)"
      ],
      "execution_count": null,
      "outputs": [
        {
          "output_type": "stream",
          "text": [
            "Orange\n",
            "Orange\n",
            "Orange\n"
          ],
          "name": "stdout"
        }
      ]
    },
    {
      "cell_type": "code",
      "metadata": {
        "id": "IJTcjZaywq1J"
      },
      "source": [
        "x= \"Orange\"\n",
        "y=\"Orange\"\n",
        "z=\"Orange\""
      ],
      "execution_count": null,
      "outputs": []
    },
    {
      "cell_type": "markdown",
      "metadata": {
        "id": "loynCQD0wq1K"
      },
      "source": [
        "## We cannot use the following keywords (reserved words) as variable name in Python.\n",
        "\n",
        "-  pass,          return ,       False\n",
        "-  raise,         for,          None\n",
        "-  finally,       from,          True\n",
        "-  continue,      global,        and\n",
        "-  nonlocal,      try,           as\n",
        "-  with,          import,        assert\n",
        "-  yield,         in,            break\n",
        "-  or,            is,            class\n",
        "-  elif,          lambda,        if\n",
        "-  not,           while,         def\n",
        "-  else,          del\n",
        "           \n"
      ]
    },
    {
      "cell_type": "code",
      "metadata": {
        "id": "IszpzByCwq1K",
        "outputId": "8fba70b0-223b-414e-9e55-8d494b5250fb"
      },
      "source": [
        "pass= 5\n",
        "print(pass)"
      ],
      "execution_count": null,
      "outputs": [
        {
          "output_type": "error",
          "ename": "SyntaxError",
          "evalue": "invalid syntax (<ipython-input-7-1b4cc73c20f8>, line 1)",
          "traceback": [
            "\u001b[0;36m  File \u001b[0;32m\"<ipython-input-7-1b4cc73c20f8>\"\u001b[0;36m, line \u001b[0;32m1\u001b[0m\n\u001b[0;31m    pass= 5\u001b[0m\n\u001b[0m        ^\u001b[0m\n\u001b[0;31mSyntaxError\u001b[0m\u001b[0;31m:\u001b[0m invalid syntax\n"
          ]
        }
      ]
    },
    {
      "cell_type": "markdown",
      "metadata": {
        "id": "YRYuyetVwq1L"
      },
      "source": [
        "![picture](https://drive.google.com/uc?id=1_E3pPsjZHsOGTRJ1NI0zOXfEgL4ut5Pp)"
      ]
    },
    {
      "cell_type": "markdown",
      "metadata": {
        "id": "hIROQVhYwq1L"
      },
      "source": [
        "# Displaying Multiple Items with the $\\textbf{print}$ Function\n",
        "\n",
        "- Python allow us to display multiple items with one call to $\\textbf{print}$ function\n",
        "- We simply seperate the items with commos"
      ]
    },
    {
      "cell_type": "code",
      "metadata": {
        "id": "zL4mPIYRwq1M",
        "outputId": "fc5379ea-0a07-4048-ea28-eff464120e5e"
      },
      "source": [
        "# This program demonstrates a variable\n",
        "number = 5\n",
        "print('My lucky number is',number)"
      ],
      "execution_count": null,
      "outputs": [
        {
          "output_type": "stream",
          "text": [
            "My lucky number is 5\n"
          ],
          "name": "stdout"
        }
      ]
    },
    {
      "cell_type": "code",
      "metadata": {
        "id": "qyA6cYJXwq1N",
        "outputId": "1aee953b-03ec-47b0-8161-12e3523f4541"
      },
      "source": [
        "# This program demonstrates variable reassignment\n",
        "# Assign a value to the weight variable\n",
        "\n",
        "pound = 150\n",
        "print('Last year my weight was', pound, 'before my diet')\n",
        "\n",
        "\n",
        "# Reassign weight so it references\n",
        "# a different value\n",
        "\n",
        "pound = 130\n",
        "print('Today my weight is', pound, 'after my diet!')"
      ],
      "execution_count": null,
      "outputs": [
        {
          "output_type": "stream",
          "text": [
            "Last year my weight was 150 before my diet\n",
            "Today my weight is 130 after my diet!\n"
          ],
          "name": "stdout"
        }
      ]
    },
    {
      "cell_type": "markdown",
      "metadata": {
        "id": "Zxx1mBn2wq1O"
      },
      "source": [
        "# Warning\n",
        "\n",
        "- You cannot write currency symbols, spaces or commas in numeric literals. for example\n",
        "\n",
        "value = $3,300.12 # Error\n",
        "\n",
        "- This statement must be written as \n",
        "\n",
        "value = 3300.12  # Correct"
      ]
    },
    {
      "cell_type": "code",
      "metadata": {
        "id": "eP2iNK_Iwq1O",
        "outputId": "5cb1a75f-0465-4909-8745-b34000e6fc1e"
      },
      "source": [
        "# What will the folowing code display?\n",
        "\n",
        "val = 99\n",
        "print('The value is', 'val')\n",
        "print('The value is', val)\n"
      ],
      "execution_count": null,
      "outputs": [
        {
          "output_type": "stream",
          "text": [
            "The value is val\n",
            "The value is 99\n"
          ],
          "name": "stdout"
        }
      ]
    },
    {
      "cell_type": "code",
      "metadata": {
        "id": "l2avZqzVwq1P",
        "outputId": "be0759ce-6a28-4118-dc9e-5f83212d6bf8"
      },
      "source": [
        "# What will be displayed by the following program?\n",
        "\n",
        "my_value = 99\n",
        "my_value = 0\n",
        "print( my_value)"
      ],
      "execution_count": null,
      "outputs": [
        {
          "output_type": "stream",
          "text": [
            "0\n"
          ],
          "name": "stdout"
        }
      ]
    },
    {
      "cell_type": "markdown",
      "metadata": {
        "id": "n7XHE7yKwq1Q"
      },
      "source": [
        "# Python Data Types\n",
        "\n",
        "- Built-in Data Types\n",
        "\n",
        "  - In programming, data type is an important concept.\n",
        "\n",
        "  - Variables can store data of different types, and different types can do different things.\n",
        "\n",
        "  - Python has the following data types built-in by default, in these categories:\n",
        "\n",
        "    - Text Type:\tstr\n",
        "    - Numeric Types:\tint, float, complex\n",
        "    - Sequence Types:\tlist, tuple, range\n",
        "    - Mapping Type:\tdict\n",
        "    - Set Types:\tset, frozenset\n",
        "    - Boolean Type:\tbool\n",
        "    - Binary Types:\tbytes, bytearray, memoryview"
      ]
    },
    {
      "cell_type": "markdown",
      "metadata": {
        "id": "Nu1-RroCwq1Q"
      },
      "source": [
        "# Getting the Data Type\n",
        "\n",
        "You can get the data type of any object by using the type() function:In python everything is an object, that is why it will show as a class instance."
      ]
    },
    {
      "cell_type": "code",
      "metadata": {
        "id": "1gJyxYZ9wq1R",
        "outputId": "634ec862-ee21-4595-b14b-07b54620c389"
      },
      "source": [
        "#We can find the type of a value using type\n",
        "a = 10\n",
        "print(type(a))\n",
        "\n",
        "\n",
        "\n",
        "#note: everything after pound sign is a comment\n",
        "# Here a is of interger (int) datatype "
      ],
      "execution_count": null,
      "outputs": [
        {
          "output_type": "stream",
          "text": [
            "<class 'int'>\n"
          ],
          "name": "stdout"
        }
      ]
    },
    {
      "cell_type": "code",
      "metadata": {
        "id": "RxnbLwEkwq1S",
        "outputId": "8b555976-6c08-4a0f-b40a-a46e861da4ea"
      },
      "source": [
        "b=10.56\n",
        "print(type(b)) #here b is a float"
      ],
      "execution_count": null,
      "outputs": [
        {
          "output_type": "stream",
          "text": [
            "<class 'float'>\n"
          ],
          "name": "stdout"
        }
      ]
    },
    {
      "cell_type": "markdown",
      "metadata": {
        "id": "iyLNOZXiwq1T"
      },
      "source": [
        "# Examples of different data types in Python\n",
        "\n",
        "Find the type of given values using \"type\" command \n",
        "\n"
      ]
    },
    {
      "cell_type": "code",
      "metadata": {
        "id": "DflSVdtSwq1U",
        "outputId": "2d78c1ab-d0ed-4936-d452-8764e8b8fa11"
      },
      "source": [
        "# Find the data type\n",
        "x = \"Hello World\" #the data type should be a string\n",
        "print(type(x))"
      ],
      "execution_count": null,
      "outputs": [
        {
          "output_type": "stream",
          "text": [
            "<class 'str'>\n"
          ],
          "name": "stdout"
        }
      ]
    },
    {
      "cell_type": "code",
      "metadata": {
        "id": "SY8gYgwxwq1U",
        "outputId": "4110b3e2-85c4-4720-a311-8c4ed5dccb06"
      },
      "source": [
        "# Find the data type\n",
        "x = 20 #the data type should be int (integer)\n",
        "print(type(x))"
      ],
      "execution_count": null,
      "outputs": [
        {
          "output_type": "stream",
          "text": [
            "<class 'int'>\n"
          ],
          "name": "stdout"
        }
      ]
    },
    {
      "cell_type": "code",
      "metadata": {
        "id": "0YQY6XzQwq1V",
        "outputId": "6fd8cbf1-2d45-47a7-afba-ef2c96cfd769"
      },
      "source": [
        "# Find the data type\n",
        "x = 20.5 #the data type should be float\n",
        "print(type(x))"
      ],
      "execution_count": null,
      "outputs": [
        {
          "output_type": "stream",
          "text": [
            "<class 'float'>\n"
          ],
          "name": "stdout"
        }
      ]
    },
    {
      "cell_type": "code",
      "metadata": {
        "id": "P8M36VRewq1V",
        "outputId": "bcbd621a-f5c1-4408-a0dc-b5f5ade8d1eb"
      },
      "source": [
        "# Find the data type\n",
        "x = 1j #the data type should be complex number\n",
        "print(type(x))"
      ],
      "execution_count": null,
      "outputs": [
        {
          "output_type": "stream",
          "text": [
            "<class 'complex'>\n"
          ],
          "name": "stdout"
        }
      ]
    },
    {
      "cell_type": "code",
      "metadata": {
        "id": "cn_P_U4Cwq1W",
        "outputId": "87d0e83c-4453-4a5f-efe1-657c16a14644"
      },
      "source": [
        "# Find the data type\n",
        "x = [\"apple\", \"banana\", \"cherry\"] #the data type should be list\n",
        "print(type(x))"
      ],
      "execution_count": null,
      "outputs": [
        {
          "output_type": "stream",
          "text": [
            "<class 'list'>\n"
          ],
          "name": "stdout"
        }
      ]
    },
    {
      "cell_type": "code",
      "metadata": {
        "id": "2PvxK-Azwq1W",
        "outputId": "f7816b0b-592b-43c0-f50a-8a8fee3bccc5"
      },
      "source": [
        "# Find the data type\n",
        "x = (\"apple\", \"banana\", \"cherry\") #the data type should be tuple\n",
        "print(type(x))"
      ],
      "execution_count": null,
      "outputs": [
        {
          "output_type": "stream",
          "text": [
            "<class 'tuple'>\n"
          ],
          "name": "stdout"
        }
      ]
    },
    {
      "cell_type": "code",
      "metadata": {
        "id": "iY7WGy0Dwq1a",
        "outputId": "f19b2b9d-5c17-4e11-f697-94b6866fb8d0"
      },
      "source": [
        "# Find the data type\n",
        "x = {\"name\" : \"John\", \"age\" : 36} #the data type should be dict(dictionary)\n",
        "print(type(x))\n"
      ],
      "execution_count": null,
      "outputs": [
        {
          "output_type": "stream",
          "text": [
            "<class 'dict'>\n"
          ],
          "name": "stdout"
        }
      ]
    },
    {
      "cell_type": "code",
      "metadata": {
        "id": "OqD-doXiwq1c",
        "outputId": "c1cdc963-8b67-4778-fa20-209adb3daf63"
      },
      "source": [
        "# Find the data type\n",
        "x = {\"apple\", \"banana\", \"cherry\"} #the data type should be set\n",
        "print(type(x))"
      ],
      "execution_count": null,
      "outputs": [
        {
          "output_type": "stream",
          "text": [
            "<class 'set'>\n"
          ],
          "name": "stdout"
        }
      ]
    },
    {
      "cell_type": "code",
      "metadata": {
        "id": "jgH9fpTdwq1f",
        "outputId": "3bb1d237-1b27-4f87-ddf4-1f399f704d84"
      },
      "source": [
        "# Find the data type\n",
        "x = bytearray(5) #the data type should be bytearray\n",
        "print(type(x))\n"
      ],
      "execution_count": null,
      "outputs": [
        {
          "output_type": "stream",
          "text": [
            "<class 'bytearray'>\n"
          ],
          "name": "stdout"
        }
      ]
    },
    {
      "cell_type": "code",
      "metadata": {
        "id": "Jrp-Vnukwq1g",
        "outputId": "798d534e-0024-42e9-85dd-9d308e97b48b"
      },
      "source": [
        "# Find the data type\n",
        "x = True #the data type should be bool (boolean), it can take 2 values, either True or False\n",
        "\n",
        "print(type(x))"
      ],
      "execution_count": null,
      "outputs": [
        {
          "output_type": "stream",
          "text": [
            "<class 'bool'>\n"
          ],
          "name": "stdout"
        }
      ]
    },
    {
      "cell_type": "markdown",
      "metadata": {
        "id": "N-cVXSapwq1g"
      },
      "source": [
        "# Python Numbers\n",
        "\n",
        "There are three numeric types in Python:\n",
        "\n",
        "- int\n",
        "- float\n",
        "- complex\n",
        "Variables of numeric types are created when you assign a value to them:\n",
        "\n"
      ]
    },
    {
      "cell_type": "code",
      "metadata": {
        "id": "DPfCLjPEwq1h",
        "outputId": "d9c362a6-fa74-4531-8d30-4829b9b0bf70"
      },
      "source": [
        "x = 1    # int\n",
        "y = 2.8  # float\n",
        "z = 1j   # complex\n",
        "\n",
        "print(type(x))\n",
        "print(type(y))\n",
        "print(type(z))"
      ],
      "execution_count": null,
      "outputs": [
        {
          "output_type": "stream",
          "text": [
            "<class 'int'>\n",
            "<class 'float'>\n",
            "<class 'complex'>\n"
          ],
          "name": "stdout"
        }
      ]
    },
    {
      "cell_type": "markdown",
      "metadata": {
        "id": "K2QKCDOUwq1h"
      },
      "source": [
        "# Int\n",
        "Int, or integer, is a whole number, positive or negative, without decimals, of unlimited length."
      ]
    },
    {
      "cell_type": "code",
      "metadata": {
        "id": "xLkG01lhwq1i",
        "outputId": "1e738fbf-ebe9-475e-cf30-ae716232323d"
      },
      "source": [
        "x = 1\n",
        "y = 35656222554887711\n",
        "z = -3255522\n",
        "\n",
        "print(type(x))\n",
        "print(type(y))\n",
        "print(type(z))"
      ],
      "execution_count": null,
      "outputs": [
        {
          "output_type": "stream",
          "text": [
            "<class 'int'>\n",
            "<class 'int'>\n",
            "<class 'int'>\n"
          ],
          "name": "stdout"
        }
      ]
    },
    {
      "cell_type": "markdown",
      "metadata": {
        "id": "CmZDS6dBwq1k"
      },
      "source": [
        "# Float\n",
        "Float, or \"floating point number\" is a number, positive or negative, containing one or more decimals."
      ]
    },
    {
      "cell_type": "code",
      "metadata": {
        "id": "x9mc0WfHwq1l",
        "outputId": "55972edf-1fae-4651-decc-0fd2c717e43c"
      },
      "source": [
        "x = 1.10\n",
        "y = 1.0\n",
        "z = -35.59\n",
        "\n",
        "print(type(x))\n",
        "print(type(y))\n",
        "print(type(z))"
      ],
      "execution_count": null,
      "outputs": [
        {
          "output_type": "stream",
          "text": [
            "<class 'float'>\n",
            "<class 'float'>\n",
            "<class 'float'>\n"
          ],
          "name": "stdout"
        }
      ]
    },
    {
      "cell_type": "markdown",
      "metadata": {
        "id": "rljqtmnpwq1m"
      },
      "source": [
        "### Float can also be scientific numbers with an \"e\" to indicate the power of 10."
      ]
    },
    {
      "cell_type": "code",
      "metadata": {
        "id": "mJoFBi2vwq1n",
        "outputId": "cdbba7c9-042c-46cb-a121-b9b72ce6e966"
      },
      "source": [
        "x = 35e3\n",
        "y = 12E4\n",
        "z = -87.7e100\n",
        "\n",
        "print(type(x))\n",
        "print(type(y))\n",
        "print(type(z))"
      ],
      "execution_count": null,
      "outputs": [
        {
          "output_type": "stream",
          "text": [
            "<class 'float'>\n",
            "<class 'float'>\n",
            "<class 'float'>\n"
          ],
          "name": "stdout"
        }
      ]
    },
    {
      "cell_type": "markdown",
      "metadata": {
        "id": "RxvAximnwq1o"
      },
      "source": [
        "# Complex\n",
        "Complex numbers are written with a \"j\" as the imaginary part:"
      ]
    },
    {
      "cell_type": "code",
      "metadata": {
        "id": "fTb_29OAwq1p",
        "outputId": "b27b99bc-a795-4166-e2d9-5a39a0350552"
      },
      "source": [
        "x = 3+5j\n",
        "y = 5j\n",
        "z = -5j\n",
        "\n",
        "print(type(x))\n",
        "print(type(y))\n",
        "print(type(z))"
      ],
      "execution_count": null,
      "outputs": [
        {
          "output_type": "stream",
          "text": [
            "<class 'complex'>\n",
            "<class 'complex'>\n",
            "<class 'complex'>\n"
          ],
          "name": "stdout"
        }
      ]
    },
    {
      "cell_type": "markdown",
      "metadata": {
        "id": "5rcyw1XIwq1p"
      },
      "source": [
        "# Type Conversion\n",
        "You can convert from one type to another with the int(), float(), and complex() methods:"
      ]
    },
    {
      "cell_type": "code",
      "metadata": {
        "id": "PCByyXbmwq1q",
        "outputId": "0017129e-a349-4833-d12a-38bf784b229a"
      },
      "source": [
        "x = 1 # int\n",
        "y = 2.8 # float\n",
        "z = 1j # complex\n",
        "\n",
        "#convert from int to float:\n",
        "a = float(x)\n",
        "\n",
        "#convert from float to int:\n",
        "b = int(y)\n",
        "\n",
        "#convert from int to complex:\n",
        "c = complex(x) \n",
        "\n",
        "print(a)\n",
        "print(b)\n",
        "print(c) \n",
        "\n",
        "print(type(a))\n",
        "print(type(b))\n",
        "print(type(c))"
      ],
      "execution_count": null,
      "outputs": [
        {
          "output_type": "stream",
          "text": [
            "1.0\n",
            "2\n",
            "(1+0j)\n",
            "<class 'float'>\n",
            "<class 'int'>\n",
            "<class 'complex'>\n"
          ],
          "name": "stdout"
        }
      ]
    },
    {
      "cell_type": "markdown",
      "metadata": {
        "id": "DlMytqdqwq1t"
      },
      "source": [
        "# Python arithmatic operators"
      ]
    },
    {
      "cell_type": "markdown",
      "metadata": {
        "id": "8sZPpMS4wq1t"
      },
      "source": [
        "<table>\n",
        "    <tr>\n",
        "        <td>\n",
        "\\begin{eqnarray}\n",
        "\\textbf{Operator} \\\\\n",
        "+  \\\\\n",
        "- \\\\\n",
        "* \\\\\n",
        "/ \\\\\n",
        "// \\\\           \n",
        "** \\\\\n",
        "\\%\\\\\n",
        "\\end{eqnarray}\n",
        "        </td>\n",
        "        <td>\n",
        "\\begin{eqnarray}\n",
        "\\textbf{Operation}\\\\\n",
        "Addition\\\\\n",
        "Subtraction\\\\\n",
        "Multiplication\\\\\n",
        "Division\\\\\n",
        "Integer Division \\\\           \n",
        "Power\\\\\n",
        "Remainder\\\\\n",
        "\\end{eqnarray}\n",
        "        </td>\n",
        "    </tr>\n",
        "</table>"
      ]
    },
    {
      "cell_type": "code",
      "metadata": {
        "id": "4pUaHcG8wq1u",
        "outputId": "1240176f-e1a3-4ff0-f7bc-415696edd296"
      },
      "source": [
        "# This will add 3 to given x value and print the answer\n",
        "x=2 #\"two is assigned to x\" or \"x is assigned two,\" but not \"x equals two.\"\n",
        "y=x+3\n",
        "print(y)\n",
        "\n",
        "#This will multiply x value by 310 and print the answer\n",
        "\n",
        "z=x*310\n",
        "print(z)\n",
        "\n",
        "#This will divide z value by 100 and print the answer\n",
        "\n",
        "k=z/100 \n",
        "print(k)\n",
        "\n",
        "# This will divide z value by 100 and print the answer as a whole number\n",
        "\n",
        "t=z//100 \n",
        "print(t)\n",
        "\n",
        "# This will divide z value by 3 and print the remainder term\n",
        "\n",
        "m=z%3  \n",
        "print(m)\n"
      ],
      "execution_count": null,
      "outputs": [
        {
          "output_type": "stream",
          "text": [
            "5\n",
            "620\n",
            "6.2\n",
            "6\n",
            "2\n"
          ],
          "name": "stdout"
        }
      ]
    },
    {
      "cell_type": "markdown",
      "metadata": {
        "id": "UJgWFdHZwq1u"
      },
      "source": [
        "# Work on it now\n",
        "\n",
        "-  Store the value 15 in a variable named a_value.\n",
        "-  Store the result of (25 - 7) * 17 to a variable named a_result.\n",
        "-  Using the print() command, display the following:\n",
        "    -  The value stored in the a_value variable.\n",
        "    -  The result of adding 12 to the variable a_result.\n",
        "    -  The result of adding a_value to a_result."
      ]
    },
    {
      "cell_type": "code",
      "metadata": {
        "id": "J_5A04iowq1v"
      },
      "source": [
        "# Write your code here \n",
        "\n",
        "\n",
        "\n"
      ],
      "execution_count": null,
      "outputs": []
    },
    {
      "cell_type": "markdown",
      "metadata": {
        "id": "4_nMAsVcwq1w"
      },
      "source": [
        "# Work on it now\n",
        "\n",
        "-  By assigning a variable to 21 write a script which prints 5 more than 21. \n",
        "-  Using the value which is printed write seperate scripts which prints multiplying the answer by 3, \n",
        "-  dividing the answer by 3 and \n",
        "-  finding the remainder of division by 3."
      ]
    },
    {
      "cell_type": "code",
      "metadata": {
        "id": "0O8akNdawq1y"
      },
      "source": [
        "# Write your code here\n",
        "\n"
      ],
      "execution_count": null,
      "outputs": []
    },
    {
      "cell_type": "markdown",
      "metadata": {
        "id": "jeWcJkW2wq1z"
      },
      "source": [
        "# Work on it now\n",
        "\n",
        "\n",
        "Write a code which finds the area  of a rectangle which has length 12cm and width 4cm.\n"
      ]
    },
    {
      "cell_type": "code",
      "metadata": {
        "id": "L7SzXBVlwq10"
      },
      "source": [
        "# Write your code here\n",
        "\n"
      ],
      "execution_count": null,
      "outputs": []
    },
    {
      "cell_type": "markdown",
      "metadata": {
        "id": "g28yi5wOwq11"
      },
      "source": [
        "# Order of Operation\n",
        "\n",
        "- Parenthesis\n",
        "- Power\n",
        "- Division\n",
        "- Multiplication\n",
        "- Addition\n",
        "- Left to Right"
      ]
    },
    {
      "cell_type": "code",
      "metadata": {
        "scrolled": true,
        "id": "nH5g8Xgowq11",
        "outputId": "5e83044f-624e-4dc0-99b8-465f01c9a02e"
      },
      "source": [
        "#Power operation first, then divison by 4, multiplication by 6 and add 3\n",
        "\n",
        "x=3+2**4/4*6 \n",
        "print(x)"
      ],
      "execution_count": null,
      "outputs": [
        {
          "output_type": "stream",
          "text": [
            "937.5\n"
          ],
          "name": "stdout"
        }
      ]
    },
    {
      "cell_type": "markdown",
      "metadata": {
        "id": "7-wLyooPwq12"
      },
      "source": [
        "## Below is a table with some syntax shortcuts we can use:\n",
        "![picture](https://drive.google.com/uc?id=1KZBgr4mqUcy_ElQ2QrQRQpD485b2rT3T)"
      ]
    },
    {
      "cell_type": "code",
      "metadata": {
        "id": "flMXMM6Hwq12",
        "outputId": "4ea06b7e-a70e-42c0-a1fd-706043463b61"
      },
      "source": [
        "x= 6\n",
        "x *=5\n",
        "\n",
        "\n",
        "print(x)"
      ],
      "execution_count": null,
      "outputs": [
        {
          "output_type": "stream",
          "text": [
            "30\n"
          ],
          "name": "stdout"
        }
      ]
    },
    {
      "cell_type": "markdown",
      "metadata": {
        "id": "J4qZ6m6Nwq12"
      },
      "source": [
        "# Work on it now\n",
        "-  Assign a value of 20 to a variable named variable_1.\n",
        "-  Assign a value of 20 to a variable named variable_2.\n",
        "-  Update the value of variable_2 by adding 10 to its current value. You can take advantage of the += operator.\n",
        "-  Update the value of variable_1 by multiplying its current value by 4. You can take advantage of the *= operator.\n",
        "-  Display variable_1 and variable_2 using print()."
      ]
    },
    {
      "cell_type": "code",
      "metadata": {
        "id": "QifOJo_swq13"
      },
      "source": [
        "# Write your code here\n",
        "\n"
      ],
      "execution_count": null,
      "outputs": []
    },
    {
      "cell_type": "markdown",
      "metadata": {
        "id": "OvnHcBYcwq13"
      },
      "source": [
        "# Type conversion and rounding operation"
      ]
    },
    {
      "cell_type": "code",
      "metadata": {
        "id": "YWdPa3Gmwq14",
        "outputId": "a23b5d62-7dd1-4ee2-bbe3-3642c5c8eab1"
      },
      "source": [
        "\n",
        "#It's possible to convert a float to an integer and vice versa. To convert an integer to a float, we can use the float() command. \n",
        "#To convert a float to an integer, we can use the int() command\n",
        "x=float(10)\n",
        "y=int(4.3)\n",
        "z1=round(4.99) #rounding of a number\n",
        "z2=round(4.53) #rounding of a number\n",
        "z3=round(4.3) #rounding of a number\n",
        "print(x)\n",
        "print(y)\n",
        "print(z1)\n",
        "print(z2)\n",
        "print(z3)"
      ],
      "execution_count": null,
      "outputs": [
        {
          "output_type": "stream",
          "text": [
            "10.0\n",
            "4\n",
            "5\n",
            "4\n",
            "4\n"
          ],
          "name": "stdout"
        }
      ]
    },
    {
      "cell_type": "markdown",
      "metadata": {
        "id": "sTxunamuwq14"
      },
      "source": [
        "# Work on it now\n",
        "-  Assign the value 13.9 to a variable named variable_a.\n",
        "-  Assign the value 2.8 to a variable named variable_b.\n",
        "-  Round variable_a using the round() command, and assign back the rounded value to variable_a.\n",
        "-  Convert variable_b from a float to an integer using the int() command, and assign back the converted value to variable_b.\n",
        "-  Display variable_a and variable_b using the print() command."
      ]
    },
    {
      "cell_type": "code",
      "metadata": {
        "id": "y6qxh77iwq15"
      },
      "source": [
        "# Write your code here\n",
        "\n"
      ],
      "execution_count": null,
      "outputs": []
    },
    {
      "cell_type": "code",
      "metadata": {
        "id": "AKiK4EWdwq16"
      },
      "source": [
        ""
      ],
      "execution_count": null,
      "outputs": []
    }
  ]
}