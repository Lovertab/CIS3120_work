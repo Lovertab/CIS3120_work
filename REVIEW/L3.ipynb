{
  "nbformat": 4,
  "nbformat_minor": 0,
  "metadata": {
    "celltoolbar": "Slideshow",
    "kernelspec": {
      "display_name": "Python 3",
      "language": "python",
      "name": "python3"
    },
    "language_info": {
      "codemirror_mode": {
        "name": "ipython",
        "version": 3
      },
      "file_extension": ".py",
      "mimetype": "text/x-python",
      "name": "python",
      "nbconvert_exporter": "python",
      "pygments_lexer": "ipython3",
      "version": "3.6.4rc1"
    },
    "colab": {
      "name": "L4.ipynb",
      "provenance": []
    }
  },
  "cells": [
    {
      "cell_type": "markdown",
      "metadata": {
        "id": "rvYFV_A8KE28"
      },
      "source": [
        "## Decision Structures and Boolean Logic\n"
      ]
    },
    {
      "cell_type": "markdown",
      "metadata": {
        "id": "rmDRfGnYKE2_"
      },
      "source": [
        "# Conditional Statements\n",
        "\n",
        "The following statements used in this section will involve test and condition.\n",
        "- if\n",
        "- if -else\n",
        "- elif\n"
      ]
    },
    {
      "cell_type": "markdown",
      "metadata": {
        "id": "1oYZsAKnKE3A"
      },
      "source": [
        "# The if statement\n",
        "\n",
        "In order to write useful programs, we almost always need the ability to check conditions and change the behavior of the program accordingly. Conditional statements give us this ability. The simplest form is the if statement, which has the genaral form:\n",
        "\n",
        "    if BOOLEAN EXPRESSION:\n",
        "        STATEMENTS\n",
        "        \n",
        "       \n",
        "\n",
        "A few important things to note about if statements:\n",
        "\n",
        "The colon (:) is significant and required. It separates the header of the compound statement from the body.\n",
        "The line after the colon must be indented. It is standard in Python to use four spaces for indenting.\n",
        "All lines indented the same amount after the colon will be executed whenever the BOOLEAN_EXPRESSION is true."
      ]
    },
    {
      "cell_type": "markdown",
      "metadata": {
        "id": "AIvXpD6kKE3B"
      },
      "source": [
        "The general Python syntax for a simple \"if\" statement is\n",
        "\n",
        "    if condition :\n",
        "        indentedStatementBlock\n",
        "\n",
        "- An if statement consists of a boolean expression followed by one or more statements.\n",
        "\n"
      ]
    },
    {
      "cell_type": "markdown",
      "metadata": {
        "id": "YiJFSza7KE3B"
      },
      "source": [
        "# Indentation \n",
        "\n",
        "- We use indent after an if statement. This means that everything indented after an if statement is only executed if the statement is True.\n",
        "\n",
        "-  If the statement is False, the program will not excecute and skip all indented code and resume at the first line of unintended code.\n",
        "\n",
        "- We need to maintain indent in order to indicate the scope of the block.\n",
        "-"
      ]
    },
    {
      "cell_type": "code",
      "metadata": {
        "colab": {
          "base_uri": "https://localhost:8080/"
        },
        "id": "xE8UU9VqKE3C",
        "outputId": "fc8d5a1c-e13e-4b7d-b4b6-9f01c364a364"
      },
      "source": [
        "#Example of \"if\" statement\n",
        "food = 'apple'\n",
        "\n",
        "if food =='pasta':\n",
        "\n",
        "  print('Ummmm, my favorite!')\n",
        "  print('I feel like saying it 100 times...')\n",
        "  print(100 * (food + '! '))\n",
        "print(\"Outside of indented block\")\n",
        "   "
      ],
      "execution_count": null,
      "outputs": [
        {
          "output_type": "stream",
          "text": [
            "Outside of indented block\n"
          ],
          "name": "stdout"
        }
      ]
    },
    {
      "cell_type": "markdown",
      "metadata": {
        "id": "wp-UeH4fKE3D"
      },
      "source": [
        "- The boolean expression after the if statement is called the condition. \n",
        "- If it is true, then all the indented statements get executed.\n",
        "- What happens if the condition is false, and food is not equal to 'rice'? \n",
        "- In a simple if statement like this, nothing happens, and the program continues on to the next statement.\n",
        "\n",
        "- Run the above example code and see what happens. Then change the value of food to something other than 'rice' and run it again, confirming that you don’t get any output."
      ]
    },
    {
      "cell_type": "markdown",
      "metadata": {
        "id": "9AV0AOsKKE3E"
      },
      "source": [
        "# Booleans\n",
        "\n",
        "Boolean expressions asks a question in order to get Yes/No or True/False answers.\n",
        "\n",
        "<table>\n",
        "    <tr>\n",
        "        <td>\n",
        "\\begin{eqnarray}\n",
        "\\textbf{Python} \\\\\n",
        "<  \\\\\n",
        "<= \\\\\n",
        "== \\\\\n",
        ">= \\\\\n",
        "> \\\\\n",
        "!=\\\\\n",
        "\\end{eqnarray}\n",
        "        </td>\n",
        "        <td>\n",
        "\\begin{eqnarray}\n",
        "\\textbf{Meaning}\\\\\n",
        "\\text{Less than}\\\\\n",
        "\\text{Less than or Equal}\\\\\n",
        "\\text{Equal to}\\\\\n",
        "\\text{Greater than or Equal}\\\\\n",
        "\\text{Greater than}\\\\\n",
        "\\text{Not equal}\\\\\n",
        "\\end{eqnarray}\n",
        "        </td>\n",
        "    </tr>\n",
        "</table>"
      ]
    },
    {
      "cell_type": "code",
      "metadata": {
        "colab": {
          "base_uri": "https://localhost:8080/"
        },
        "id": "bmzWDMc3KE3E",
        "outputId": "26041905-e4bf-494c-d306-b84a944ae73e"
      },
      "source": [
        "x=100\n",
        "\n",
        "if x==100: #Do not miss the colon after if statement\n",
        "    print('Equal 100') #Notice the indentation, one tab or 4 scape characters to the right make one indentation\n",
        "    \n",
        "if x<90: #Do not miss the colon after if statement\n",
        "    print('Less than 90') #Notice the indentation\n",
        "    \n",
        "if x<=90: #Do not miss the colon after if statement\n",
        "    print(\"Less than equal to 90\") #Notice the indentation\n",
        "        \n",
        "if x>90: #Do not miss the colon after if statement\n",
        "    print('Greater than 90') #Notice the indentation\n",
        "    \n",
        "if x>=90: #Do not miss the colon after if statement\n",
        "    print(\"Greater than equal to 90\") #Notice the indentation\n",
        "    \n",
        "      \n",
        "if x!=90: #Do not miss the colon after if statement\n",
        "    print('Not equal to 90') #Notice the indentation"
      ],
      "execution_count": null,
      "outputs": [
        {
          "output_type": "stream",
          "text": [
            "Equal 100\n",
            "Greater than 90\n",
            "Greater than equal to 90\n",
            "Not equal to 90\n"
          ],
          "name": "stdout"
        }
      ]
    },
    {
      "cell_type": "markdown",
      "metadata": {
        "id": "WU0szvBNKE3F"
      },
      "source": [
        "![picture](https://drive.google.com/uc?id=1aV7Na-VFTK8pPBAolcz7vZV_Ex8romgv)"
      ]
    },
    {
      "cell_type": "markdown",
      "metadata": {
        "id": "9iKlej-1KE3F"
      },
      "source": [
        "# Work on it Now!\n",
        "- Write a program that prompts you to input the length and width of two rectangles. And calculate the area of the two rectangles. Using the if statement write a code which says \"the area of the first rectangle is greater than the second rectangle\" \n",
        "\n",
        "- Your inputs for the first rectangle must be as follows when asked\n",
        "\n",
        "length= 10 width= 5\n",
        "- Your inputs for the second rectangle must be as follows when asked\n",
        "\n",
        "length =8 width =4\n",
        "\n",
        "\n"
      ]
    },
    {
      "cell_type": "code",
      "metadata": {
        "id": "xal8qHmuKE3F"
      },
      "source": [
        "# Work here\n",
        "\n",
        "length1=...input(\"\")\n",
        "width1=...input(\"\")\n",
        "\n",
        "area1=\n",
        "\n",
        "length2=...input(\"\")\n",
        "width2=...input(\"\")\n",
        "\n",
        "area2=\n",
        "\n",
        "if ...\n",
        "    print()\n",
        "    \n",
        "    \n",
        "the area of the first rectangle is greater than the second rectangle    "
      ],
      "execution_count": null,
      "outputs": []
    },
    {
      "cell_type": "markdown",
      "metadata": {
        "id": "ByzTasddKE3F"
      },
      "source": [
        "# The if-else statement\n",
        "- It is frequently the case that you want one thing to happen when a condition it true, and something else to happen when it is false. \n",
        "- For that we have the if-else statement.\n",
        "\n",
        "\n"
      ]
    },
    {
      "cell_type": "markdown",
      "metadata": {
        "id": "g_33K4iqKE3G"
      },
      "source": [
        "![picture](https://drive.google.com/uc?id=19dOWfAOGbSfQB2n81J873vMsCbod0awI)"
      ]
    },
    {
      "cell_type": "markdown",
      "metadata": {
        "id": "DNqiB7SdKE3G"
      },
      "source": [
        "## The syntax for an if else statement looks like this:\n",
        "\n",
        "    if BOOLEAN EXPRESSION:\n",
        "        STATEMENTS_1        # executed if condition evaluates to True\n",
        "    else:\n",
        "        STATEMENTS_2        # executed if condition evaluates to False\n",
        "        \n",
        "        \n",
        "- if clause and else clause must be aligned\n",
        "- Statements must be consistently indented        "
      ]
    },
    {
      "cell_type": "code",
      "metadata": {
        "colab": {
          "base_uri": "https://localhost:8080/"
        },
        "id": "zWNnNKMjKE3G",
        "outputId": "19e37caf-dda7-40cf-be1d-229ad57aa22d"
      },
      "source": [
        "\n",
        "x=0\n",
        "\n",
        "if (x>2):\n",
        "    print(\"You are right\")\n",
        "    print(\"You are doing great\")\n",
        "else:\n",
        "    print(\"You are wrong\")\n",
        "    print(\"Try again\")"
      ],
      "execution_count": null,
      "outputs": [
        {
          "output_type": "stream",
          "text": [
            "You are wrong\n",
            "Try again\n"
          ],
          "name": "stdout"
        }
      ]
    },
    {
      "cell_type": "code",
      "metadata": {
        "scrolled": true,
        "id": "vL6q-TEHKE3H"
      },
      "source": [
        "#Here, the first print statement will execute if food is equal to 'spam', \n",
        "#and the print statement indented under the else clause will get executed when it is not.\n",
        "\n",
        "#Flowchart of a if else statement\n",
        "food=\"rice\"\n",
        "\n",
        "if food == 'pasta':\n",
        "    print('Ummmm, my favorite!')\n",
        "else:\n",
        "    print(\"No, I won't have it. I want spam!\")"
      ],
      "execution_count": null,
      "outputs": []
    },
    {
      "cell_type": "markdown",
      "metadata": {
        "id": "59L4hX-cKE3J"
      },
      "source": [
        "# Work on it Now!\n",
        "\n",
        "A right triangle is a triangle which has a 90 degree angle and sum of the other two angles are also equal to 90 degrees\n",
        "- Write a program which uses if... else and that prompts you to input two angles of a triangle which are less than 90 degrees  and if the sum of the two angles equal to 90 degrees print\n",
        "    - It is a right triangle\n",
        "- If the sum of the two angles are not equal to 90 degrees print\n",
        "    - It is not a right triangle\n",
        "\n",
        "\n"
      ]
    },
    {
      "cell_type": "code",
      "metadata": {
        "id": "KOUgN_54KE3J"
      },
      "source": [
        "# Work here\n",
        "angle1= ...input(\"\")\n",
        "angle2= ...input(\"\")\n",
        "sum=\n",
        "\n",
        "if ...:\n",
        "    print\n",
        "else:   \n",
        "    print"
      ],
      "execution_count": null,
      "outputs": []
    },
    {
      "cell_type": "markdown",
      "metadata": {
        "id": "4tiFF-GbKE3M"
      },
      "source": [
        "# Chained conditionals: The if-elif-else Statement \n",
        "Sometimes there are more than two possibilities and we need more than two branches. One way to express a computation like that is a chained conditional:"
      ]
    },
    {
      "cell_type": "markdown",
      "metadata": {
        "id": "Lr29cE2xKE3M"
      },
      "source": [
        "\n",
        "    \n",
        "    if x < y:\n",
        "        STATEMENTS_A\n",
        "    elif x > y:\n",
        "        STATEMENTS_B\n",
        "    else:\n",
        "        STATEMENTS_C"
      ]
    },
    {
      "cell_type": "markdown",
      "metadata": {
        "id": "3Hpr8H9MKE3N"
      },
      "source": [
        "![picture](https://drive.google.com/uc?id=12hNyUAJIyBQj27jCHy6sIMTeWk3z0fgJ)"
      ]
    },
    {
      "cell_type": "markdown",
      "metadata": {
        "id": "K1JmgGbQKE3N"
      },
      "source": [
        "    if choice == 'a':\n",
        "        print(\"You chose 'a'.\")\n",
        "    elif choice == 'b':\n",
        "        print(\"You chose 'b'.\")\n",
        "    elif choice == 'c':\n",
        "        print(\"You chose 'c'.\")\n",
        "    else:\n",
        "        print(\"Invalid choice.\")"
      ]
    },
    {
      "cell_type": "markdown",
      "metadata": {
        "collapsed": true,
        "id": "23IcKi5fKE3O"
      },
      "source": [
        "# else and elif Statements\n",
        "\n",
        "- Using else and elif we can add more condition to the if statement.\n",
        "\n",
        "\n",
        "    \n",
        "    \n"
      ]
    },
    {
      "cell_type": "code",
      "metadata": {
        "id": "3lCl9T4oKE3O",
        "outputId": "f359d3af-19e5-4198-a62a-f6c181f8b3a4"
      },
      "source": [
        "#Example code\n",
        "x=5 #x is initialized to 5\n",
        "if x<3: #if x is less than 3\n",
        "    print('Less than 3')\n",
        "elif x>=4 and x<=9:  #else if x is greater than or equal to 4 and less than or equal to 9\n",
        "    print ('Less than 10')\n",
        "    \n",
        "else: #else for every other case, print None\n",
        "    print('None')"
      ],
      "execution_count": null,
      "outputs": [
        {
          "output_type": "stream",
          "text": [
            "Less than 10\n"
          ],
          "name": "stdout"
        }
      ]
    },
    {
      "cell_type": "markdown",
      "metadata": {
        "id": "E_Z7NVueKE3P"
      },
      "source": [
        "# Work on it \n",
        "\n",
        "Write a program that asks the user for a number in the range of 1 through 7. The program should display the corresponding day of the week , where 1=Monday, 2= Tuesday, 3= Wednesday, 4=Thursday, 5=Friday, 6=Saturday, 7=Sunday. The program should display an error message if the user enters a number that is outside the range of 1 through 7."
      ]
    },
    {
      "cell_type": "code",
      "metadata": {
        "id": "41hliodoKE3P"
      },
      "source": [
        "#Work here"
      ],
      "execution_count": null,
      "outputs": []
    },
    {
      "cell_type": "markdown",
      "metadata": {
        "id": "Fc-0On8dKE3P"
      },
      "source": [
        "# Work on it \n",
        "\n",
        "Write a program that asks the user to enter a person's age. The program should display a message indicating whether the person is an infant, a child, a teenager or an adult.\n",
        "Following are the guidelines:\n",
        "- If the person is 1 year old or less, he or she is an infant\n",
        "- If the person is older than 1 year, but younger than 13 years, he or she is a child\n",
        "- If the person is at least 13 years old, but less than 20 years old, he or she is a teenager\n",
        "- If the person is at least 20 years old, he or she is an adult"
      ]
    },
    {
      "cell_type": "markdown",
      "metadata": {
        "id": "W5PrDMqdKE3Q"
      },
      "source": [
        "# Work on it Now\n",
        "\n",
        "Given a numeric test score between 0 and 100, print out the letter grade according to the following rules:\n",
        "\n",
        "    A: 90 – 100\n",
        "    B: 80 – 89\n",
        "    C: 70 – 79\n",
        "    F: < 70"
      ]
    },
    {
      "cell_type": "code",
      "metadata": {
        "id": "iFbWWJuMKE3Q"
      },
      "source": [
        "test_score=int(input(\"Enter your test score\")) #Here user can input any score\n",
        "if test_score>=90 and test_score<=100: #A: 90 – 100\n",
        "    print(\"GRADE A\")\n",
        "#Continue your code here"
      ],
      "execution_count": null,
      "outputs": []
    },
    {
      "cell_type": "markdown",
      "metadata": {
        "id": "iDsVMNr-KE3Q"
      },
      "source": [
        "# Nested conditionals\n",
        "One conditional can also be nested within another. (It is the same theme of composibility, again!) We could have written the previous example as follows:"
      ]
    },
    {
      "cell_type": "markdown",
      "metadata": {
        "id": "6BwyzJ2fKE3R"
      },
      "source": [
        "![picture](https://drive.google.com/uc?id=1fHus-sM5Y9GtNFs7nH22hTCNZ-FGBYx0)"
      ]
    },
    {
      "cell_type": "markdown",
      "metadata": {
        "id": "bBYsfwYIKE3R"
      },
      "source": [
        "    if x < y:\n",
        "        STATEMENTS_A\n",
        "    else:\n",
        "        if x > y:\n",
        "            STATEMENTS_B\n",
        "        else:\n",
        "            STATEMENTS_C\n",
        "        \n",
        "The outer conditional contains two branches. The second branch contains another if statement, which has two branches of its own. Those two branches could contain conditional statements as well.\n",
        "\n",
        "Although the indentation of the statements makes the structure apparent, nested conditionals very quickly become difficult to read. In general, it is a good idea to avoid them when you can.\n",
        "\n",
        "Logical operators often provide a way to simplify nested conditional statements. For example, we can rewrite the following code using a single conditional:"
      ]
    },
    {
      "cell_type": "markdown",
      "metadata": {
        "id": "qDrE1BEjKE3R"
      },
      "source": [
        "    if 0 < x:            # assume x is an int here\n",
        "        if x < 10:\n",
        "            print(\"x is a positive single digit.\")\n",
        "            \n",
        "The print function is called only if we make it past both the conditionals, so we can use the and operator:\n",
        "\n",
        "    if 0 < x and x < 10:\n",
        "        print(\"x is a positive single digit.\")"
      ]
    },
    {
      "cell_type": "code",
      "metadata": {
        "colab": {
          "base_uri": "https://localhost:8080/"
        },
        "id": "ZeLXNPbOKE3S",
        "outputId": "bf538715-466c-4dc1-cbee-0d002bb82f67"
      },
      "source": [
        "x = 10\n",
        "y = 10\n",
        "\n",
        "if x < y:\n",
        "    print(\"x is less than y\")\n",
        "else:\n",
        "    if x > y:\n",
        "        print(\"x is greater than y\")\n",
        "    else:\n",
        "        print(\"x and y must be equal\")\n",
        "\n"
      ],
      "execution_count": null,
      "outputs": [
        {
          "output_type": "stream",
          "text": [
            "x and y must be equal\n"
          ],
          "name": "stdout"
        }
      ]
    },
    {
      "cell_type": "markdown",
      "metadata": {
        "id": "KJccduiyKE3S"
      },
      "source": [
        "# Boolean  Variables\n",
        "- To bool data type allows you to create variables that may reference one of two possible values : True or False\n"
      ]
    },
    {
      "cell_type": "code",
      "metadata": {
        "colab": {
          "base_uri": "https://localhost:8080/"
        },
        "id": "ck08Lp_IKE3T",
        "outputId": "393d4631-04ee-4dba-9c3b-fc41f14b5ec2"
      },
      "source": [
        "age= int(input(\"What is your age?\"))\n",
        "senior=True\n",
        "notSenior=False\n",
        "\n",
        "\n",
        "if age>=65:\n",
        "    print(senior)\n",
        "    \n",
        "    \n",
        "else:\n",
        "    print(notSenior)\n",
        "\n",
        "    "
      ],
      "execution_count": null,
      "outputs": [
        {
          "output_type": "stream",
          "text": [
            "What is your age?76\n",
            "True\n"
          ],
          "name": "stdout"
        }
      ]
    },
    {
      "cell_type": "markdown",
      "metadata": {
        "id": "MuA3xwq5KE3T"
      },
      "source": [
        "# Work on it \n",
        "Use a nested if statement and write a Python code. \n",
        "- First check if the person is an adult.\n",
        "- Then  make additional comparisons to see if he or she graduated or gotten a drivers license. Use True or False for these status. \n",
        "- If the person is graduated print Congratulations\n",
        "- If the person has a drivers license print \"Be safe\""
      ]
    },
    {
      "cell_type": "code",
      "metadata": {
        "id": "vUI0-YqjKE3U"
      },
      "source": [
        "# complete the code\n",
        "age =..input()\n",
        "isGraduated = \n",
        "hasLicense = \n",
        "\n"
      ],
      "execution_count": null,
      "outputs": []
    },
    {
      "cell_type": "markdown",
      "metadata": {
        "id": "C9uj1ePDKE3X"
      },
      "source": [
        "# Logical Operators\n",
        "Logical operators: operators that can be used to create complex Boolean expressions\n",
        "- and operator and or operator: binary operators, connect two Boolean expressions into a compound Boolean expression\n",
        "- not operator: unary operator, reverses the truth of its Boolean operand\n"
      ]
    },
    {
      "cell_type": "markdown",
      "metadata": {
        "id": "6GOnyM36KE3X"
      },
      "source": [
        "# The and Operator\n",
        "- Takes two Boolean expressions as operands \n",
        "  - Creates compound Boolean expression that is true only when both sub expressions are true\n",
        "  - Can be used to simplify nested decision structures\n",
        "\n"
      ]
    },
    {
      "cell_type": "markdown",
      "metadata": {
        "id": "donyK8BWKE3Y"
      },
      "source": [
        "# The or Operator\n",
        "- Takes two Boolean expressions as operands \n",
        " - Creates compound Boolean expression that is true when either of the sub expressions is true\n",
        " - Can be used to simplify nested decision structures\n",
        "\n"
      ]
    },
    {
      "cell_type": "markdown",
      "metadata": {
        "id": "1Mxjg_BcKE3Y"
      },
      "source": [
        "# The not Operator\n",
        "- Takes one Boolean expressions as operand and reverses its logical value\n",
        " - Sometimes it may be necessary to place parentheses around an expression to clarify to what you are applying the not operator\n"
      ]
    },
    {
      "cell_type": "markdown",
      "metadata": {
        "id": "yOBZCUrbKE3Y"
      },
      "source": [
        "![picture](https://drive.google.com/uc?id=1VbSJRFzA6ucNhSEBs97vQCd_qkXCtivv)\n"
      ]
    },
    {
      "cell_type": "code",
      "metadata": {
        "id": "TrtzbLl1KE3Y"
      },
      "source": [
        "#and operator\n",
        "\n",
        "false and ... = false  \n",
        "true or ...= true"
      ],
      "execution_count": null,
      "outputs": []
    },
    {
      "cell_type": "markdown",
      "metadata": {
        "id": "Qb99Z6x8KE3Z"
      },
      "source": [
        "# Short-Circuit Evaluation\n",
        "- Short circuit evaluation: deciding the value of a compound Boolean expression after evaluating only one sub expression\n",
        " - Performed by the or and and operators\n",
        "   - For or operator: If left operand is true, compound expression is true. Otherwise, evaluate right operand\n",
        "   - For and operator: If left operand is false, compound expression is false. Otherwise, evaluate right operand\t\t\n"
      ]
    },
    {
      "cell_type": "code",
      "metadata": {
        "colab": {
          "base_uri": "https://localhost:8080/"
        },
        "id": "ua7ietg7KE3Z",
        "outputId": "72f0cf00-0feb-4d43-cd59-3c767918f830"
      },
      "source": [
        "a = True \n",
        "b = False\n",
        "\n",
        "if (a and b) == True: \n",
        "    print(\"Both a and b are True\") \n",
        "    \n",
        "else: \n",
        "    print(\"At least one of them False\") "
      ],
      "execution_count": null,
      "outputs": [
        {
          "output_type": "stream",
          "text": [
            "At least one of them False\n"
          ],
          "name": "stdout"
        }
      ]
    },
    {
      "cell_type": "code",
      "metadata": {
        "colab": {
          "base_uri": "https://localhost:8080/"
        },
        "id": "4F5Q6THRKE3a",
        "outputId": "61f324df-aae3-4d2b-b8fb-81e88fbc6f06"
      },
      "source": [
        "a = True\n",
        "b = False\n",
        "\n",
        "#False or True= True\n",
        "  \n",
        "if (a or b) == False: # False or False=False\n",
        "    print(\"Both a, b are False\") \n",
        "    \n",
        "else: \n",
        "    print(\"At least one of them is True\") "
      ],
      "execution_count": null,
      "outputs": [
        {
          "output_type": "stream",
          "text": [
            "At least one of them is True\n"
          ],
          "name": "stdout"
        }
      ]
    },
    {
      "cell_type": "code",
      "metadata": {
        "colab": {
          "base_uri": "https://localhost:8080/"
        },
        "id": "_PBynI6yKE3b",
        "outputId": "563dcd36-92b5-4602-cfa3-d0de7e36644c"
      },
      "source": [
        "a =False\n",
        "b=True\n",
        "\n",
        "\n",
        "  \n",
        "if (not a)==True:\n",
        "    print(\"a is False\")\n",
        "    \n",
        "else:\n",
        "    print(\"a is True\")\n",
        "    "
      ],
      "execution_count": null,
      "outputs": [
        {
          "output_type": "stream",
          "text": [
            "a is False\n"
          ],
          "name": "stdout"
        }
      ]
    }
  ]
}