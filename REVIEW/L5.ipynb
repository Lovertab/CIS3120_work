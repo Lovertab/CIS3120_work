{
  "nbformat": 4,
  "nbformat_minor": 0,
  "metadata": {
    "kernelspec": {
      "display_name": "Python 3",
      "language": "python",
      "name": "python3"
    },
    "language_info": {
      "codemirror_mode": {
        "name": "ipython",
        "version": 3
      },
      "file_extension": ".py",
      "mimetype": "text/x-python",
      "name": "python",
      "nbconvert_exporter": "python",
      "pygments_lexer": "ipython3",
      "version": "3.6.4rc1"
    },
    "colab": {
      "name": "L5.ipynb",
      "provenance": []
    }
  },
  "cells": [
    {
      "cell_type": "markdown",
      "metadata": {
        "id": "M2fVEd7_xJxk"
      },
      "source": [
        "## Functions"
      ]
    },
    {
      "cell_type": "markdown",
      "metadata": {
        "id": "YC3cgTBKxJxn"
      },
      "source": [
        "# Functions\n",
        "\n",
        "- Function: group of statements within  a program that perform as specific task\n",
        "    - Usually one task of a large program\n",
        "        - Functions can be executed in order to perform overall program task\n",
        "    - Known as divide and conquer approach\n",
        "- Modularized program: program wherein each task within the program is in its own function\n",
        "\n",
        "\n",
        "\n",
        "- A function is a block of code which only runs when it is called.\n",
        "\n",
        "- You can pass data, known as parameters, into a function.\n",
        "\n",
        "- A function can return data as a result.\n",
        "\n",
        "- The key word to define a function is <span style=\"color:red\"> **def** </span>\n",
        "\n"
      ]
    },
    {
      "cell_type": "markdown",
      "metadata": {
        "id": "p8ZKAjWc4bCS"
      },
      "source": [
        "![picture](https://drive.google.com/uc?id=1g1yjr5q5quAv5fKy1pFTPWU-jUe30qNx)"
      ]
    },
    {
      "cell_type": "markdown",
      "metadata": {
        "id": "AOnPIg8mxJxo"
      },
      "source": [
        "# Creating a Function\n",
        "### In Python a function is defined using the <span style=\"color:red\"> **def** </span> keyword:"
      ]
    },
    {
      "cell_type": "code",
      "metadata": {
        "id": "ZTLAF_aCxJxp"
      },
      "source": [
        "def my_function():\n",
        "    print(\"Hello from a function\")"
      ],
      "execution_count": null,
      "outputs": []
    },
    {
      "cell_type": "markdown",
      "metadata": {
        "id": "kB-7VprHxJxt"
      },
      "source": [
        "# Calling a Function\n",
        "### To call a function, use the function name followed by parenthesis:"
      ]
    },
    {
      "cell_type": "code",
      "metadata": {
        "id": "Icx9MQuaxJxu",
        "outputId": "ca24f76d-bd3b-438c-d3d9-bbf645a595e5"
      },
      "source": [
        "def my_function(): #define a function, here function name is my_function\n",
        "    print(\"Hello from a function\")\n",
        "\n",
        "my_function() #call the function by its name"
      ],
      "execution_count": null,
      "outputs": [
        {
          "output_type": "stream",
          "text": [
            "Hello from a function\n"
          ],
          "name": "stdout"
        }
      ]
    },
    {
      "cell_type": "markdown",
      "metadata": {
        "id": "Wt5gkmYWCQv3"
      },
      "source": [
        "# Void Functions and Value-Returning Functions\n",
        "\n",
        "- A void function:\n",
        "    - Simply executes the statements it contains and then terminates.\n",
        "- A value-returning function:\n",
        "    - Executes the statements it contains, and then it returns a value back to the statement that called it."
      ]
    },
    {
      "cell_type": "markdown",
      "metadata": {
        "id": "uGoW9zVcxJxx"
      },
      "source": [
        "# Arguments\n",
        "\n",
        "### Information can be passed into functions as arguments.\n",
        "\n",
        "### Arguments are specified after the function name, inside the parentheses. You can add as many arguments as you want, just separate them with a comma.\n",
        "\n",
        "### The following example has a function with one argument (fname). When the function is called, we pass along a first name, which is used inside the function to print the full name:"
      ]
    },
    {
      "cell_type": "code",
      "metadata": {
        "id": "FLAdVaLSxJxy",
        "outputId": "c50a73d6-e835-42da-8af0-8d6f4717757a"
      },
      "source": [
        "def my_function(fname): #fname will hold the argument value passed through function calling\n",
        "    print(fname)\n",
        "\n",
        "my_function(\"Emil\") #you are calling the function with argument \"Emil\", hence fname=\"Emil\"\n",
        "my_function(\"Tobias\") #you are calling the function with argument \"Tobias\", hence fname=\"Tobias\"\n",
        "my_function(\"Linus\") #you are calling the function with argument \"Linus\", hence fname=\"Linus\""
      ],
      "execution_count": null,
      "outputs": [
        {
          "output_type": "stream",
          "text": [
            "Emil\n",
            "Tobias\n",
            "Linus\n"
          ],
          "name": "stdout"
        }
      ]
    },
    {
      "cell_type": "markdown",
      "metadata": {
        "id": "O3DpbS7HxJx1"
      },
      "source": [
        "# Parameters or Arguments?\n",
        "### The terms parameter and argument can be used for the same thing: information that are passed into a function.\n",
        "\n",
        "### From a function's perspective:\n",
        "\n",
        "### A parameter is the variable listed inside the parentheses in the function definition. In the previous example, fname is the parameter\n",
        "\n",
        "### An argument is the value that are sent to the function when it is called. In the previous example, 'Emil','Tobias' and 'Linus' were 3 different arguments when we called the function 3 times"
      ]
    },
    {
      "cell_type": "markdown",
      "metadata": {
        "id": "VPL6PWRHxJx2"
      },
      "source": [
        "# Number of Arguments\n",
        "\n",
        "### By default, a function must be called with the correct number of arguments. Meaning that if your function expects 2 arguments, you have to call the function with 2 arguments, not more, and not less."
      ]
    },
    {
      "cell_type": "code",
      "metadata": {
        "id": "AUFN0uzgxJx3",
        "outputId": "be9d11c3-2cfb-4807-8fc1-113135fdd75b"
      },
      "source": [
        "#This function expects 2 arguments, and gets 2 arguments:\n",
        "\n",
        "def my_function(fname, lname): #here fname and lname 2 parameters expect 2 arguments\n",
        "    print(fname + \" \" + lname)\n",
        "\n",
        "my_function(\"Emil\", \"Refsnes\") #here 'Emil' and 'Refsnes' are 2 arguments"
      ],
      "execution_count": null,
      "outputs": [
        {
          "output_type": "stream",
          "text": [
            "Emil Refsnes\n"
          ],
          "name": "stdout"
        }
      ]
    },
    {
      "cell_type": "markdown",
      "metadata": {
        "id": "Rdl3IYCrxJx9"
      },
      "source": [
        "### If you try to call the function with 1 or 3 arguments, you will get an error:"
      ]
    },
    {
      "cell_type": "code",
      "metadata": {
        "id": "HR3VGruExJx-",
        "outputId": "0992c6c0-3063-4ffa-c2fb-189901682090"
      },
      "source": [
        "#This function expects 2 arguments, but gets only 1:\n",
        "\n",
        "def my_function(fname, lname):\n",
        "    print(fname + \" \" + lname)\n",
        "\n",
        "my_function(\"Emil\")"
      ],
      "execution_count": null,
      "outputs": [
        {
          "output_type": "error",
          "ename": "TypeError",
          "evalue": "my_function() missing 1 required positional argument: 'lname'",
          "traceback": [
            "\u001b[1;31m---------------------------------------------------------------------------\u001b[0m",
            "\u001b[1;31mTypeError\u001b[0m                                 Traceback (most recent call last)",
            "\u001b[1;32m<ipython-input-8-191b99659359>\u001b[0m in \u001b[0;36m<module>\u001b[1;34m()\u001b[0m\n\u001b[0;32m      4\u001b[0m     \u001b[0mprint\u001b[0m\u001b[1;33m(\u001b[0m\u001b[0mfname\u001b[0m \u001b[1;33m+\u001b[0m \u001b[1;34m\" \"\u001b[0m \u001b[1;33m+\u001b[0m \u001b[0mlname\u001b[0m\u001b[1;33m)\u001b[0m\u001b[1;33m\u001b[0m\u001b[0m\n\u001b[0;32m      5\u001b[0m \u001b[1;33m\u001b[0m\u001b[0m\n\u001b[1;32m----> 6\u001b[1;33m \u001b[0mmy_function\u001b[0m\u001b[1;33m(\u001b[0m\u001b[1;34m\"Emil\"\u001b[0m\u001b[1;33m)\u001b[0m\u001b[1;33m\u001b[0m\u001b[0m\n\u001b[0m",
            "\u001b[1;31mTypeError\u001b[0m: my_function() missing 1 required positional argument: 'lname'"
          ]
        }
      ]
    },
    {
      "cell_type": "markdown",
      "metadata": {
        "id": "8Ub9HUtHxJyE"
      },
      "source": [
        "# Keyword Arguments\n",
        "### You can also send arguments with the key = value syntax.\n",
        "\n",
        "### This way the order of the arguments does not matter."
      ]
    },
    {
      "cell_type": "code",
      "metadata": {
        "id": "XD9_be6dxJyF",
        "outputId": "504df82a-8ab5-4752-c817-e22fa72dcede"
      },
      "source": [
        "def my_function(child3, child2, child1):\n",
        "    print(\"The youngest child is \" + child3)\n",
        "\n",
        "my_function(child1 = \"Emil\", child2 = \"Tobias\", child3 = \"Linus\")"
      ],
      "execution_count": null,
      "outputs": [
        {
          "output_type": "stream",
          "text": [
            "The youngest child is Linus\n"
          ],
          "name": "stdout"
        }
      ]
    },
    {
      "cell_type": "markdown",
      "metadata": {
        "id": "WrFToWUmxJyJ"
      },
      "source": [
        "# Default Parameter Value\n",
        "### The following example shows how to use a default parameter value.\n",
        "\n",
        "##### If we call the function without argument, it uses the default value:"
      ]
    },
    {
      "cell_type": "code",
      "metadata": {
        "id": "W5TBBi_uxJyJ",
        "colab": {
          "base_uri": "https://localhost:8080/"
        },
        "outputId": "cf23d0cc-b053-404c-e05f-c15aa90a1364"
      },
      "source": [
        "def my_function(country='Norway'):\n",
        "  print(\"I am from \" + country)\n",
        "  #print(\"I am from US\")\n",
        "\n",
        "\n",
        "my_function(\"Sweden\") #here country parameter will take value \"Sweden\"\n",
        "my_function(\"India\")  #here country parameter will take value \"India\"\n",
        "my_function() #here country parameter will take default value \"Norway\" as no argument was provided. If there was no default value was provide then it would have thrown error\n",
        "my_function(\"Brazil\") #here country parameter will take value \"Brazil\""
      ],
      "execution_count": null,
      "outputs": [
        {
          "output_type": "stream",
          "text": [
            "I am from Brazil\n"
          ],
          "name": "stdout"
        }
      ]
    },
    {
      "cell_type": "markdown",
      "metadata": {
        "id": "sKzx4ekyF7jh"
      },
      "source": [
        "# Local and global variables\n",
        "\n",
        "Variables that are defined inside a function body have a local scope, and those defined outside have a global scope.\n",
        "\n",
        "This means that local variables can be accessed only inside the function in which they are declared, whereas global variables can be accessed throughout the program body by all functions. When you call a function, the variables declared inside it are brought into scope."
      ]
    },
    {
      "cell_type": "code",
      "metadata": {
        "colab": {
          "base_uri": "https://localhost:8080/"
        },
        "id": "UyiJNbtTGA0s",
        "outputId": "82d73f3d-3210-4f7b-ed2d-a51374549c82"
      },
      "source": [
        "total = 0; # This is global variable.\n",
        "# Function definition is here\n",
        "def sum( arg1, arg2 ):\n",
        "   # Add both the parameters and return them.\"\n",
        "   total = arg1 + arg2; # Here total is local variable.\n",
        "   print (\"Inside the function local total : \", total)\n",
        "   return total;\n",
        "# Now you can call sum function\n",
        "sum( 10, 20 );\n",
        "print (\"Outside the function global total : \", total)"
      ],
      "execution_count": null,
      "outputs": [
        {
          "output_type": "stream",
          "text": [
            "Inside the function local total :  30\n",
            "Outside the function global total :  0\n"
          ],
          "name": "stdout"
        }
      ]
    },
    {
      "cell_type": "markdown",
      "metadata": {
        "id": "TZzmfE8nxJyM"
      },
      "source": [
        "# Passing a List as an Argument\n",
        "### You can send any data types of argument to a function (string, number, list, dictionary etc.), and it will be treated as the same data type inside the function.\n",
        "\n",
        "#### E.g. if you send a List as an argument, it will still be a List when it reaches the function:"
      ]
    },
    {
      "cell_type": "code",
      "metadata": {
        "id": "VXPyTqmPxJyN",
        "outputId": "3a8ae261-31aa-45d7-91e8-c981626feecf"
      },
      "source": [
        "def my_function(food): #here food will accept the entire fruit list as its argument\n",
        "    for x in food:\n",
        "        print(x)\n",
        "\n",
        "fruits = [\"apple\", \"banana\", \"cherry\"]\n",
        "\n",
        "my_function(fruits)"
      ],
      "execution_count": null,
      "outputs": [
        {
          "output_type": "stream",
          "text": [
            "apple\n",
            "banana\n",
            "cherry\n"
          ],
          "name": "stdout"
        }
      ]
    },
    {
      "cell_type": "markdown",
      "metadata": {
        "id": "N7dRXpq9xJyQ"
      },
      "source": [
        "# Return Values\n",
        "### To let a function return a value, use the return statement:"
      ]
    },
    {
      "cell_type": "code",
      "metadata": {
        "id": "_Kpyd8H6xJyQ",
        "outputId": "a5f148a2-c141-4530-e431-eaf01ce0f52a"
      },
      "source": [
        "def my_function(x):\n",
        "    return 5 * x, 2*x  #here the function is returning the result of multiplication \n",
        "\n",
        "value1,value2=my_function(3)\n",
        "print(value1,value2)\n",
        "print(my_function(3))\n",
        "print(my_function(5))\n",
        "print(my_function(9))"
      ],
      "execution_count": null,
      "outputs": [
        {
          "output_type": "stream",
          "text": [
            "15\n",
            "25\n",
            "45\n"
          ],
          "name": "stdout"
        }
      ]
    },
    {
      "cell_type": "markdown",
      "metadata": {
        "id": "z5-o_IYvxJyT"
      },
      "source": [
        "# The pass Statement\n",
        "### function definitions cannot be empty, but if you for some reason have a function definition with no content, put in the pass statement to avoid getting an error."
      ]
    },
    {
      "cell_type": "code",
      "metadata": {
        "id": "iMC7xdTIxJyT"
      },
      "source": [
        "def myfunction():\n",
        "    pass #If you remove this pass keyword, then you will get an error"
      ],
      "execution_count": null,
      "outputs": []
    },
    {
      "cell_type": "markdown",
      "metadata": {
        "id": "NoLhIRxqxJyW"
      },
      "source": [
        "## Example:\n",
        "\n",
        "### Write a function which adds two numbers and return the result. Using your function add 2 and 5."
      ]
    },
    {
      "cell_type": "code",
      "metadata": {
        "id": "Ub0n-WLRxJyW",
        "outputId": "4a08185d-0411-4b4c-8de1-904393188f81"
      },
      "source": [
        "def add(x,y):\n",
        "    #Return x plus y\n",
        "    return x+y\n",
        "# call function to add 2 and 5 and save the value in a local variable\n",
        "\n",
        "value = add(2,5) # save the returned value into a variable for later use. \n",
        "\n",
        "print(value/2.0) # if you call  the function without saving the return value, Python will print the value but you will lose the calculation you just did. "
      ],
      "execution_count": null,
      "outputs": [
        {
          "output_type": "stream",
          "text": [
            "3.5\n"
          ],
          "name": "stdout"
        }
      ]
    },
    {
      "cell_type": "markdown",
      "metadata": {
        "id": "UNe4o3ZLKbqb"
      },
      "source": [
        "# Functions can Call Other Functions\n",
        "It is important to understand that each of the functions we write can be used and called from other functions we write. This is one of the most important ways that computer scientists take a large problem and break it down into a group of smaller problems. This process of breaking a problem into smaller subproblems is called functional decomposition."
      ]
    },
    {
      "cell_type": "code",
      "metadata": {
        "colab": {
          "base_uri": "https://localhost:8080/"
        },
        "id": "NX5Mkl_eKdo4",
        "outputId": "00f566fa-a2de-42e0-a631-306eef66e434"
      },
      "source": [
        "def main():\n",
        "  print(\"This is the main function\")\n",
        "  texas()\n",
        "  california()\n",
        "    \n",
        "def texas():\n",
        "  birds=4000\n",
        "  print(f'texas has {birds} birds')\n",
        "    \n",
        "def california():\n",
        "  birds=3000\n",
        "  print(f'california has {birds} birds')\n",
        "    \n",
        "main()"
      ],
      "execution_count": null,
      "outputs": [
        {
          "output_type": "stream",
          "text": [
            "This is the main function\n",
            "texas has 4000 birds\n",
            "california has 3000 birds\n"
          ],
          "name": "stdout"
        }
      ]
    },
    {
      "cell_type": "code",
      "metadata": {
        "colab": {
          "base_uri": "https://localhost:8080/"
        },
        "id": "uAUAbp3lLXfZ",
        "outputId": "70b79fe7-4664-4328-f41e-d3a2595d3378"
      },
      "source": [
        "def square(val):\n",
        "  s = val * val\n",
        "  return s\n",
        "\t\n",
        "def sum_of_squares(x, y, z):\n",
        "  s1 = square(x)\n",
        "  s2 = square(y)\n",
        "  s3 = square(z)\n",
        "\t\n",
        "  return s1+s2+s3\n",
        "\n",
        "a = -5\n",
        "b = 2\n",
        "c = 10\n",
        "result = sum_of_squares(a, b, c)\n",
        "print(result)"
      ],
      "execution_count": null,
      "outputs": [
        {
          "output_type": "stream",
          "text": [
            "129\n"
          ],
          "name": "stdout"
        }
      ]
    },
    {
      "cell_type": "markdown",
      "metadata": {
        "id": "huiXSAb8GPHf"
      },
      "source": [
        "\n",
        "#Standard Library Functions and the import Statement\n",
        "- Standard library: library of pre-written functions that comes with Python\n",
        "- Library functions perform tasks that programmers commonly need\n",
        "     Example: print, input, range\n",
        "- Viewed by programmers as a “black box”\n",
        "- Some library functions built into Python interpreter\n",
        "    To use, just call the function"
      ]
    },
    {
      "cell_type": "markdown",
      "metadata": {
        "id": "Z60hiqmNGrxs"
      },
      "source": [
        "# Standard Library Functions and the import Statement \n",
        "- Modules: files that stores functions of the standard library\n",
        "    - Help organize library functions not built into the interpreter\n",
        "    - Copied to computer when you install Python\n",
        "- To call a function stored in a module, need to write an import statement\n",
        "    - Written at the top of the program\n",
        "    - Format: import module_name"
      ]
    },
    {
      "cell_type": "markdown",
      "metadata": {
        "id": "T5xBD_dDHCbZ"
      },
      "source": [
        "# Generating Random Numbers\n",
        "- Random number are useful in a lot of programming tasks\n",
        "    - random module: includes library functions for working with random numbers\n",
        "- Dot notation: notation for calling a function belonging to a module\n",
        "    - Format: module_name.function_name()\n",
        "- randint function: generates a random number in the range provided by the arguments\n",
        "    - Returns the random number to part of program that called the function\n",
        "    - Returned integer can be used anywhere that an integer would be used\n",
        "    - You can experiment with the function in interactive mode"
      ]
    },
    {
      "cell_type": "code",
      "metadata": {
        "colab": {
          "base_uri": "https://localhost:8080/"
        },
        "id": "kqXreEP8HLvt",
        "outputId": "16a98b99-2bc9-4ed2-d46d-e3161937a9fa"
      },
      "source": [
        "import random\n",
        "\n",
        "number= random.randint(1,6)\n",
        "print(f'The number is {number}')"
      ],
      "execution_count": null,
      "outputs": [
        {
          "output_type": "stream",
          "text": [
            "The number is 1\n"
          ],
          "name": "stdout"
        }
      ]
    },
    {
      "cell_type": "markdown",
      "metadata": {
        "id": "C8RtoAkoxJya"
      },
      "source": [
        "# 1.  Work on it now (in the box below)\n",
        "\n",
        "Write a function which multiplies two numbers and return the result. Using your function multiply 7 and 8."
      ]
    },
    {
      "cell_type": "code",
      "metadata": {
        "id": "gKXUxO7uxJyb"
      },
      "source": [
        ""
      ],
      "execution_count": null,
      "outputs": []
    },
    {
      "cell_type": "markdown",
      "metadata": {
        "id": "0c59fJVIxJye"
      },
      "source": [
        "# 2.  Work on it now\n",
        "\n",
        "- Using functions write a program that asks the user to enter a student's 3 test scores. Your function will take the three test scores as an input seperately in the main function and calculate the average of them by passing the argument to another function. Your calculation will be similar to \n",
        "\n",
        "$\\dfrac{80+100+70}{3}$\n"
      ]
    },
    {
      "cell_type": "code",
      "metadata": {
        "id": "CrAEZFw0xJye"
      },
      "source": [
        "   "
      ],
      "execution_count": null,
      "outputs": []
    },
    {
      "cell_type": "markdown",
      "metadata": {
        "id": "wC5ZJro8xJyi"
      },
      "source": [
        "# 3.  Work on it now (in the box below)\n",
        "\n",
        "\n",
        "- Write a function to find the area of a square. The function should take the side as input and return the area. \n",
        "\n",
        "- Write similar functions to find and return the area of other figures such as rectangle, triangle, circle.\n"
      ]
    },
    {
      "cell_type": "code",
      "metadata": {
        "id": "5bmWZ3lwxJyj"
      },
      "source": [
        "# square function (area=side*side)\n"
      ],
      "execution_count": null,
      "outputs": []
    },
    {
      "cell_type": "code",
      "metadata": {
        "id": "rMxiGNFYxJyl"
      },
      "source": [
        "# rectangle function (area=length*width)\n",
        "\n"
      ],
      "execution_count": null,
      "outputs": []
    },
    {
      "cell_type": "code",
      "metadata": {
        "id": "Fgz_4c_QxJyo"
      },
      "source": [
        "#triangle function (area=0.5*base*height)\n",
        "\n"
      ],
      "execution_count": null,
      "outputs": []
    },
    {
      "cell_type": "code",
      "metadata": {
        "id": "apSjOq9HxJyr"
      },
      "source": [
        "# circle function (area=3.14*radias**2)\n",
        "\n"
      ],
      "execution_count": null,
      "outputs": []
    },
    {
      "cell_type": "markdown",
      "metadata": {
        "id": "6ajlFl1MIh8s"
      },
      "source": [
        "# Work on it \n",
        " Using for loop and function write a program which finds a random number 6 times which is between 1 and 100."
      ]
    },
    {
      "cell_type": "code",
      "metadata": {
        "id": "TtakXyQyxJyu"
      },
      "source": [
        "# Work on it \n",
        "\n",
        "\n"
      ],
      "execution_count": null,
      "outputs": []
    },
    {
      "cell_type": "markdown",
      "metadata": {
        "id": "BaQiq3lTxJyw"
      },
      "source": [
        "## 5. Write a function called fizz_buzz that takes a number.\n",
        "- If it is divisible by both 3 and 5, it should return “FizzBuzz”.\n",
        "- If the number is divisible by only 3, it should return “Fizz”.\n",
        "- If it is divisible by only 5, it should return “Buzz”.\n",
        "- Otherwise, it should return the same number."
      ]
    },
    {
      "cell_type": "code",
      "metadata": {
        "id": "YhJd91fdxJyx"
      },
      "source": [
        ""
      ],
      "execution_count": null,
      "outputs": []
    }
  ]
}